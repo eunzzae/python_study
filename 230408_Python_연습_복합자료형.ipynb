{
 "cells": [
  {
   "cell_type": "markdown",
   "id": "c24b62c0",
   "metadata": {},
   "source": [
    "### 2.3 복합자료형\n",
    "\n",
    "#### [리스트]"
   ]
  },
  {
   "cell_type": "markdown",
   "id": "0a7801da",
   "metadata": {},
   "source": [
    "복합 자료형에는 리스트, 튜플, 딕셔너리, 집합의 자료형이 있는데, 리스트는 실무에서 가장 많이 활용한다.   \n",
    "리스트는 여러 개의 데이터를 하나의 변수에 담을 수 있다. 대괄호로[] 표현하고 대괄호 안에 실제 데이터가 들어간다. "
   ]
  },
  {
   "cell_type": "markdown",
   "id": "fe4e4b95",
   "metadata": {},
   "source": [
    "리스트는 대괄호로 표현해야 하며, 다른 괄호는 오류가 난다. "
   ]
  },
  {
   "cell_type": "code",
   "execution_count": 87,
   "id": "f7f21e0e",
   "metadata": {},
   "outputs": [
    {
     "ename": "SyntaxError",
     "evalue": "invalid syntax (387309774.py, line 4)",
     "output_type": "error",
     "traceback": [
      "\u001b[1;36m  Cell \u001b[1;32mIn[87], line 4\u001b[1;36m\u001b[0m\n\u001b[1;33m    print(food(3:5)\u001b[0m\n\u001b[1;37m                ^\u001b[0m\n\u001b[1;31mSyntaxError\u001b[0m\u001b[1;31m:\u001b[0m invalid syntax\n"
     ]
    }
   ],
   "source": [
    "test=[75,69,95,84,89]\n",
    "food=[\"milk\", \"juice\", \"rice\", \"soup\", \"cookie\"]\n",
    "print(test[2])\n",
    "print(food(3:5)"
   ]
  },
  {
   "cell_type": "code",
   "execution_count": 78,
   "id": "c0d95a95",
   "metadata": {},
   "outputs": [
    {
     "name": "stdout",
     "output_type": "stream",
     "text": [
      "l\n"
     ]
    }
   ],
   "source": [
    "print(test[2])"
   ]
  },
  {
   "cell_type": "code",
   "execution_count": 89,
   "id": "12bb2259",
   "metadata": {
    "scrolled": true
   },
   "outputs": [],
   "source": [
    "a=[]\n",
    "b=[1,2,3,4,5]\n",
    "c=[\"I\",\"like\", \"python\"]\n",
    "d=[1,2,\"python\"]\n",
    "e=[1,2,[\"python\", \"c\", \"java\"]]"
   ]
  },
  {
   "cell_type": "markdown",
   "id": "d74ac816",
   "metadata": {},
   "source": [
    "연산, 인덱싱, 슬라이싱을 복합 자료형에도 사용할 수 있다. "
   ]
  },
  {
   "cell_type": "code",
   "execution_count": 81,
   "id": "dcad79d9",
   "metadata": {},
   "outputs": [
    {
     "name": "stdout",
     "output_type": "stream",
     "text": [
      "[3, 7, 9, 4, 6, 7]\n"
     ]
    }
   ],
   "source": [
    "a=[3,7,9]\n",
    "b=[4,6,7]\n",
    "print(a+b)"
   ]
  },
  {
   "cell_type": "code",
   "execution_count": 82,
   "id": "b9443c22",
   "metadata": {},
   "outputs": [
    {
     "name": "stdout",
     "output_type": "stream",
     "text": [
      "[3, 7, 9, 3, 7, 9, 3, 7, 9]\n"
     ]
    }
   ],
   "source": [
    "print(a*3)"
   ]
  },
  {
   "cell_type": "markdown",
   "id": "f9ede902",
   "metadata": {},
   "source": [
    "리스트도 인덱싱과 슬라이싱이 가능하다. "
   ]
  },
  {
   "cell_type": "code",
   "execution_count": 83,
   "id": "3a22f5f9",
   "metadata": {},
   "outputs": [],
   "source": [
    "test=[75,69,95,84,89]\n",
    "food=[\"milk\",\"juice\",\"rice\",\"soup\",\"cookie\"]"
   ]
  },
  {
   "cell_type": "code",
   "execution_count": 84,
   "id": "84b8343a",
   "metadata": {},
   "outputs": [
    {
     "name": "stdout",
     "output_type": "stream",
     "text": [
      "95\n"
     ]
    }
   ],
   "source": [
    "print(test[2])"
   ]
  },
  {
   "cell_type": "code",
   "execution_count": 85,
   "id": "23f2f43c",
   "metadata": {},
   "outputs": [
    {
     "name": "stdout",
     "output_type": "stream",
     "text": [
      "['soup', 'cookie']\n"
     ]
    }
   ],
   "source": [
    "print(food[3:5])"
   ]
  },
  {
   "cell_type": "markdown",
   "id": "e53dffe8",
   "metadata": {},
   "source": [
    "중첩 리스트도 인덱싱과 슬라이싱을 할 수 있다. 중첩리스트는 리스트 안에 리스트가 있는 구조이며, **리스트 안의 리스트는 하나의 데이터**로 취급된다. "
   ]
  },
  {
   "cell_type": "code",
   "execution_count": 90,
   "id": "3335574b",
   "metadata": {},
   "outputs": [
    {
     "name": "stdout",
     "output_type": "stream",
     "text": [
      "['python', 'C', 'java']\n",
      "['python', 'C']\n"
     ]
    }
   ],
   "source": [
    "a=[1,2,[\"python\",\"C\",\"java\"]]\n",
    "print(a[2])\n",
    "print(a[2][:2])"
   ]
  },
  {
   "cell_type": "markdown",
   "id": "36a56a83",
   "metadata": {},
   "source": [
    "리스트의 변경과 삭제가 가능하다. 변수명[위치]=변경할 값이고, 리스트 내의 데이터를 삭제하려면 del명령문을 사용한다. "
   ]
  },
  {
   "cell_type": "code",
   "execution_count": 91,
   "id": "42f9d37e",
   "metadata": {},
   "outputs": [
    {
     "name": "stdout",
     "output_type": "stream",
     "text": [
      "[1, 3, 5, 8, 6, 2, 4]\n"
     ]
    }
   ],
   "source": [
    "a=[1,3,5,7,6,2,4]\n",
    "a[3]=8\n",
    "print(a)"
   ]
  },
  {
   "cell_type": "code",
   "execution_count": 92,
   "id": "3a63bacf",
   "metadata": {},
   "outputs": [
    {
     "name": "stdout",
     "output_type": "stream",
     "text": [
      "[1, 3, 5, 7, 5, 2]\n"
     ]
    }
   ],
   "source": [
    "a=[1,3,5,9,7,5,2]\n",
    "del a[3]\n",
    "print(a)"
   ]
  },
  {
   "cell_type": "markdown",
   "id": "5413ad7e",
   "metadata": {},
   "source": [
    "리스트 자료형에 다양한 함수를 붙여, 데이터 추가, 원하는 위치에 데이터 삽입, 데이터 삭제를 할 수 있다.   \n",
    "변수명.함수명(x) 이 때 x는 데이터(숫자, 문자열, 리스트 또는 인덱스 값)"
   ]
  },
  {
   "cell_type": "code",
   "execution_count": 93,
   "id": "a6f4318a",
   "metadata": {},
   "outputs": [
    {
     "name": "stdout",
     "output_type": "stream",
     "text": [
      "[1, 2, 3, 4, 3]\n"
     ]
    }
   ],
   "source": [
    "a=[1,2,3,4]\n",
    "a.append(3)\n",
    "print(a)"
   ]
  },
  {
   "cell_type": "code",
   "execution_count": 94,
   "id": "2394dfa9",
   "metadata": {},
   "outputs": [
    {
     "ename": "SyntaxError",
     "evalue": "invalid syntax. Perhaps you forgot a comma? (1844009871.py, line 1)",
     "output_type": "error",
     "traceback": [
      "\u001b[1;36m  Cell \u001b[1;32mIn[94], line 1\u001b[1;36m\u001b[0m\n\u001b[1;33m    a.append([3.5.9])\u001b[0m\n\u001b[1;37m              ^\u001b[0m\n\u001b[1;31mSyntaxError\u001b[0m\u001b[1;31m:\u001b[0m invalid syntax. Perhaps you forgot a comma?\n"
     ]
    }
   ],
   "source": [
    "a.append([3.5.9])\n",
    "print(a)"
   ]
  },
  {
   "cell_type": "markdown",
   "id": "905de8b2",
   "metadata": {},
   "source": [
    "append()함수를 이용하여 리스트 변수의 마지막에 데이터를 추가할 수 있다. 또한 append()함수 안에 리스트를 입력하면 중첩리스트를 만들 수 있다."
   ]
  },
  {
   "cell_type": "code",
   "execution_count": 95,
   "id": "39514878",
   "metadata": {},
   "outputs": [
    {
     "name": "stdout",
     "output_type": "stream",
     "text": [
      "[1, 2, 3, 4, 3, [3, 5, 9]]\n"
     ]
    }
   ],
   "source": [
    "a.append([3,5,9])\n",
    "print(a)"
   ]
  },
  {
   "cell_type": "markdown",
   "id": "3842c852",
   "metadata": {},
   "source": [
    "insert()함수는 원하는 위치에 데이터 추가할 수 있다. a.insert(원하는 인덱스 위치, 삽입변수)"
   ]
  },
  {
   "cell_type": "code",
   "execution_count": 96,
   "id": "f54989e7",
   "metadata": {},
   "outputs": [
    {
     "name": "stdout",
     "output_type": "stream",
     "text": [
      "[7, 1, 2, 3, 4]\n"
     ]
    }
   ],
   "source": [
    "a=[1,2,3,4]\n",
    "a.insert(0,7)\n",
    "print(a)"
   ]
  },
  {
   "cell_type": "markdown",
   "id": "3473acb9",
   "metadata": {},
   "source": [
    "remove()함수는 리스트 안에 일치하는 데이터를 삽입할 수 있다. 리스트 변수 a에서 첫번째 일치하는 값을 삭제할 수 있다. "
   ]
  },
  {
   "cell_type": "code",
   "execution_count": 97,
   "id": "e414e4ab",
   "metadata": {},
   "outputs": [
    {
     "name": "stdout",
     "output_type": "stream",
     "text": [
      "[1, 2, 3, 5, 4, 3, 2, 1]\n"
     ]
    }
   ],
   "source": [
    "a=[1,2,3,4,5,4,3,2,1]\n",
    "a.remove(4)\n",
    "print(a)"
   ]
  },
  {
   "cell_type": "markdown",
   "id": "1d413251",
   "metadata": {},
   "source": [
    "a.sort()함수를 사용하면 리스트 안의 변수를 오름차순으로, a.sort(reverse=True)함수를 사용하면 내림차순으로 변경된다.   \n",
    "a.recerse()함수를 사용하면 현재 데이터의 순서를 뒤집는다. "
   ]
  },
  {
   "cell_type": "code",
   "execution_count": 98,
   "id": "dbae0d81",
   "metadata": {},
   "outputs": [
    {
     "name": "stdout",
     "output_type": "stream",
     "text": [
      "[1, 2, 3, 4, 5, 6, 7]\n"
     ]
    }
   ],
   "source": [
    "a=[1,3,5,7,6,2,4]\n",
    "a.sort()\n",
    "print(a)"
   ]
  },
  {
   "cell_type": "code",
   "execution_count": 99,
   "id": "9bcd469d",
   "metadata": {},
   "outputs": [
    {
     "name": "stdout",
     "output_type": "stream",
     "text": [
      "[9, 8, 7, 6, 6, 5, 3, 1, 1]\n"
     ]
    }
   ],
   "source": [
    "a=[1,3,8,6,7,1,5,6,9]\n",
    "a.sort(reverse=True)\n",
    "print(a)"
   ]
  },
  {
   "cell_type": "code",
   "execution_count": 100,
   "id": "dbc68dcb",
   "metadata": {},
   "outputs": [
    {
     "name": "stdout",
     "output_type": "stream",
     "text": [
      "[6, 8, 4, 2, 6, 7, 5, 3, 1]\n"
     ]
    }
   ],
   "source": [
    "a=[1,3,5,7,6,2,4,8,6]\n",
    "a.reverse()\n",
    "print(a)"
   ]
  },
  {
   "cell_type": "markdown",
   "id": "e7372098",
   "metadata": {},
   "source": [
    "pop()함수는 리스트에서 맨 마지막에 있는 데이터를 보여주거나, x번 인덱스에 있는 데이터를 보여주고 그 데이터를 삭제한다.   \n",
    "pop()의 괄호안에 값이 없으면 맨 마지막 데이터를 삭제한다. "
   ]
  },
  {
   "cell_type": "code",
   "execution_count": 101,
   "id": "61946088",
   "metadata": {},
   "outputs": [
    {
     "name": "stdout",
     "output_type": "stream",
     "text": [
      "4\n",
      "[1, 5, 3, 5, 8, 7, 6]\n"
     ]
    }
   ],
   "source": [
    "a=[1,5,3,5,8,7,6,4]\n",
    "print(a.pop())\n",
    "print(a)"
   ]
  },
  {
   "cell_type": "markdown",
   "id": "c7b2a6b8",
   "metadata": {},
   "source": [
    "pop(x)가 있으면 x번의 인덱스 값을 보여주고 그 데이터를 삭제한다. "
   ]
  },
  {
   "cell_type": "code",
   "execution_count": 102,
   "id": "23f888b1",
   "metadata": {},
   "outputs": [
    {
     "name": "stdout",
     "output_type": "stream",
     "text": [
      "2\n",
      "[5, 6, 5, 1, 7, 3, 5]\n"
     ]
    }
   ],
   "source": [
    "a=[5,6,5,1,7,2,3,5]\n",
    "print(a.pop(5))\n",
    "print(a)"
   ]
  },
  {
   "cell_type": "markdown",
   "id": "ec761e1f",
   "metadata": {},
   "source": [
    "extend()함수는 리스트 끝에 다른 리스트의 데이터를 추가할 수 있다.   \n",
    "append()함수는 리스트 끝에 **하나**의 데이터를 extend()함수는 리스트 끝에 **여러** 데이터를 추가할 수 있다. "
   ]
  },
  {
   "cell_type": "code",
   "execution_count": 103,
   "id": "acb48a91",
   "metadata": {},
   "outputs": [
    {
     "name": "stdout",
     "output_type": "stream",
     "text": [
      "[1, 3, 5, 9, 7, 5, 6, 5, 6, 8]\n"
     ]
    }
   ],
   "source": [
    "a=[1,3,5,9,7,5,6]\n",
    "a.extend([5,6,8])\n",
    "print(a)"
   ]
  },
  {
   "cell_type": "code",
   "execution_count": 104,
   "id": "09f10a3d",
   "metadata": {},
   "outputs": [
    {
     "name": "stdout",
     "output_type": "stream",
     "text": [
      "[6, 5, 7, 2, 3, 5, 9, 8, 7]\n"
     ]
    }
   ],
   "source": [
    "a=[6,5,7,2,3,5]\n",
    "b=[9,8,7]\n",
    "a.extend(b)\n",
    "print(a)"
   ]
  },
  {
   "cell_type": "markdown",
   "id": "84ace344",
   "metadata": {},
   "source": [
    "#### [튜플]"
   ]
  },
  {
   "cell_type": "markdown",
   "id": "47b8442e",
   "metadata": {},
   "source": [
    "튜플 자료형은 여러 개의 자료를 묶어 하나로 처리하는 유형. 리스트는 대괄호[]로 표현하지만 튜플은 소괄호()로 표현한다.   \n",
    "리스트는 리스트 내의 데이터를 추가, 삭제, 수정할수 있지만, 튜플은 수정이 불가하다. \n",
    "\n",
    "변수명 = (데이터1, 데이터2, 데이터3,...)  \n",
    "\n",
    "tp1=( )  \n",
    "tp2=(1, ) #데이터가 하나만 있는 튜플의 경우 데이터 뒤 **쉼표** 필수 입력  \n",
    "tp3=(1,2,3)  \n",
    "tp4=1,2,3  #괄호 생략 가능  \n",
    "tp5=(\"a\",\"b\",(\"ab\",\"cd\")) "
   ]
  },
  {
   "cell_type": "code",
   "execution_count": 105,
   "id": "18f4044d",
   "metadata": {},
   "outputs": [
    {
     "name": "stdout",
     "output_type": "stream",
     "text": [
      "(1, 2, 3, 'a', 'b', 'c', 4, 5, 6)\n",
      "(1, 2, 3, 'a', 'b', 'c', 1, 2, 3, 'a', 'b', 'c')\n"
     ]
    }
   ],
   "source": [
    "tp1=(1,2,3,\"a\",\"b\",\"c\")\n",
    "tp2=(4,5,6)\n",
    "print(tp1+tp2)\n",
    "print(tp1*2)"
   ]
  },
  {
   "cell_type": "code",
   "execution_count": 107,
   "id": "4b566f27",
   "metadata": {},
   "outputs": [
    {
     "name": "stdout",
     "output_type": "stream",
     "text": [
      "('ab', 'vd', 'df')\n",
      "('ab', 'vd')\n"
     ]
    }
   ],
   "source": [
    "tp=(1,2,(\"ab\",\"vd\",\"df\"),3,\"a\",\"b\",\"v\")\n",
    "print(tp[2])\n",
    "print(tp[2][:2])"
   ]
  },
  {
   "cell_type": "markdown",
   "id": "8854bbd8",
   "metadata": {},
   "source": [
    "#### [딕셔너리]  \n",
    "\n",
    "딕셔너리 자료형은 사전 형식을 가지고 있다.  \n",
    "딕셔너리 자료형도 찾을 단어에 해당하는 key 값과 단어 뜻에 해당하는 value 값으로 구성되어 있다.  \n",
    "\n",
    "중괄호{}를 사용하고, key와 value 값을 쌍으로 찾는다.   \n",
    "\n",
    "변수명 = {Key1:Value1, Key2:Value2, Key3:Value3,...}  \n",
    "이 때, Key는 변하지 않는 값이어야 하고, Value는 변하는 값이나 변하지 않는 값 모두 가능하다. "
   ]
  },
  {
   "cell_type": "code",
   "execution_count": 121,
   "id": "c03867fd",
   "metadata": {},
   "outputs": [],
   "source": [
    "dict1={\"name\":\"Lee\",\"age\":29,\"birth\":\"0320\"}\n",
    "dict2={1:\"ab\"} #Key에 정수형, Value에 문자형 자료\n",
    "dict3={\"test\":[1,3,5,7]} #Value에 리스트 자료형 "
   ]
  },
  {
   "cell_type": "markdown",
   "id": "87e4551e",
   "metadata": {},
   "source": [
    "dict에 데이터 쌍을 추가하라. "
   ]
  },
  {
   "cell_type": "code",
   "execution_count": 124,
   "id": "0d16b16e",
   "metadata": {},
   "outputs": [
    {
     "name": "stdout",
     "output_type": "stream",
     "text": [
      "[1, 2]\n"
     ]
    }
   ],
   "source": [
    "my_dict={\"a\":[1,2],\"b\":[3,4],\"c\":[5,6]}\n",
    "print(my_dict[\"a\"])"
   ]
  },
  {
   "cell_type": "code",
   "execution_count": 125,
   "id": "4421a270",
   "metadata": {},
   "outputs": [
    {
     "name": "stdout",
     "output_type": "stream",
     "text": [
      "{'a': [1, 2], 'b': [3, 4]}\n"
     ]
    }
   ],
   "source": [
    "my_dict2={\"a\":[1,2]}\n",
    "my_dict2[\"b\"]=[3,4]\n",
    "print(my_dict2)"
   ]
  },
  {
   "cell_type": "code",
   "execution_count": 127,
   "id": "f60b4b58",
   "metadata": {},
   "outputs": [
    {
     "name": "stdout",
     "output_type": "stream",
     "text": [
      "{'a': [1, 2], 'b': [3, 4], 'c': [5, 6]}\n"
     ]
    }
   ],
   "source": [
    "my_dict3={\"a\":[1,2],\"b\":[3,4],\"c\":[5,6]}\n",
    "print(dict)"
   ]
  },
  {
   "cell_type": "code",
   "execution_count": 128,
   "id": "927d829a",
   "metadata": {},
   "outputs": [
    {
     "data": {
      "text/plain": [
       "{'a': 2, 'b': 4, 'c': 6}"
      ]
     },
     "execution_count": 128,
     "metadata": {},
     "output_type": "execute_result"
    }
   ],
   "source": [
    "list1=[[\"a\",2],[\"b\",4],[\"c\",6]]\n",
    "dict(list1)"
   ]
  },
  {
   "cell_type": "code",
   "execution_count": 129,
   "id": "a987d39e",
   "metadata": {},
   "outputs": [
    {
     "data": {
      "text/plain": [
       "{'a': 2, 'b': 5, 'c': 4}"
      ]
     },
     "execution_count": 129,
     "metadata": {},
     "output_type": "execute_result"
    }
   ],
   "source": [
    "list2=[(\"a\",2),(\"b\",5),(\"c\",4)]\n",
    "dict(list2)"
   ]
  },
  {
   "cell_type": "code",
   "execution_count": 1,
   "id": "0a996013",
   "metadata": {},
   "outputs": [
    {
     "data": {
      "text/plain": [
       "{'a': 2, 'b': 4, 'c': 6}"
      ]
     },
     "execution_count": 1,
     "metadata": {},
     "output_type": "execute_result"
    }
   ],
   "source": [
    "tp1=([\"a\",2],[\"b\",4],[\"c\",6])\n",
    "dict(tp1)"
   ]
  },
  {
   "cell_type": "code",
   "execution_count": 2,
   "id": "fa68e9d4",
   "metadata": {},
   "outputs": [
    {
     "data": {
      "text/plain": [
       "{'a': 2, 'b': 4, 'c': 6}"
      ]
     },
     "execution_count": 2,
     "metadata": {},
     "output_type": "execute_result"
    }
   ],
   "source": [
    "tp2=((\"a\",2),(\"b\",4),(\"c\",6))\n",
    "dict(tp2)"
   ]
  },
  {
   "cell_type": "markdown",
   "id": "c898f4ca",
   "metadata": {},
   "source": [
    "딕셔너리 자료형은 순서가 없기 떄문에 인덱스로 데이터를 추출할 수 없다.   \n",
    "그러나 Key 와 Value를 추출하기 위해 여러 함수를 사용할 수 있다. "
   ]
  },
  {
   "cell_type": "markdown",
   "id": "65ec5468",
   "metadata": {},
   "source": [
    "Key()와 Value()함수"
   ]
  },
  {
   "cell_type": "code",
   "execution_count": 4,
   "id": "507247e6",
   "metadata": {},
   "outputs": [
    {
     "name": "stdout",
     "output_type": "stream",
     "text": [
      "dict_keys(['name', 'age', 'birth'])\n",
      "['name', 'age', 'birth']\n"
     ]
    }
   ],
   "source": [
    "dict1={\"name\":\"Lee\",\"age\":20,\"birth\":\"0320\"}\n",
    "print(dict1.keys())\n",
    "print(list(dict1.keys()))"
   ]
  },
  {
   "cell_type": "code",
   "execution_count": 6,
   "id": "9021d561",
   "metadata": {},
   "outputs": [
    {
     "data": {
      "text/plain": [
       "['Lee', 20, '0320']"
      ]
     },
     "execution_count": 6,
     "metadata": {},
     "output_type": "execute_result"
    }
   ],
   "source": [
    "list(dict1.values())"
   ]
  },
  {
   "cell_type": "markdown",
   "id": "df48fa0c",
   "metadata": {},
   "source": [
    "Items()함수"
   ]
  },
  {
   "cell_type": "code",
   "execution_count": 7,
   "id": "9fa026a5",
   "metadata": {},
   "outputs": [
    {
     "data": {
      "text/plain": [
       "dict_items([('name', 'Lee'), ('age', 20), ('birth', '0320')])"
      ]
     },
     "execution_count": 7,
     "metadata": {},
     "output_type": "execute_result"
    }
   ],
   "source": [
    "dict2={\"name\":\"Lee\",\"age\":20,\"birth\":\"0320\"}\n",
    "dict2.items()"
   ]
  },
  {
   "cell_type": "markdown",
   "id": "9e3fc76f",
   "metadata": {},
   "source": [
    "Clear()함수는 Key와 Value를 모두 지울 수 있다. "
   ]
  },
  {
   "cell_type": "code",
   "execution_count": 8,
   "id": "62b92a75",
   "metadata": {},
   "outputs": [
    {
     "name": "stdout",
     "output_type": "stream",
     "text": [
      "{}\n"
     ]
    }
   ],
   "source": [
    "dict3={\"name\":\"Lee\",\"age\":20,\"birth\":\"0228\"}\n",
    "dict3.clear()\n",
    "print(dict3)"
   ]
  },
  {
   "cell_type": "markdown",
   "id": "9abe4c00",
   "metadata": {},
   "source": [
    "집합(Set) 자료형은 집합과 관련된 것을 표현한다. \n",
    "괄호()안에는 리스트나 문자열이 온다.   \n",
    "\n",
    "숫자로 된 리스트를 만들어 집합으로 지정하거나 문자열을 집합으로 지정하면, 개별 문자로 분해되고 중복 문자는 제거된다. "
   ]
  },
  {
   "cell_type": "code",
   "execution_count": 9,
   "id": "aa181c8e",
   "metadata": {},
   "outputs": [
    {
     "name": "stdout",
     "output_type": "stream",
     "text": [
      "{1, 2, 3, 4, 5, 6}\n"
     ]
    }
   ],
   "source": [
    "set1=set([1,2,3,4,5,6,3])\n",
    "print(set1)"
   ]
  },
  {
   "cell_type": "code",
   "execution_count": 10,
   "id": "70c8a6ae",
   "metadata": {},
   "outputs": [
    {
     "name": "stdout",
     "output_type": "stream",
     "text": [
      "{'u', 'b', 'o', 'l', ' ', 's', 'c', 'h'}\n"
     ]
    }
   ],
   "source": [
    "set2=set(\"school bus\")\n",
    "print(set2)"
   ]
  },
  {
   "cell_type": "markdown",
   "id": "d0ed254e",
   "metadata": {},
   "source": [
    "set 자료형의 교집합"
   ]
  },
  {
   "cell_type": "code",
   "execution_count": 11,
   "id": "47b2cf2e",
   "metadata": {},
   "outputs": [
    {
     "name": "stdout",
     "output_type": "stream",
     "text": [
      "{3, 4, 5, 6}\n",
      "{3, 4, 5, 6}\n"
     ]
    }
   ],
   "source": [
    "set1=set([1,2,4,5,6,3,5,3])\n",
    "set2=set([6,4,7,8,3,5,4])\n",
    "print(set1&set2)\n",
    "print(set1.intersection(set2))"
   ]
  },
  {
   "cell_type": "code",
   "execution_count": 12,
   "id": "a76c0e91",
   "metadata": {},
   "outputs": [
    {
     "name": "stdout",
     "output_type": "stream",
     "text": [
      "{1, 2, 3, 4, 5, 6, 7, 8}\n"
     ]
    }
   ],
   "source": [
    "print(set1|set2)"
   ]
  },
  {
   "cell_type": "code",
   "execution_count": 13,
   "id": "3f12f72c",
   "metadata": {},
   "outputs": [
    {
     "name": "stdout",
     "output_type": "stream",
     "text": [
      "{1, 2}\n"
     ]
    }
   ],
   "source": [
    "print(set1-set2)"
   ]
  },
  {
   "cell_type": "code",
   "execution_count": 14,
   "id": "82752918",
   "metadata": {},
   "outputs": [
    {
     "name": "stdout",
     "output_type": "stream",
     "text": [
      "{8, 7}\n"
     ]
    }
   ],
   "source": [
    "print(set2-set1)"
   ]
  },
  {
   "cell_type": "code",
   "execution_count": null,
   "id": "8e721dfd",
   "metadata": {},
   "outputs": [],
   "source": []
  }
 ],
 "metadata": {
  "kernelspec": {
   "display_name": "Python 3 (ipykernel)",
   "language": "python",
   "name": "python3"
  },
  "language_info": {
   "codemirror_mode": {
    "name": "ipython",
    "version": 3
   },
   "file_extension": ".py",
   "mimetype": "text/x-python",
   "name": "python",
   "nbconvert_exporter": "python",
   "pygments_lexer": "ipython3",
   "version": "3.10.9"
  }
 },
 "nbformat": 4,
 "nbformat_minor": 5
}
