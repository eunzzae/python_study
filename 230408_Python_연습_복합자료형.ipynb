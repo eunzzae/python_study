{
  "cells": [
    {
      "cell_type": "markdown",
      "metadata": {
        "id": "view-in-github",
        "colab_type": "text"
      },
      "source": [
        "<a href=\"https://colab.research.google.com/github/eunzzae/python_study/blob/main/230408_Python_%EC%97%B0%EC%8A%B5_%EB%B3%B5%ED%95%A9%EC%9E%90%EB%A3%8C%ED%98%95.ipynb\" target=\"_parent\"><img src=\"https://colab.research.google.com/assets/colab-badge.svg\" alt=\"Open In Colab\"/></a>"
      ]
    },
    {
      "cell_type": "markdown",
      "id": "c24b62c0",
      "metadata": {
        "id": "c24b62c0"
      },
      "source": [
        "### 2.3 복합자료형\n",
        "\n",
        "#### [리스트]"
      ]
    },
    {
      "cell_type": "markdown",
      "id": "0a7801da",
      "metadata": {
        "id": "0a7801da"
      },
      "source": [
        "복합 자료형에는 리스트, 튜플, 딕셔너리, 집합의 자료형이 있는데, 리스트는 실무에서 가장 많이 활용한다.   \n",
        "리스트는 여러 개의 데이터를 하나의 변수에 담을 수 있다. 대괄호로[] 표현하고 대괄호 안에 실제 데이터가 들어간다."
      ]
    },
    {
      "cell_type": "markdown",
      "id": "fe4e4b95",
      "metadata": {
        "id": "fe4e4b95"
      },
      "source": [
        "리스트는 대괄호로 표현해야 하며, 다른 괄호는 오류가 난다."
      ]
    },
    {
      "cell_type": "code",
      "execution_count": null,
      "id": "f7f21e0e",
      "metadata": {
        "id": "f7f21e0e",
        "outputId": "91f9fdbe-2383-4d1b-cb26-f49ff142a81a"
      },
      "outputs": [
        {
          "ename": "SyntaxError",
          "evalue": "invalid syntax (387309774.py, line 4)",
          "output_type": "error",
          "traceback": [
            "\u001b[1;36m  Cell \u001b[1;32mIn[87], line 4\u001b[1;36m\u001b[0m\n\u001b[1;33m    print(food(3:5)\u001b[0m\n\u001b[1;37m                ^\u001b[0m\n\u001b[1;31mSyntaxError\u001b[0m\u001b[1;31m:\u001b[0m invalid syntax\n"
          ]
        }
      ],
      "source": [
        "test=[75,69,95,84,89]\n",
        "food=[\"milk\", \"juice\", \"rice\", \"soup\", \"cookie\"]\n",
        "print(test[2])\n",
        "print(food(3:5)"
      ]
    },
    {
      "cell_type": "code",
      "execution_count": null,
      "id": "c0d95a95",
      "metadata": {
        "id": "c0d95a95",
        "outputId": "792cc22a-4cc5-4388-bbfe-aa0e090c0dbe"
      },
      "outputs": [
        {
          "name": "stdout",
          "output_type": "stream",
          "text": [
            "l\n"
          ]
        }
      ],
      "source": [
        "print(test[2])"
      ]
    },
    {
      "cell_type": "code",
      "execution_count": null,
      "id": "12bb2259",
      "metadata": {
        "scrolled": true,
        "id": "12bb2259"
      },
      "outputs": [],
      "source": [
        "a=[]\n",
        "b=[1,2,3,4,5]\n",
        "c=[\"I\",\"like\", \"python\"]\n",
        "d=[1,2,\"python\"]\n",
        "e=[1,2,[\"python\", \"c\", \"java\"]]"
      ]
    },
    {
      "cell_type": "markdown",
      "id": "d74ac816",
      "metadata": {
        "id": "d74ac816"
      },
      "source": [
        "연산, 인덱싱, 슬라이싱을 복합 자료형에도 사용할 수 있다."
      ]
    },
    {
      "cell_type": "code",
      "execution_count": null,
      "id": "dcad79d9",
      "metadata": {
        "id": "dcad79d9",
        "outputId": "993351a6-7c6c-497d-c0bf-dcbeb4004493"
      },
      "outputs": [
        {
          "name": "stdout",
          "output_type": "stream",
          "text": [
            "[3, 7, 9, 4, 6, 7]\n"
          ]
        }
      ],
      "source": [
        "a=[3,7,9]\n",
        "b=[4,6,7]\n",
        "print(a+b)"
      ]
    },
    {
      "cell_type": "code",
      "execution_count": null,
      "id": "b9443c22",
      "metadata": {
        "id": "b9443c22",
        "outputId": "0c0e844a-87d5-42d4-80fa-9a844e3e60de"
      },
      "outputs": [
        {
          "name": "stdout",
          "output_type": "stream",
          "text": [
            "[3, 7, 9, 3, 7, 9, 3, 7, 9]\n"
          ]
        }
      ],
      "source": [
        "print(a*3)"
      ]
    },
    {
      "cell_type": "markdown",
      "id": "f9ede902",
      "metadata": {
        "id": "f9ede902"
      },
      "source": [
        "리스트도 인덱싱과 슬라이싱이 가능하다."
      ]
    },
    {
      "cell_type": "code",
      "execution_count": null,
      "id": "3a22f5f9",
      "metadata": {
        "id": "3a22f5f9"
      },
      "outputs": [],
      "source": [
        "test=[75,69,95,84,89]\n",
        "food=[\"milk\",\"juice\",\"rice\",\"soup\",\"cookie\"]"
      ]
    },
    {
      "cell_type": "code",
      "execution_count": null,
      "id": "84b8343a",
      "metadata": {
        "id": "84b8343a",
        "outputId": "5a343ef6-5580-4345-f837-1e2ec0c6c3cb"
      },
      "outputs": [
        {
          "name": "stdout",
          "output_type": "stream",
          "text": [
            "95\n"
          ]
        }
      ],
      "source": [
        "print(test[2])"
      ]
    },
    {
      "cell_type": "code",
      "execution_count": null,
      "id": "23f2f43c",
      "metadata": {
        "id": "23f2f43c",
        "outputId": "4a834d08-10f5-4b3d-d057-69bcd04edebe"
      },
      "outputs": [
        {
          "name": "stdout",
          "output_type": "stream",
          "text": [
            "['soup', 'cookie']\n"
          ]
        }
      ],
      "source": [
        "print(food[3:5])"
      ]
    },
    {
      "cell_type": "markdown",
      "id": "e53dffe8",
      "metadata": {
        "id": "e53dffe8"
      },
      "source": [
        "중첩 리스트도 인덱싱과 슬라이싱을 할 수 있다. 중첩리스트는 리스트 안에 리스트가 있는 구조이며, **리스트 안의 리스트는 하나의 데이터**로 취급된다."
      ]
    },
    {
      "cell_type": "code",
      "execution_count": null,
      "id": "3335574b",
      "metadata": {
        "id": "3335574b",
        "outputId": "07a4ee14-da84-403d-bfbd-f902b47fcd51"
      },
      "outputs": [
        {
          "name": "stdout",
          "output_type": "stream",
          "text": [
            "['python', 'C', 'java']\n",
            "['python', 'C']\n"
          ]
        }
      ],
      "source": [
        "a=[1,2,[\"python\",\"C\",\"java\"]]\n",
        "print(a[2])\n",
        "print(a[2][:2])"
      ]
    },
    {
      "cell_type": "markdown",
      "id": "36a56a83",
      "metadata": {
        "id": "36a56a83"
      },
      "source": [
        "리스트의 변경과 삭제가 가능하다. 변수명[위치]=변경할 값이고, 리스트 내의 데이터를 삭제하려면 del명령문을 사용한다."
      ]
    },
    {
      "cell_type": "code",
      "execution_count": null,
      "id": "42f9d37e",
      "metadata": {
        "id": "42f9d37e",
        "outputId": "90463d17-3ac4-47f8-e104-ce657770b660"
      },
      "outputs": [
        {
          "name": "stdout",
          "output_type": "stream",
          "text": [
            "[1, 3, 5, 8, 6, 2, 4]\n"
          ]
        }
      ],
      "source": [
        "a=[1,3,5,7,6,2,4]\n",
        "a[3]=8\n",
        "print(a)"
      ]
    },
    {
      "cell_type": "code",
      "execution_count": null,
      "id": "3a63bacf",
      "metadata": {
        "id": "3a63bacf",
        "outputId": "c7d19c47-831c-4635-e2c6-600d7f8351f1"
      },
      "outputs": [
        {
          "name": "stdout",
          "output_type": "stream",
          "text": [
            "[1, 3, 5, 7, 5, 2]\n"
          ]
        }
      ],
      "source": [
        "a=[1,3,5,9,7,5,2]\n",
        "del a[3]\n",
        "print(a)"
      ]
    },
    {
      "cell_type": "markdown",
      "id": "5413ad7e",
      "metadata": {
        "id": "5413ad7e"
      },
      "source": [
        "리스트 자료형에 다양한 함수를 붙여, 데이터 추가, 원하는 위치에 데이터 삽입, 데이터 삭제를 할 수 있다.   \n",
        "변수명.함수명(x) 이 때 x는 데이터(숫자, 문자열, 리스트 또는 인덱스 값)"
      ]
    },
    {
      "cell_type": "code",
      "execution_count": null,
      "id": "a6f4318a",
      "metadata": {
        "id": "a6f4318a",
        "outputId": "df185cd9-fc87-4628-d3f8-d6eb9335939a"
      },
      "outputs": [
        {
          "name": "stdout",
          "output_type": "stream",
          "text": [
            "[1, 2, 3, 4, 3]\n"
          ]
        }
      ],
      "source": [
        "a=[1,2,3,4]\n",
        "a.append(3)\n",
        "print(a)"
      ]
    },
    {
      "cell_type": "code",
      "execution_count": null,
      "id": "2394dfa9",
      "metadata": {
        "id": "2394dfa9",
        "outputId": "819c09c3-2a52-40ec-d49d-0b770cdc4bf5"
      },
      "outputs": [
        {
          "ename": "SyntaxError",
          "evalue": "invalid syntax. Perhaps you forgot a comma? (1844009871.py, line 1)",
          "output_type": "error",
          "traceback": [
            "\u001b[1;36m  Cell \u001b[1;32mIn[94], line 1\u001b[1;36m\u001b[0m\n\u001b[1;33m    a.append([3.5.9])\u001b[0m\n\u001b[1;37m              ^\u001b[0m\n\u001b[1;31mSyntaxError\u001b[0m\u001b[1;31m:\u001b[0m invalid syntax. Perhaps you forgot a comma?\n"
          ]
        }
      ],
      "source": [
        "a.append([3.5.9])\n",
        "print(a)"
      ]
    },
    {
      "cell_type": "markdown",
      "id": "905de8b2",
      "metadata": {
        "id": "905de8b2"
      },
      "source": [
        "append()함수를 이용하여 리스트 변수의 마지막에 데이터를 추가할 수 있다. 또한 append()함수 안에 리스트를 입력하면 중첩리스트를 만들 수 있다."
      ]
    },
    {
      "cell_type": "code",
      "execution_count": null,
      "id": "39514878",
      "metadata": {
        "id": "39514878",
        "outputId": "34d6a291-6088-422a-ed31-3fcaf1dea28c"
      },
      "outputs": [
        {
          "name": "stdout",
          "output_type": "stream",
          "text": [
            "[1, 2, 3, 4, 3, [3, 5, 9]]\n"
          ]
        }
      ],
      "source": [
        "a.append([3,5,9])\n",
        "print(a)"
      ]
    },
    {
      "cell_type": "markdown",
      "id": "3842c852",
      "metadata": {
        "id": "3842c852"
      },
      "source": [
        "insert()함수는 원하는 위치에 데이터 추가할 수 있다. a.insert(원하는 인덱스 위치, 삽입변수)"
      ]
    },
    {
      "cell_type": "code",
      "execution_count": null,
      "id": "f54989e7",
      "metadata": {
        "id": "f54989e7",
        "outputId": "16011eb6-a0e9-44d4-82fc-55f38f6cf05c"
      },
      "outputs": [
        {
          "name": "stdout",
          "output_type": "stream",
          "text": [
            "[7, 1, 2, 3, 4]\n"
          ]
        }
      ],
      "source": [
        "a=[1,2,3,4]\n",
        "a.insert(0,7)\n",
        "print(a)"
      ]
    },
    {
      "cell_type": "markdown",
      "id": "3473acb9",
      "metadata": {
        "id": "3473acb9"
      },
      "source": [
        "remove()함수는 리스트 안에 일치하는 데이터를 삽입할 수 있다. 리스트 변수 a에서 첫번째 일치하는 값을 삭제할 수 있다."
      ]
    },
    {
      "cell_type": "code",
      "execution_count": null,
      "id": "e414e4ab",
      "metadata": {
        "id": "e414e4ab",
        "outputId": "2fbd8a91-6ea1-42a6-9861-61770c8b17db"
      },
      "outputs": [
        {
          "name": "stdout",
          "output_type": "stream",
          "text": [
            "[1, 2, 3, 5, 4, 3, 2, 1]\n"
          ]
        }
      ],
      "source": [
        "a=[1,2,3,4,5,4,3,2,1]\n",
        "a.remove(4)\n",
        "print(a)"
      ]
    },
    {
      "cell_type": "markdown",
      "id": "1d413251",
      "metadata": {
        "id": "1d413251"
      },
      "source": [
        "a.sort()함수를 사용하면 리스트 안의 변수를 오름차순으로, a.sort(reverse=True)함수를 사용하면 내림차순으로 변경된다.   \n",
        "a.recerse()함수를 사용하면 현재 데이터의 순서를 뒤집는다."
      ]
    },
    {
      "cell_type": "code",
      "execution_count": null,
      "id": "dbae0d81",
      "metadata": {
        "id": "dbae0d81",
        "outputId": "d221685d-2150-4ed4-92c8-9bfcf0b3f82e"
      },
      "outputs": [
        {
          "name": "stdout",
          "output_type": "stream",
          "text": [
            "[1, 2, 3, 4, 5, 6, 7]\n"
          ]
        }
      ],
      "source": [
        "a=[1,3,5,7,6,2,4]\n",
        "a.sort()\n",
        "print(a)"
      ]
    },
    {
      "cell_type": "code",
      "execution_count": null,
      "id": "9bcd469d",
      "metadata": {
        "id": "9bcd469d",
        "outputId": "d17a8068-d394-4a8f-a797-2eee98c724ab"
      },
      "outputs": [
        {
          "name": "stdout",
          "output_type": "stream",
          "text": [
            "[9, 8, 7, 6, 6, 5, 3, 1, 1]\n"
          ]
        }
      ],
      "source": [
        "a=[1,3,8,6,7,1,5,6,9]\n",
        "a.sort(reverse=True)\n",
        "print(a)"
      ]
    },
    {
      "cell_type": "code",
      "execution_count": null,
      "id": "dbc68dcb",
      "metadata": {
        "id": "dbc68dcb",
        "outputId": "6dffee14-e0bf-4def-a881-423329782ad3"
      },
      "outputs": [
        {
          "name": "stdout",
          "output_type": "stream",
          "text": [
            "[6, 8, 4, 2, 6, 7, 5, 3, 1]\n"
          ]
        }
      ],
      "source": [
        "a=[1,3,5,7,6,2,4,8,6]\n",
        "a.reverse()\n",
        "print(a)"
      ]
    },
    {
      "cell_type": "markdown",
      "id": "e7372098",
      "metadata": {
        "id": "e7372098"
      },
      "source": [
        "pop()함수는 리스트에서 맨 마지막에 있는 데이터를 보여주거나, x번 인덱스에 있는 데이터를 보여주고 그 데이터를 삭제한다.   \n",
        "pop()의 괄호안에 값이 없으면 맨 마지막 데이터를 삭제한다."
      ]
    },
    {
      "cell_type": "code",
      "execution_count": null,
      "id": "61946088",
      "metadata": {
        "id": "61946088",
        "outputId": "59beecfd-6419-4a3b-9b6a-98c4c2a934bc"
      },
      "outputs": [
        {
          "name": "stdout",
          "output_type": "stream",
          "text": [
            "4\n",
            "[1, 5, 3, 5, 8, 7, 6]\n"
          ]
        }
      ],
      "source": [
        "a=[1,5,3,5,8,7,6,4]\n",
        "print(a.pop())\n",
        "print(a)"
      ]
    },
    {
      "cell_type": "markdown",
      "id": "c7b2a6b8",
      "metadata": {
        "id": "c7b2a6b8"
      },
      "source": [
        "pop(x)가 있으면 x번의 인덱스 값을 보여주고 그 데이터를 삭제한다."
      ]
    },
    {
      "cell_type": "code",
      "execution_count": null,
      "id": "23f888b1",
      "metadata": {
        "id": "23f888b1",
        "outputId": "2b4c9c9c-443d-4d17-9a8d-a91966d81ecc"
      },
      "outputs": [
        {
          "name": "stdout",
          "output_type": "stream",
          "text": [
            "2\n",
            "[5, 6, 5, 1, 7, 3, 5]\n"
          ]
        }
      ],
      "source": [
        "a=[5,6,5,1,7,2,3,5]\n",
        "print(a.pop(5))\n",
        "print(a)"
      ]
    },
    {
      "cell_type": "markdown",
      "id": "ec761e1f",
      "metadata": {
        "id": "ec761e1f"
      },
      "source": [
        "extend()함수는 리스트 끝에 다른 리스트의 데이터를 추가할 수 있다.   \n",
        "append()함수는 리스트 끝에 **하나**의 데이터를 extend()함수는 리스트 끝에 **여러** 데이터를 추가할 수 있다."
      ]
    },
    {
      "cell_type": "code",
      "execution_count": null,
      "id": "acb48a91",
      "metadata": {
        "id": "acb48a91",
        "outputId": "c2d42242-3aa8-4e41-aa2c-ee2d0da340a5"
      },
      "outputs": [
        {
          "name": "stdout",
          "output_type": "stream",
          "text": [
            "[1, 3, 5, 9, 7, 5, 6, 5, 6, 8]\n"
          ]
        }
      ],
      "source": [
        "a=[1,3,5,9,7,5,6]\n",
        "a.extend([5,6,8])\n",
        "print(a)"
      ]
    },
    {
      "cell_type": "code",
      "execution_count": null,
      "id": "09f10a3d",
      "metadata": {
        "id": "09f10a3d",
        "outputId": "16dea99b-7d83-4a27-ed71-34e18885604e"
      },
      "outputs": [
        {
          "name": "stdout",
          "output_type": "stream",
          "text": [
            "[6, 5, 7, 2, 3, 5, 9, 8, 7]\n"
          ]
        }
      ],
      "source": [
        "a=[6,5,7,2,3,5]\n",
        "b=[9,8,7]\n",
        "a.extend(b)\n",
        "print(a)"
      ]
    },
    {
      "cell_type": "markdown",
      "id": "84ace344",
      "metadata": {
        "id": "84ace344"
      },
      "source": [
        "#### [튜플]"
      ]
    },
    {
      "cell_type": "markdown",
      "id": "47b8442e",
      "metadata": {
        "id": "47b8442e"
      },
      "source": [
        "튜플 자료형은 여러 개의 자료를 묶어 하나로 처리하는 유형. 리스트는 대괄호[]로 표현하지만 튜플은 소괄호()로 표현한다.   \n",
        "리스트는 리스트 내의 데이터를 추가, 삭제, 수정할수 있지만, 튜플은 수정이 불가하다.\n",
        "\n",
        "변수명 = (데이터1, 데이터2, 데이터3,...)  \n",
        "\n",
        "tp1=( )  \n",
        "tp2=(1, ) #데이터가 하나만 있는 튜플의 경우 데이터 뒤 **쉼표** 필수 입력  \n",
        "tp3=(1,2,3)  \n",
        "tp4=1,2,3  #괄호 생략 가능  \n",
        "tp5=(\"a\",\"b\",(\"ab\",\"cd\"))"
      ]
    },
    {
      "cell_type": "code",
      "execution_count": null,
      "id": "18f4044d",
      "metadata": {
        "id": "18f4044d",
        "outputId": "566b249e-5de5-4cc6-8ef6-30a57bdac49a"
      },
      "outputs": [
        {
          "name": "stdout",
          "output_type": "stream",
          "text": [
            "(1, 2, 3, 'a', 'b', 'c', 4, 5, 6)\n",
            "(1, 2, 3, 'a', 'b', 'c', 1, 2, 3, 'a', 'b', 'c')\n"
          ]
        }
      ],
      "source": [
        "tp1=(1,2,3,\"a\",\"b\",\"c\")\n",
        "tp2=(4,5,6)\n",
        "print(tp1+tp2)\n",
        "print(tp1*2)"
      ]
    },
    {
      "cell_type": "code",
      "execution_count": null,
      "id": "4b566f27",
      "metadata": {
        "id": "4b566f27",
        "outputId": "ac0c47f3-b079-4096-85a7-7b1c601c4ff1"
      },
      "outputs": [
        {
          "name": "stdout",
          "output_type": "stream",
          "text": [
            "('ab', 'vd', 'df')\n",
            "('ab', 'vd')\n"
          ]
        }
      ],
      "source": [
        "tp=(1,2,(\"ab\",\"vd\",\"df\"),3,\"a\",\"b\",\"v\")\n",
        "print(tp[2])\n",
        "print(tp[2][:2])"
      ]
    },
    {
      "cell_type": "markdown",
      "id": "8854bbd8",
      "metadata": {
        "id": "8854bbd8"
      },
      "source": [
        "#### [딕셔너리]  \n",
        "\n",
        "딕셔너리 자료형은 사전 형식을 가지고 있다.  \n",
        "딕셔너리 자료형도 찾을 단어에 해당하는 key 값과 단어 뜻에 해당하는 value 값으로 구성되어 있다.  \n",
        "\n",
        "중괄호{}를 사용하고, key와 value 값을 쌍으로 찾는다.   \n",
        "\n",
        "변수명 = {Key1:Value1, Key2:Value2, Key3:Value3,...}  \n",
        "이 때, Key는 변하지 않는 값이어야 하고, Value는 변하는 값이나 변하지 않는 값 모두 가능하다."
      ]
    },
    {
      "cell_type": "code",
      "execution_count": null,
      "id": "c03867fd",
      "metadata": {
        "id": "c03867fd"
      },
      "outputs": [],
      "source": [
        "dict1={\"name\":\"Lee\",\"age\":29,\"birth\":\"0320\"}\n",
        "dict2={1:\"ab\"} #Key에 정수형, Value에 문자형 자료\n",
        "dict3={\"test\":[1,3,5,7]} #Value에 리스트 자료형"
      ]
    },
    {
      "cell_type": "markdown",
      "id": "87e4551e",
      "metadata": {
        "id": "87e4551e"
      },
      "source": [
        "dict에 데이터 쌍을 추가하라."
      ]
    },
    {
      "cell_type": "code",
      "execution_count": null,
      "id": "0d16b16e",
      "metadata": {
        "id": "0d16b16e",
        "outputId": "b180fc7f-6025-4605-e8d0-e11d0d74ca52"
      },
      "outputs": [
        {
          "name": "stdout",
          "output_type": "stream",
          "text": [
            "[1, 2]\n"
          ]
        }
      ],
      "source": [
        "my_dict={\"a\":[1,2],\"b\":[3,4],\"c\":[5,6]}\n",
        "print(my_dict[\"a\"])"
      ]
    },
    {
      "cell_type": "code",
      "execution_count": null,
      "id": "4421a270",
      "metadata": {
        "id": "4421a270",
        "outputId": "9c585557-e78e-499b-c33a-191867b8de98"
      },
      "outputs": [
        {
          "name": "stdout",
          "output_type": "stream",
          "text": [
            "{'a': [1, 2], 'b': [3, 4]}\n"
          ]
        }
      ],
      "source": [
        "my_dict2={\"a\":[1,2]}\n",
        "my_dict2[\"b\"]=[3,4]\n",
        "print(my_dict2)"
      ]
    },
    {
      "cell_type": "code",
      "execution_count": null,
      "id": "f60b4b58",
      "metadata": {
        "id": "f60b4b58",
        "outputId": "782d2bf7-1508-4033-d778-80a482bb7f84"
      },
      "outputs": [
        {
          "name": "stdout",
          "output_type": "stream",
          "text": [
            "{'a': [1, 2], 'b': [3, 4], 'c': [5, 6]}\n"
          ]
        }
      ],
      "source": [
        "my_dict3={\"a\":[1,2],\"b\":[3,4],\"c\":[5,6]}\n",
        "print(dict)"
      ]
    },
    {
      "cell_type": "code",
      "execution_count": null,
      "id": "927d829a",
      "metadata": {
        "id": "927d829a",
        "outputId": "208df4d3-8959-43d0-81b1-88689be1f1ad"
      },
      "outputs": [
        {
          "data": {
            "text/plain": [
              "{'a': 2, 'b': 4, 'c': 6}"
            ]
          },
          "execution_count": 128,
          "metadata": {},
          "output_type": "execute_result"
        }
      ],
      "source": [
        "list1=[[\"a\",2],[\"b\",4],[\"c\",6]]\n",
        "dict(list1)"
      ]
    },
    {
      "cell_type": "code",
      "execution_count": null,
      "id": "a987d39e",
      "metadata": {
        "id": "a987d39e",
        "outputId": "eb485cad-0cab-4f07-8ec0-e7cbf6d2dd40"
      },
      "outputs": [
        {
          "data": {
            "text/plain": [
              "{'a': 2, 'b': 5, 'c': 4}"
            ]
          },
          "execution_count": 129,
          "metadata": {},
          "output_type": "execute_result"
        }
      ],
      "source": [
        "list2=[(\"a\",2),(\"b\",5),(\"c\",4)]\n",
        "dict(list2)"
      ]
    },
    {
      "cell_type": "code",
      "execution_count": null,
      "id": "0a996013",
      "metadata": {
        "id": "0a996013",
        "outputId": "e1cc1dc8-13e7-4019-8cca-15bc8e412f6f"
      },
      "outputs": [
        {
          "data": {
            "text/plain": [
              "{'a': 2, 'b': 4, 'c': 6}"
            ]
          },
          "execution_count": 1,
          "metadata": {},
          "output_type": "execute_result"
        }
      ],
      "source": [
        "tp1=([\"a\",2],[\"b\",4],[\"c\",6])\n",
        "dict(tp1)"
      ]
    },
    {
      "cell_type": "code",
      "execution_count": null,
      "id": "fa68e9d4",
      "metadata": {
        "id": "fa68e9d4",
        "outputId": "a15b7498-df9c-4736-cac2-675bd8a5f956"
      },
      "outputs": [
        {
          "data": {
            "text/plain": [
              "{'a': 2, 'b': 4, 'c': 6}"
            ]
          },
          "execution_count": 2,
          "metadata": {},
          "output_type": "execute_result"
        }
      ],
      "source": [
        "tp2=((\"a\",2),(\"b\",4),(\"c\",6))\n",
        "dict(tp2)"
      ]
    },
    {
      "cell_type": "markdown",
      "id": "c898f4ca",
      "metadata": {
        "id": "c898f4ca"
      },
      "source": [
        "딕셔너리 자료형은 순서가 없기 떄문에 인덱스로 데이터를 추출할 수 없다.   \n",
        "그러나 Key 와 Value를 추출하기 위해 여러 함수를 사용할 수 있다."
      ]
    },
    {
      "cell_type": "markdown",
      "id": "65ec5468",
      "metadata": {
        "id": "65ec5468"
      },
      "source": [
        "Key()와 Value()함수"
      ]
    },
    {
      "cell_type": "code",
      "execution_count": null,
      "id": "507247e6",
      "metadata": {
        "id": "507247e6",
        "outputId": "994b6c7e-0887-4da4-d3c4-ff9fbb792b92"
      },
      "outputs": [
        {
          "name": "stdout",
          "output_type": "stream",
          "text": [
            "dict_keys(['name', 'age', 'birth'])\n",
            "['name', 'age', 'birth']\n"
          ]
        }
      ],
      "source": [
        "dict1={\"name\":\"Lee\",\"age\":20,\"birth\":\"0320\"}\n",
        "print(dict1.keys())\n",
        "print(list(dict1.keys()))"
      ]
    },
    {
      "cell_type": "code",
      "execution_count": null,
      "id": "9021d561",
      "metadata": {
        "id": "9021d561",
        "outputId": "4049d902-d457-4baa-8d2d-336475ddbc47"
      },
      "outputs": [
        {
          "data": {
            "text/plain": [
              "['Lee', 20, '0320']"
            ]
          },
          "execution_count": 6,
          "metadata": {},
          "output_type": "execute_result"
        }
      ],
      "source": [
        "list(dict1.values())"
      ]
    },
    {
      "cell_type": "markdown",
      "id": "df48fa0c",
      "metadata": {
        "id": "df48fa0c"
      },
      "source": [
        "Items()함수"
      ]
    },
    {
      "cell_type": "code",
      "execution_count": null,
      "id": "9fa026a5",
      "metadata": {
        "id": "9fa026a5",
        "outputId": "2c957049-c24c-418a-86df-389c8ddf3122"
      },
      "outputs": [
        {
          "data": {
            "text/plain": [
              "dict_items([('name', 'Lee'), ('age', 20), ('birth', '0320')])"
            ]
          },
          "execution_count": 7,
          "metadata": {},
          "output_type": "execute_result"
        }
      ],
      "source": [
        "dict2={\"name\":\"Lee\",\"age\":20,\"birth\":\"0320\"}\n",
        "dict2.items()"
      ]
    },
    {
      "cell_type": "markdown",
      "id": "9e3fc76f",
      "metadata": {
        "id": "9e3fc76f"
      },
      "source": [
        "Clear()함수는 Key와 Value를 모두 지울 수 있다."
      ]
    },
    {
      "cell_type": "code",
      "execution_count": null,
      "id": "62b92a75",
      "metadata": {
        "id": "62b92a75",
        "outputId": "4ebaf162-ca3a-4406-ee91-9c59f67770f1"
      },
      "outputs": [
        {
          "name": "stdout",
          "output_type": "stream",
          "text": [
            "{}\n"
          ]
        }
      ],
      "source": [
        "dict3={\"name\":\"Lee\",\"age\":20,\"birth\":\"0228\"}\n",
        "dict3.clear()\n",
        "print(dict3)"
      ]
    },
    {
      "cell_type": "markdown",
      "id": "9abe4c00",
      "metadata": {
        "id": "9abe4c00"
      },
      "source": [
        "집합(Set) 자료형은 집합과 관련된 것을 표현한다.\n",
        "괄호()안에는 리스트나 문자열이 온다.   \n",
        "\n",
        "숫자로 된 리스트를 만들어 집합으로 지정하거나 문자열을 집합으로 지정하면, 개별 문자로 분해되고 중복 문자는 제거된다."
      ]
    },
    {
      "cell_type": "code",
      "execution_count": null,
      "id": "aa181c8e",
      "metadata": {
        "id": "aa181c8e",
        "outputId": "a0a07bcd-3f98-4717-9a1a-01e51be9e4d5"
      },
      "outputs": [
        {
          "name": "stdout",
          "output_type": "stream",
          "text": [
            "{1, 2, 3, 4, 5, 6}\n"
          ]
        }
      ],
      "source": [
        "set1=set([1,2,3,4,5,6,3])\n",
        "print(set1)"
      ]
    },
    {
      "cell_type": "code",
      "execution_count": null,
      "id": "70c8a6ae",
      "metadata": {
        "id": "70c8a6ae",
        "outputId": "7ac1db13-89b2-4f80-fcff-7f1d6714eb39"
      },
      "outputs": [
        {
          "name": "stdout",
          "output_type": "stream",
          "text": [
            "{'u', 'b', 'o', 'l', ' ', 's', 'c', 'h'}\n"
          ]
        }
      ],
      "source": [
        "set2=set(\"school bus\")\n",
        "print(set2)"
      ]
    },
    {
      "cell_type": "markdown",
      "id": "d0ed254e",
      "metadata": {
        "id": "d0ed254e"
      },
      "source": [
        "set 자료형의 교집합"
      ]
    },
    {
      "cell_type": "code",
      "execution_count": null,
      "id": "47b2cf2e",
      "metadata": {
        "id": "47b2cf2e",
        "outputId": "114dc78a-7a4a-4bcd-8e01-afbcd6cf6dfc"
      },
      "outputs": [
        {
          "name": "stdout",
          "output_type": "stream",
          "text": [
            "{3, 4, 5, 6}\n",
            "{3, 4, 5, 6}\n"
          ]
        }
      ],
      "source": [
        "set1=set([1,2,4,5,6,3,5,3])\n",
        "set2=set([6,4,7,8,3,5,4])\n",
        "print(set1&set2)\n",
        "print(set1.intersection(set2))"
      ]
    },
    {
      "cell_type": "code",
      "execution_count": null,
      "id": "a76c0e91",
      "metadata": {
        "id": "a76c0e91",
        "outputId": "a50f5d67-5ead-41bb-cd2a-062f17eff9e1"
      },
      "outputs": [
        {
          "name": "stdout",
          "output_type": "stream",
          "text": [
            "{1, 2, 3, 4, 5, 6, 7, 8}\n"
          ]
        }
      ],
      "source": [
        "print(set1|set2)"
      ]
    },
    {
      "cell_type": "code",
      "execution_count": null,
      "id": "3f12f72c",
      "metadata": {
        "id": "3f12f72c",
        "outputId": "1004e073-c143-45bc-8434-b8125d09da02"
      },
      "outputs": [
        {
          "name": "stdout",
          "output_type": "stream",
          "text": [
            "{1, 2}\n"
          ]
        }
      ],
      "source": [
        "print(set1-set2)"
      ]
    },
    {
      "cell_type": "code",
      "execution_count": null,
      "id": "82752918",
      "metadata": {
        "id": "82752918",
        "outputId": "57518ec6-306b-46c7-9810-39d6967be0c2"
      },
      "outputs": [
        {
          "name": "stdout",
          "output_type": "stream",
          "text": [
            "{8, 7}\n"
          ]
        }
      ],
      "source": [
        "print(set2-set1)"
      ]
    },
    {
      "cell_type": "markdown",
      "id": "ca08a0ee",
      "metadata": {
        "id": "ca08a0ee"
      },
      "source": [
        "# 복습"
      ]
    },
    {
      "cell_type": "code",
      "execution_count": null,
      "id": "39eecdfc",
      "metadata": {
        "id": "39eecdfc"
      },
      "outputs": [],
      "source": [
        "a=[]\n",
        "b=[1,2,3,4,5]\n",
        "c=[\"I\",\"like\",\"python\"]\n",
        "d=[1,2,\"Python\"]\n",
        "e=[1,2,[\"python\",\"C\",\"java\"]]"
      ]
    },
    {
      "cell_type": "code",
      "execution_count": null,
      "id": "feae1f05",
      "metadata": {
        "id": "feae1f05",
        "outputId": "f6b6c2d4-113b-4e15-e8d7-dec8e54e2ce5"
      },
      "outputs": [
        {
          "name": "stdout",
          "output_type": "stream",
          "text": [
            "[3, 7, 9, 4, 6, 7]\n",
            "[3, 7, 9, 3, 7, 9, 3, 7, 9]\n"
          ]
        }
      ],
      "source": [
        "a=[3,7,9]\n",
        "b=[4,6,7]\n",
        "print(a+b)\n",
        "print(a*3)"
      ]
    },
    {
      "cell_type": "code",
      "execution_count": null,
      "id": "27c88890",
      "metadata": {
        "id": "27c88890",
        "outputId": "6302094d-f0d9-4bcd-edb5-14119cc2aa04"
      },
      "outputs": [
        {
          "name": "stdout",
          "output_type": "stream",
          "text": [
            "95\n",
            "['soup', 'cookie']\n"
          ]
        }
      ],
      "source": [
        "test=[75,69,95,84,89]\n",
        "food=[\"milk\",\"juice\",\"rice\",\"soup\",\"cookie\"]\n",
        "print(test[2])\n",
        "print(food[3:5])"
      ]
    },
    {
      "cell_type": "code",
      "execution_count": null,
      "id": "ce62c6c1",
      "metadata": {
        "id": "ce62c6c1",
        "outputId": "220f7e6a-2d85-4008-92c7-4ecbf32da0e0"
      },
      "outputs": [
        {
          "name": "stdout",
          "output_type": "stream",
          "text": [
            "['python', 'c', 'jave']\n",
            "['python', 'c']\n"
          ]
        }
      ],
      "source": [
        "a=[1,2,[\"python\",\"c\",\"jave\"]]\n",
        "print(a[2])\n",
        "print(a[2][:2])"
      ]
    },
    {
      "cell_type": "code",
      "execution_count": null,
      "id": "719e7562",
      "metadata": {
        "id": "719e7562",
        "outputId": "7f1c6d4d-8f28-4a7e-a3bb-e1e26d9423e9"
      },
      "outputs": [
        {
          "name": "stdout",
          "output_type": "stream",
          "text": [
            "[1, 3, 5, 8, 6, 2, 4]\n"
          ]
        }
      ],
      "source": [
        "a=[1,3,5,7,6,2,4]\n",
        "a[3]=8\n",
        "print(a)"
      ]
    },
    {
      "cell_type": "code",
      "execution_count": null,
      "id": "285350d8",
      "metadata": {
        "id": "285350d8",
        "outputId": "5051acbb-7be2-49df-d660-fc35fa75cf16"
      },
      "outputs": [
        {
          "name": "stdout",
          "output_type": "stream",
          "text": [
            "[1, 3, 5, 6, 2, 4]\n"
          ]
        }
      ],
      "source": [
        "a=[1,3,5,7,6,2,4]\n",
        "del a[3]\n",
        "print(a)"
      ]
    },
    {
      "cell_type": "code",
      "execution_count": null,
      "id": "196d79d0",
      "metadata": {
        "id": "196d79d0",
        "outputId": "b2b56f86-a322-4fe1-817b-1497d7b5611f"
      },
      "outputs": [
        {
          "name": "stdout",
          "output_type": "stream",
          "text": [
            "[1, 2, 3, 4, 3]\n"
          ]
        }
      ],
      "source": [
        "a=[1,2,3,4]\n",
        "a.append(3)\n",
        "print(a)"
      ]
    },
    {
      "cell_type": "code",
      "execution_count": null,
      "id": "ca824c19",
      "metadata": {
        "id": "ca824c19",
        "outputId": "ece8c631-1e0c-4bc6-adb9-db0536ab367f"
      },
      "outputs": [
        {
          "name": "stdout",
          "output_type": "stream",
          "text": [
            "[1, 2, 3, 4, 3, [3, 5, 9]]\n"
          ]
        }
      ],
      "source": [
        "a.append([3,5,9])\n",
        "print(a)"
      ]
    },
    {
      "cell_type": "code",
      "execution_count": null,
      "id": "979fc26b",
      "metadata": {
        "id": "979fc26b",
        "outputId": "b8072f42-c47a-4364-89c4-4eed79803623"
      },
      "outputs": [
        {
          "name": "stdout",
          "output_type": "stream",
          "text": [
            "[7, 1, 2, 3, 4]\n"
          ]
        }
      ],
      "source": [
        "a=[1,2,3,4]\n",
        "a.insert(0,7)\n",
        "print(a)"
      ]
    },
    {
      "cell_type": "code",
      "execution_count": null,
      "id": "f25ffe06",
      "metadata": {
        "id": "f25ffe06",
        "outputId": "f9e3ddc8-49db-400a-b16a-c55ca1bdcc15"
      },
      "outputs": [
        {
          "name": "stdout",
          "output_type": "stream",
          "text": [
            "[1, 2, 3, 5, 4, 3, 2, 1]\n"
          ]
        }
      ],
      "source": [
        "a=[1,2,3,4,5,4,3,2,1]\n",
        "a.remove(4)\n",
        "print(a)"
      ]
    },
    {
      "cell_type": "code",
      "execution_count": null,
      "id": "f17711ba",
      "metadata": {
        "id": "f17711ba",
        "outputId": "6a548f53-2a2b-453a-86e3-772848ba6afb"
      },
      "outputs": [
        {
          "name": "stdout",
          "output_type": "stream",
          "text": [
            "[1, 2, 3, 4, 5, 6, 7]\n"
          ]
        }
      ],
      "source": [
        "a=[1,3,5,7,6,2,4]\n",
        "a.sort()\n",
        "print(a)"
      ]
    },
    {
      "cell_type": "code",
      "execution_count": null,
      "id": "e14e9960",
      "metadata": {
        "id": "e14e9960",
        "outputId": "4c5105da-6635-4838-adac-f1557756e210"
      },
      "outputs": [
        {
          "name": "stdout",
          "output_type": "stream",
          "text": [
            "[7, 6, 5, 4, 3, 2, 1]\n"
          ]
        }
      ],
      "source": [
        "a=[1,3,5,7,6,2,4]\n",
        "a.sort(reverse=True)\n",
        "print(a)"
      ]
    },
    {
      "cell_type": "code",
      "execution_count": null,
      "id": "01d7a43f",
      "metadata": {
        "id": "01d7a43f",
        "outputId": "2950ceda-96c6-4d4c-d465-03e21e2078f1"
      },
      "outputs": [
        {
          "name": "stdout",
          "output_type": "stream",
          "text": [
            "[4, 2, 6, 7, 5, 3, 1]\n"
          ]
        }
      ],
      "source": [
        "a=[1,3,5,7,6,2,4]\n",
        "a.reverse()\n",
        "print(a)"
      ]
    },
    {
      "cell_type": "code",
      "execution_count": null,
      "id": "88b18e66",
      "metadata": {
        "id": "88b18e66",
        "outputId": "7c2bf4e5-96dc-482d-cde2-64ece55373f5"
      },
      "outputs": [
        {
          "name": "stdout",
          "output_type": "stream",
          "text": [
            "4\n",
            "[1, 3, 5, 7, 6, 2]\n"
          ]
        }
      ],
      "source": [
        "a=[1,3,5,7,6,2,4]\n",
        "print(a.pop())\n",
        "print(a)"
      ]
    },
    {
      "cell_type": "code",
      "execution_count": null,
      "id": "89466a9c",
      "metadata": {
        "id": "89466a9c",
        "outputId": "2c0d0e82-416f-4ea5-a0ee-c6bd327d1fb0"
      },
      "outputs": [
        {
          "name": "stdout",
          "output_type": "stream",
          "text": [
            "7\n",
            "[1, 3, 5, 6, 4, 2]\n"
          ]
        }
      ],
      "source": [
        "a=[1,3,5,7,6,4,2]\n",
        "print(a.pop(3))\n",
        "print(a)"
      ]
    },
    {
      "cell_type": "code",
      "execution_count": null,
      "id": "9ba26706",
      "metadata": {
        "id": "9ba26706",
        "outputId": "117ae64e-0442-4b51-9e71-2f7b707c4c7f"
      },
      "outputs": [
        {
          "name": "stdout",
          "output_type": "stream",
          "text": [
            "[1, 3, 5, 7, 5, 2, 4, 3, 5, 7]\n"
          ]
        }
      ],
      "source": [
        "a=[1,3,5,7,5,2,4]\n",
        "a.extend([3,5,7])\n",
        "print(a)"
      ]
    },
    {
      "cell_type": "code",
      "execution_count": null,
      "id": "df133ccd",
      "metadata": {
        "id": "df133ccd"
      },
      "outputs": [],
      "source": [
        "tp1=()\n",
        "tp2=(1,)\n",
        "tp3=(1,2,3)\n",
        "tp4=1,2,3\n",
        "tp5=(\"a\",\"b\",(\"ab\",\"cd\"))"
      ]
    },
    {
      "cell_type": "code",
      "execution_count": null,
      "id": "0d92a6a8",
      "metadata": {
        "id": "0d92a6a8",
        "outputId": "0d5b8178-b15c-4fb2-a04f-db344bb9a2c1"
      },
      "outputs": [
        {
          "name": "stdout",
          "output_type": "stream",
          "text": [
            "(1, 2, 3, 'a', 'b', 'c', 4, 5, 6)\n",
            "(4, 5, 6, 4, 5, 6)\n"
          ]
        }
      ],
      "source": [
        "tp1=(1,2,3,\"a\",\"b\",\"c\")\n",
        "tp2=(4,5,6)\n",
        "print(tp1+tp2)\n",
        "print(tp2*2)"
      ]
    },
    {
      "cell_type": "code",
      "execution_count": null,
      "id": "f75e7de5",
      "metadata": {
        "id": "f75e7de5",
        "outputId": "851859eb-a6d7-44d5-ea61-1ee45161c7ee"
      },
      "outputs": [
        {
          "name": "stdout",
          "output_type": "stream",
          "text": [
            "('ab', 'cd', 'ef')\n",
            "('ab', 'cd')\n"
          ]
        }
      ],
      "source": [
        "tp=(1,2,(\"ab\",\"cd\",\"ef\"),3,\"a\",\"b\",\"c\")\n",
        "print(tp[2])\n",
        "print(tp[2][:2])"
      ]
    },
    {
      "cell_type": "code",
      "execution_count": null,
      "id": "fcb33b53",
      "metadata": {
        "id": "fcb33b53"
      },
      "outputs": [],
      "source": [
        "dict1={\"name\":\"Lee\",\"age\":29,\"birth\":\"0320\"}\n",
        "dict2={1:\"ab\"}\n",
        "dict3={\"test\":[1,3,5,7]}"
      ]
    },
    {
      "cell_type": "code",
      "execution_count": null,
      "id": "6ea264c3",
      "metadata": {
        "id": "6ea264c3",
        "outputId": "b5cd37ca-2c87-4b75-ea72-2f0098e4ac68"
      },
      "outputs": [
        {
          "name": "stdout",
          "output_type": "stream",
          "text": [
            "[1, 2]\n"
          ]
        }
      ],
      "source": [
        "dict3={\"a\":[1,2],\"b\":[3,4],\"c\":[5,6]}\n",
        "print(dict3[\"a\"])"
      ]
    },
    {
      "cell_type": "code",
      "execution_count": null,
      "id": "878c362c",
      "metadata": {
        "id": "878c362c",
        "outputId": "20477f33-81ba-4848-ebc8-4a373be04717"
      },
      "outputs": [
        {
          "name": "stdout",
          "output_type": "stream",
          "text": [
            "{'a': [1, 2], 'b': [3, 4]}\n"
          ]
        }
      ],
      "source": [
        "dict2={\"a\":[1,2]}\n",
        "dict2[\"b\"]=[3,4]\n",
        "print(dict2)"
      ]
    },
    {
      "cell_type": "code",
      "execution_count": null,
      "id": "2871d0c5",
      "metadata": {
        "id": "2871d0c5",
        "outputId": "531c05b4-3054-4730-c49e-1287b0be05fd"
      },
      "outputs": [
        {
          "name": "stdout",
          "output_type": "stream",
          "text": [
            "{'a': [1, 2], 'b': [3, 4]}\n"
          ]
        }
      ],
      "source": []
    },
    {
      "cell_type": "code",
      "execution_count": null,
      "id": "82797b05",
      "metadata": {
        "id": "82797b05",
        "outputId": "c2c9c856-c1e3-4ba3-d610-79480cfbb16f"
      },
      "outputs": [
        {
          "ename": "TypeError",
          "evalue": "'dict' object is not callable",
          "output_type": "error",
          "traceback": [
            "\u001b[1;31m---------------------------------------------------------------------------\u001b[0m",
            "\u001b[1;31mTypeError\u001b[0m                                 Traceback (most recent call last)",
            "Cell \u001b[1;32mIn[13], line 2\u001b[0m\n\u001b[0;32m      1\u001b[0m list2\u001b[38;5;241m=\u001b[39m[[\u001b[38;5;124m\"\u001b[39m\u001b[38;5;124ma\u001b[39m\u001b[38;5;124m\"\u001b[39m,\u001b[38;5;241m2\u001b[39m],[\u001b[38;5;124m\"\u001b[39m\u001b[38;5;124mb\u001b[39m\u001b[38;5;124m\"\u001b[39m,\u001b[38;5;241m4\u001b[39m],[\u001b[38;5;124m\"\u001b[39m\u001b[38;5;124mc\u001b[39m\u001b[38;5;124m\"\u001b[39m,\u001b[38;5;241m6\u001b[39m]]\n\u001b[1;32m----> 2\u001b[0m \u001b[38;5;28;43mdict\u001b[39;49m\u001b[43m(\u001b[49m\u001b[43mlist2\u001b[49m\u001b[43m)\u001b[49m\n",
            "\u001b[1;31mTypeError\u001b[0m: 'dict' object is not callable"
          ]
        }
      ],
      "source": [
        "list2=[[\"a\",2],[\"b\",4],[\"c\",6]]\n",
        "dict(list2)"
      ]
    },
    {
      "cell_type": "code",
      "execution_count": null,
      "id": "da71361b",
      "metadata": {
        "id": "da71361b",
        "outputId": "a2208d90-cc5a-4c53-bb21-3664613a019f"
      },
      "outputs": [
        {
          "ename": "TypeError",
          "evalue": "'dict' object is not callable",
          "output_type": "error",
          "traceback": [
            "\u001b[1;31m---------------------------------------------------------------------------\u001b[0m",
            "\u001b[1;31mTypeError\u001b[0m                                 Traceback (most recent call last)",
            "Cell \u001b[1;32mIn[14], line 2\u001b[0m\n\u001b[0;32m      1\u001b[0m tp1\u001b[38;5;241m=\u001b[39m([\u001b[38;5;124m\"\u001b[39m\u001b[38;5;124ma\u001b[39m\u001b[38;5;124m\"\u001b[39m,\u001b[38;5;241m2\u001b[39m],[\u001b[38;5;124m\"\u001b[39m\u001b[38;5;124mb\u001b[39m\u001b[38;5;124m\"\u001b[39m,\u001b[38;5;241m4\u001b[39m],[\u001b[38;5;124m\"\u001b[39m\u001b[38;5;124mc\u001b[39m\u001b[38;5;124m\"\u001b[39m,\u001b[38;5;241m6\u001b[39m])\n\u001b[1;32m----> 2\u001b[0m \u001b[38;5;28;43mdict\u001b[39;49m\u001b[43m(\u001b[49m\u001b[43mtp1\u001b[49m\u001b[43m)\u001b[49m\n",
            "\u001b[1;31mTypeError\u001b[0m: 'dict' object is not callable"
          ]
        }
      ],
      "source": [
        "tp1=([\"a\",2],[\"b\",4],[\"c\",6])\n",
        "dict(tp1)"
      ]
    },
    {
      "cell_type": "code",
      "execution_count": null,
      "id": "e6dce865",
      "metadata": {
        "id": "e6dce865",
        "outputId": "eb1a5f0a-30fd-4bf8-ae51-07a76985e089"
      },
      "outputs": [
        {
          "data": {
            "text/plain": [
              "3.0"
            ]
          },
          "execution_count": 15,
          "metadata": {},
          "output_type": "execute_result"
        }
      ],
      "source": [
        "a=3\n",
        "float(a)"
      ]
    },
    {
      "cell_type": "code",
      "execution_count": null,
      "id": "39169a18",
      "metadata": {
        "id": "39169a18",
        "outputId": "e62f283b-bbfe-4430-b8ac-a89391e45b35"
      },
      "outputs": [
        {
          "data": {
            "text/plain": [
              "3"
            ]
          },
          "execution_count": 16,
          "metadata": {},
          "output_type": "execute_result"
        }
      ],
      "source": [
        "a=3.169\n",
        "int(a)"
      ]
    },
    {
      "cell_type": "code",
      "execution_count": null,
      "id": "759df65b",
      "metadata": {
        "id": "759df65b",
        "outputId": "db822e3b-2661-4a74-adeb-729992f47ecd"
      },
      "outputs": [
        {
          "data": {
            "text/plain": [
              "(1, 2, 3, 4, 5)"
            ]
          },
          "execution_count": 17,
          "metadata": {},
          "output_type": "execute_result"
        }
      ],
      "source": [
        "b=[1,2,3,4,5]\n",
        "tuple(b)"
      ]
    },
    {
      "cell_type": "code",
      "execution_count": null,
      "id": "063bc56a",
      "metadata": {
        "id": "063bc56a",
        "outputId": "9fa65290-0283-43a3-e606-3c91b3cad94b"
      },
      "outputs": [
        {
          "ename": "TypeError",
          "evalue": "'dict' object is not callable",
          "output_type": "error",
          "traceback": [
            "\u001b[1;31m---------------------------------------------------------------------------\u001b[0m",
            "\u001b[1;31mTypeError\u001b[0m                                 Traceback (most recent call last)",
            "Cell \u001b[1;32mIn[18], line 1\u001b[0m\n\u001b[1;32m----> 1\u001b[0m \u001b[38;5;28;43mdict\u001b[39;49m\u001b[43m(\u001b[49m\u001b[43mb\u001b[49m\u001b[43m)\u001b[49m\n",
            "\u001b[1;31mTypeError\u001b[0m: 'dict' object is not callable"
          ]
        }
      ],
      "source": [
        "dict(b)"
      ]
    },
    {
      "cell_type": "code",
      "execution_count": null,
      "id": "467cefb5",
      "metadata": {
        "id": "467cefb5",
        "outputId": "785bfe9d-c0b2-4892-b321-e78a441ebb04"
      },
      "outputs": [
        {
          "name": "stdout",
          "output_type": "stream",
          "text": [
            "dict_keys(['name', 'age', 'birth'])\n",
            "['name', 'age', 'birth']\n"
          ]
        }
      ],
      "source": [
        "dict={\"name\":\"Lee\",\"age\":29,\"birth\":\"0320\"}\n",
        "print(dict.keys())\n",
        "print(list(dict.keys()))"
      ]
    },
    {
      "cell_type": "code",
      "execution_count": null,
      "id": "f31eb0bd",
      "metadata": {
        "id": "f31eb0bd",
        "outputId": "a7c87de3-1488-440a-ec64-8979b3f2cc9c"
      },
      "outputs": [
        {
          "data": {
            "text/plain": [
              "['Lee', 29, '0320']"
            ]
          },
          "execution_count": 20,
          "metadata": {},
          "output_type": "execute_result"
        }
      ],
      "source": [
        "list(dict.values())"
      ]
    },
    {
      "cell_type": "code",
      "execution_count": null,
      "id": "2b585500",
      "metadata": {
        "id": "2b585500",
        "outputId": "ca8e7539-a12f-4536-cff4-933ad2f5f27a"
      },
      "outputs": [
        {
          "data": {
            "text/plain": [
              "dict_items([('name', 'Lee'), ('age', 29), ('birth', '0320')])"
            ]
          },
          "execution_count": 21,
          "metadata": {},
          "output_type": "execute_result"
        }
      ],
      "source": [
        "dict={\"name\":\"Lee\",\"age\":29,\"birth\":\"0320\"}\n",
        "dict.items()"
      ]
    },
    {
      "cell_type": "code",
      "execution_count": null,
      "id": "071bad64",
      "metadata": {
        "id": "071bad64",
        "outputId": "e345db43-4519-4039-9f64-4185fb31729d"
      },
      "outputs": [
        {
          "name": "stdout",
          "output_type": "stream",
          "text": [
            "{}\n"
          ]
        }
      ],
      "source": [
        "dict={\"name\":\"Lee\",\"age\":29,\"birth\":\"0320\"}\n",
        "dict.clear()\n",
        "print(dict)"
      ]
    },
    {
      "cell_type": "code",
      "execution_count": null,
      "id": "c62fbd3b",
      "metadata": {
        "id": "c62fbd3b",
        "outputId": "0f4b9364-8fcc-4c9b-96c2-84b96720205b"
      },
      "outputs": [
        {
          "name": "stdout",
          "output_type": "stream",
          "text": [
            "dict_keys(['name', 'age', 'birth'])\n"
          ]
        },
        {
          "data": {
            "text/plain": [
              "dict_values(['Koh', 29, '1119'])"
            ]
          },
          "execution_count": 23,
          "metadata": {},
          "output_type": "execute_result"
        }
      ],
      "source": [
        "dict={\"name\":\"Koh\",\"age\":29,\"birth\":\"1119\"}\n",
        "print(dict.keys())\n",
        "dict.values()"
      ]
    },
    {
      "cell_type": "code",
      "execution_count": null,
      "id": "f4562683",
      "metadata": {
        "id": "f4562683",
        "outputId": "b4db12ff-b1b8-4cd7-891c-d02fa9685344"
      },
      "outputs": [
        {
          "name": "stdout",
          "output_type": "stream",
          "text": [
            "{1, 3, 5, 6, 7}\n"
          ]
        }
      ],
      "source": [
        "set1=set([1,3,6,5,7,6])\n",
        "print(set1)"
      ]
    },
    {
      "cell_type": "code",
      "execution_count": null,
      "id": "7596d3f4",
      "metadata": {
        "id": "7596d3f4",
        "outputId": "36acdc10-365e-47dc-feb6-36c2815831d7"
      },
      "outputs": [
        {
          "name": "stdout",
          "output_type": "stream",
          "text": [
            "{'c', 'h', 'b', 'u', 'o', 'l', 's', ' '}\n"
          ]
        }
      ],
      "source": [
        "set2=set(\"school bus\")\n",
        "print(set2)"
      ]
    },
    {
      "cell_type": "code",
      "execution_count": null,
      "id": "becd9ca7",
      "metadata": {
        "id": "becd9ca7",
        "outputId": "32c0cab8-6e11-4da6-85b2-5fed1c53e5b1"
      },
      "outputs": [
        {
          "name": "stdout",
          "output_type": "stream",
          "text": [
            "{5, 6, 7}\n",
            "{5, 6, 7}\n"
          ]
        }
      ],
      "source": [
        "set1=set([1,2,3,4,5,6,7])\n",
        "set2=set([5,6,7,8,9,10,11])\n",
        "print(set1&set2)\n",
        "print(set1.intersection(set2))"
      ]
    },
    {
      "cell_type": "code",
      "execution_count": null,
      "id": "2b34b562",
      "metadata": {
        "id": "2b34b562",
        "outputId": "82abd58f-488e-4e50-a113-da6a7ba1c996"
      },
      "outputs": [
        {
          "name": "stdout",
          "output_type": "stream",
          "text": [
            "{1, 2, 3, 4, 5, 6, 7, 8, 9, 10, 11}\n",
            "{1, 2, 3, 4, 5, 6, 7, 8, 9, 10, 11}\n"
          ]
        }
      ],
      "source": [
        "print(set1|set2)\n",
        "print(set1.union(set2))"
      ]
    },
    {
      "cell_type": "code",
      "execution_count": null,
      "id": "dc9446cc",
      "metadata": {
        "id": "dc9446cc",
        "outputId": "b0f531f7-4244-4e4e-9203-e3b89367a29f"
      },
      "outputs": [
        {
          "name": "stdout",
          "output_type": "stream",
          "text": [
            "{1, 2, 3, 4}\n",
            "{1, 2, 3, 4}\n"
          ]
        }
      ],
      "source": [
        "print(set1-set2)\n",
        "print(set1.difference(set2))"
      ]
    },
    {
      "cell_type": "code",
      "execution_count": null,
      "id": "82461d0b",
      "metadata": {
        "id": "82461d0b",
        "outputId": "2d5665d8-1057-4c35-f68f-0c9f65ace624"
      },
      "outputs": [
        {
          "name": "stdout",
          "output_type": "stream",
          "text": [
            "{8, 9, 10, 11}\n",
            "{8, 9, 10, 11}\n"
          ]
        }
      ],
      "source": [
        "print(set2-set1)\n",
        "print(set2.difference(set1))"
      ]
    },
    {
      "cell_type": "code",
      "execution_count": null,
      "id": "58748864",
      "metadata": {
        "id": "58748864",
        "outputId": "d5faedf5-36ae-42f9-996d-5c0d8b106f05"
      },
      "outputs": [
        {
          "data": {
            "text/plain": [
              "{1, 2, 3, 4, 5}"
            ]
          },
          "execution_count": 32,
          "metadata": {},
          "output_type": "execute_result"
        }
      ],
      "source": [
        "set1=set([1,2,3,5])\n",
        "set1.add(4)\n",
        "set1"
      ]
    },
    {
      "cell_type": "code",
      "execution_count": null,
      "id": "79f42cc9",
      "metadata": {
        "id": "79f42cc9",
        "outputId": "a0e4a9b6-15ef-4668-f3a1-a9fcd9d4c347"
      },
      "outputs": [
        {
          "data": {
            "text/plain": [
              "{1, 2, 3, 4, 5, 6, 7, 8}"
            ]
          },
          "execution_count": 33,
          "metadata": {},
          "output_type": "execute_result"
        }
      ],
      "source": [
        "set2=set([1,2,3,4,5])\n",
        "set2.update([6,7,8])\n",
        "set2"
      ]
    },
    {
      "cell_type": "code",
      "execution_count": null,
      "id": "f79c4b40",
      "metadata": {
        "id": "f79c4b40",
        "outputId": "dc9eb0b8-0ad3-492b-f0ac-24d88a534656"
      },
      "outputs": [
        {
          "data": {
            "text/plain": [
              "{1, 2, 4, 5}"
            ]
          },
          "execution_count": 34,
          "metadata": {},
          "output_type": "execute_result"
        }
      ],
      "source": [
        "set3=set([1,2,3,4,5])\n",
        "set3.remove(3)\n",
        "set3"
      ]
    },
    {
      "cell_type": "code",
      "execution_count": null,
      "id": "fd326d64",
      "metadata": {
        "id": "fd326d64"
      },
      "outputs": [],
      "source": [
        "import numpy as np\n",
        "temp_arr = np.rand(10)"
      ]
    },
    {
      "cell_type": "code",
      "source": [],
      "metadata": {
        "id": "qN1ha0ToFxQe"
      },
      "id": "qN1ha0ToFxQe",
      "execution_count": null,
      "outputs": []
    }
  ],
  "metadata": {
    "kernelspec": {
      "display_name": "Python 3 (ipykernel)",
      "language": "python",
      "name": "python3"
    },
    "language_info": {
      "codemirror_mode": {
        "name": "ipython",
        "version": 3
      },
      "file_extension": ".py",
      "mimetype": "text/x-python",
      "name": "python",
      "nbconvert_exporter": "python",
      "pygments_lexer": "ipython3",
      "version": "3.10.9"
    },
    "colab": {
      "provenance": [],
      "include_colab_link": true
    }
  },
  "nbformat": 4,
  "nbformat_minor": 5
}