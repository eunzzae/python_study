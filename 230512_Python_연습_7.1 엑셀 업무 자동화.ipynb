{
 "cells": [
  {
   "cell_type": "markdown",
   "id": "bd116526",
   "metadata": {},
   "source": [
    "# 7.1 엑셀 업무 자동화   \n",
    "\n",
    "* openpyxl은 OOXML의 장점을 활용하여 만들어진 라이브러리로, OOXML로 저장된 문서는 누구나 구조 파악 가능   \n",
    "\n",
    "[openpyxl의 주요 기능]  \n",
    "- 엑셀파일(워크북) 생성, 수정, 삭제 및 불러오기  \n",
    "- 워크시트 생성 및 수정, 행/열(셀) 생성 및 수정  \n",
    "- 셀에 포함된 값과 표시 형식 추가, 수정 및 셀 메모 생성  \n",
    "- 텍스트 서식, 셀 테두리/배경, 셀 크기 등 서식 수정  \n",
    "- 그래프(차트), 피벗 테이블 생성 및 수정  \n",
    "\n",
    "[openpyxl 설치]  \n",
    "- !pip install openpyxl"
   ]
  },
  {
   "cell_type": "code",
   "execution_count": 16,
   "id": "1fd8a631",
   "metadata": {},
   "outputs": [
    {
     "ename": "SyntaxError",
     "evalue": "invalid syntax (3260493034.py, line 1)",
     "output_type": "error",
     "traceback": [
      "\u001b[1;36m  Cell \u001b[1;32mIn[16], line 1\u001b[1;36m\u001b[0m\n\u001b[1;33m    python3 -3.0 pip install<anaconda3>\u001b[0m\n\u001b[1;37m                 ^\u001b[0m\n\u001b[1;31mSyntaxError\u001b[0m\u001b[1;31m:\u001b[0m invalid syntax\n"
     ]
    }
   ],
   "source": [
    "python3 -3.0 pip install<anaconda3>"
   ]
  },
  {
   "cell_type": "code",
   "execution_count": 18,
   "id": "9615b2d0",
   "metadata": {},
   "outputs": [
    {
     "name": "stdout",
     "output_type": "stream",
     "text": [
      "Defaulting to user installation because normal site-packages is not writeable\n",
      "Requirement already satisfied: openpyxl in c:\\programdata\\anaconda3\\lib\\site-packages (3.0.10)\n",
      "Requirement already satisfied: et_xmlfile in c:\\programdata\\anaconda3\\lib\\site-packages (from openpyxl) (1.1.0)\n"
     ]
    }
   ],
   "source": [
    "!pip install openpyxl"
   ]
  },
  {
   "cell_type": "markdown",
   "id": "c3afdc07",
   "metadata": {},
   "source": [
    "### 엑셀 파일과 시트 다루기  \n",
    " \n",
    "[엑셀 파일 생성 및 저장]   \n",
    "* 엑셀 파일의 생성과 저장은 openpyxl에 있는 Workbook 클래스를 통해 이루어짐   "
   ]
  },
  {
   "cell_type": "code",
   "execution_count": 10,
   "id": "75fa3515",
   "metadata": {},
   "outputs": [],
   "source": [
    "from openpyxl import Workbook \n",
    "wb=Workbook()\n",
    "ws=wb.active\n",
    "ws.title=\"시트1\"\n",
    "ws.append([\"이름\",\"나이\",\"성별\"])\n",
    "ws.append([\"이순신\",\"55\",\"남자\"])\n",
    "wb.save(filename=\"테스트.xlsx\")"
   ]
  },
  {
   "cell_type": "markdown",
   "id": "3895530a",
   "metadata": {},
   "source": [
    "[엑셀파일 수정 후 저장] "
   ]
  },
  {
   "cell_type": "code",
   "execution_count": 13,
   "id": "9522a136",
   "metadata": {},
   "outputs": [],
   "source": [
    "from openpyxl import load_workbook  \n",
    "wb=load_workbook(filename=\"테스트.xlsx\")\n",
    "ws=wb.active\n",
    "ws.append([\"홍길동\",\"40\",\"남자\"])\n",
    "wb.save(filename=\"테스트.xlsx\")"
   ]
  },
  {
   "cell_type": "markdown",
   "id": "91d10214",
   "metadata": {},
   "source": [
    "## 엑셀 시트 생성 및 복사   \n",
    "\n",
    "### 시트 생성   \n",
    "- 시트 생성 : Workbook클래스 create_sheet()함수 이용  \n",
    "* ()안에 시트 이름을 인자값으로 포함  "
   ]
  },
  {
   "cell_type": "code",
   "execution_count": 19,
   "id": "31b9f606",
   "metadata": {},
   "outputs": [
    {
     "data": {
      "text/plain": [
       "<Worksheet \"시트3\">"
      ]
     },
     "execution_count": 19,
     "metadata": {},
     "output_type": "execute_result"
    }
   ],
   "source": [
    "from openpyxl import Workbook\n",
    "wb=Workbook()\n",
    "wb.create_sheet(\"시트2\")\n",
    "wb.create_sheet(\"시트3\")"
   ]
  },
  {
   "cell_type": "markdown",
   "id": "020ca975",
   "metadata": {},
   "source": [
    "### 시트 정보 출력"
   ]
  },
  {
   "cell_type": "code",
   "execution_count": 21,
   "id": "c0eb4d09",
   "metadata": {},
   "outputs": [
    {
     "name": "stdout",
     "output_type": "stream",
     "text": [
      "['Sheet', '시트2', '시트3']\n"
     ]
    }
   ],
   "source": [
    "print(wb.sheetnames)"
   ]
  },
  {
   "cell_type": "markdown",
   "id": "7d93bc61",
   "metadata": {},
   "source": [
    "### 시트 내용 입력 \n",
    "- 시트 내용 입력 : append()함수   \n",
    "* 특정 시트에 내용 추가 시 먼저 시트 이름 지정"
   ]
  },
  {
   "cell_type": "code",
   "execution_count": 22,
   "id": "c35055b5",
   "metadata": {},
   "outputs": [],
   "source": [
    "ws=wb[\"시트2\"]"
   ]
  },
  {
   "cell_type": "code",
   "execution_count": 23,
   "id": "2b03c954",
   "metadata": {},
   "outputs": [],
   "source": [
    "ws.append([\"첫 번째로 추가된 시트입니다.\"])\n",
    "wb[\"시트3\"].append([\"세 번째 시트에 내용을 추가합니다.\"])\n",
    "\n",
    "wb.save(filename=\"샘플_시트 추가.xlsx\")"
   ]
  },
  {
   "cell_type": "markdown",
   "id": "59ec2ecf",
   "metadata": {},
   "source": [
    "### 시트 복사\n",
    "\n",
    "* 시트복사 : copy_worksheet()"
   ]
  },
  {
   "cell_type": "code",
   "execution_count": 24,
   "id": "483cb75d",
   "metadata": {},
   "outputs": [],
   "source": [
    "from openpyxl import load_workbook\n",
    "wb=load_workbook(\"테스트.xlsx\")\n",
    "wb.copy_worksheet(wb[\"시트1\"])\n",
    "wb.active=wb[\"시트1 Copy\"]\n",
    "wb.save(filename=\"샘플_시트 복사.xlsx\")"
   ]
  },
  {
   "cell_type": "markdown",
   "id": "a4765d13",
   "metadata": {},
   "source": [
    "### 시트 이름 변경  \n",
    "* 시트 이름 변경 : title 멤버변수 사용"
   ]
  },
  {
   "cell_type": "code",
   "execution_count": 25,
   "id": "55eaff56",
   "metadata": {},
   "outputs": [
    {
     "name": "stdout",
     "output_type": "stream",
     "text": [
      "['시트1', '시트1 Copy']\n"
     ]
    }
   ],
   "source": [
    "from openpyxl import load_workbook\n",
    "wb=load_workbook(\"샘플_시트 복사.xlsx\")\n",
    "print(wb.sheetnames)"
   ]
  },
  {
   "cell_type": "code",
   "execution_count": 26,
   "id": "735b033e",
   "metadata": {},
   "outputs": [
    {
     "name": "stdout",
     "output_type": "stream",
     "text": [
      "['시트1', '시트1 복사']\n"
     ]
    }
   ],
   "source": [
    "wb[\"시트1 Copy\"].title=\"시트1 복사\"\n",
    "wb.save(filename=\"샘플_시트 복사.xlsx\")\n",
    "print(wb.sheetnames)"
   ]
  },
  {
   "cell_type": "markdown",
   "id": "0e48ea26",
   "metadata": {},
   "source": [
    "### 시트 순서 변경  \n",
    "* 시트 순서 변경 : Workbook클래스의 move_sheet()함수 사용  \n",
    "* 방법\n",
    "1) 순서 변경시트를 move_sheet()함수의 첫 번재 인자\n",
    "2) 변경할 방향을 두번째 인자(offset)로 활용  \n",
    "+) 두번째 인자에 숫자 -1은 왼쪽이동, +1은 오른쪽 이동\n"
   ]
  },
  {
   "cell_type": "code",
   "execution_count": 27,
   "id": "2fd6aba7",
   "metadata": {},
   "outputs": [
    {
     "name": "stdout",
     "output_type": "stream",
     "text": [
      "['시트1', '시트1 복사']\n"
     ]
    }
   ],
   "source": [
    "from openpyxl import load_workbook  \n",
    "wb=load_workbook(\"샘플_시트 복사.xlsx\")\n",
    "print(wb.sheetnames)"
   ]
  },
  {
   "cell_type": "code",
   "execution_count": 28,
   "id": "b8d8d746",
   "metadata": {},
   "outputs": [
    {
     "name": "stdout",
     "output_type": "stream",
     "text": [
      "['시트1 복사', '시트1']\n"
     ]
    }
   ],
   "source": [
    "wb.move_sheet(wb[\"시트1 복사\"],-1)\n",
    "wb.save(filename=\"샘플_시트 순서 변경.xlsx\")\n",
    "print(wb.sheetnames)"
   ]
  },
  {
   "cell_type": "markdown",
   "id": "889dbdf9",
   "metadata": {},
   "source": [
    "### 시트 삭제  \n",
    "* 시트 삭제 : remove()함수   \n",
    "* 방법 \n",
    "1) 삭제할 시트 객체를 remove()함수의 첫 번째 인자로 활용"
   ]
  },
  {
   "cell_type": "code",
   "execution_count": 29,
   "id": "1a13821b",
   "metadata": {},
   "outputs": [
    {
     "name": "stdout",
     "output_type": "stream",
     "text": [
      "['시트1 복사', '시트1']\n"
     ]
    }
   ],
   "source": [
    "from openpyxl import load_workbook  \n",
    "wb=load_workbook(\"샘플_시트 순서 변경.xlsx\")\n",
    "print(wb.sheetnames)"
   ]
  },
  {
   "cell_type": "code",
   "execution_count": 31,
   "id": "ee8e2d20",
   "metadata": {},
   "outputs": [
    {
     "name": "stdout",
     "output_type": "stream",
     "text": [
      "['시트1']\n"
     ]
    }
   ],
   "source": [
    "wb.remove(wb[\"시트1 복사\"])\n",
    "wb.save(filename=\"샘플_시트 삭제.xlsx\")\n",
    "print(wb.sheetnames)"
   ]
  },
  {
   "cell_type": "markdown",
   "id": "0deabe3d",
   "metadata": {},
   "source": [
    "## 셀 내용 다루기  \n",
    "- 셀의 내용을 확인\n",
    "- 수정\n",
    "- 병합\n",
    "- 병합해제 "
   ]
  },
  {
   "cell_type": "markdown",
   "id": "c2c07429",
   "metadata": {},
   "source": [
    "### 셀 내용 수정 및 삽입  \n",
    "* Workbook객체에 딕셔너리나 튜플 형태로 저장됨  \n",
    "- 딕셔너리나 튜플 자료형은 셀 값과 서식 확인, 내용 추가 가능  "
   ]
  },
  {
   "cell_type": "markdown",
   "id": "952c37f2",
   "metadata": {},
   "source": [
    "### 셀 내용 확인  \n",
    "- 내용 확인 : print() 함수   \n",
    "+) 셀 값을 직접 입력 또는 인덱스 넘버 행은 1부터, 열은 0부터 시작 "
   ]
  },
  {
   "cell_type": "code",
   "execution_count": 32,
   "id": "8b55d082",
   "metadata": {},
   "outputs": [
    {
     "name": "stdout",
     "output_type": "stream",
     "text": [
      "이름\n",
      "이름\n"
     ]
    }
   ],
   "source": [
    "from openpyxl import load_workbook\n",
    "wb=load_workbook(\"테스트.xlsx\")\n",
    "ws=wb[\"시트1\"]\n",
    "print(ws[\"A1\"].value)\n",
    "print(ws[1][0].value)"
   ]
  },
  {
   "cell_type": "markdown",
   "id": "8a2d53f0",
   "metadata": {},
   "source": [
    "### 반복문 통해 셀정보 접근  \n",
    "* 반복문은 셀에 순차적 접근하여 내용 확인 및 수정 가능하게 함   "
   ]
  },
  {
   "cell_type": "code",
   "execution_count": 36,
   "id": "7ff89c57",
   "metadata": {},
   "outputs": [
    {
     "name": "stdout",
     "output_type": "stream",
     "text": [
      "(<Cell '시트1'.A1>, <Cell '시트1'.B1>, <Cell '시트1'.C1>)\n",
      "(<Cell '시트1'.A2>, <Cell '시트1'.B2>, <Cell '시트1'.C2>)\n",
      "(<Cell '시트1'.A3>, <Cell '시트1'.B3>, <Cell '시트1'.C3>)\n"
     ]
    }
   ],
   "source": [
    "from openpyxl import load_workbook  \n",
    "wb=load_workbook(\"테스트.xlsx\")\n",
    "ws=wb[\"시트1\"]\n",
    "for row in ws:\n",
    "    print(row)"
   ]
  },
  {
   "cell_type": "markdown",
   "id": "969b349b",
   "metadata": {},
   "source": [
    "* 반복문을 사용하여 행의 셀 내용을 읽어봐 변수cell에 저장  \n",
    "* cell에 속성 값이 들어 있고, .value를 붙여 사용하면 값 출력 가능"
   ]
  },
  {
   "cell_type": "code",
   "execution_count": 37,
   "id": "933bc54b",
   "metadata": {},
   "outputs": [
    {
     "name": "stdout",
     "output_type": "stream",
     "text": [
      "셀 객체명 : <Cell '시트1'.A1>, 셀 값 : 이름\n",
      "셀 객체명 : <Cell '시트1'.B1>, 셀 값 : 나이\n",
      "셀 객체명 : <Cell '시트1'.C1>, 셀 값 : 성별\n",
      "셀 객체명 : <Cell '시트1'.A2>, 셀 값 : 이순신\n",
      "셀 객체명 : <Cell '시트1'.B2>, 셀 값 : 55\n",
      "셀 객체명 : <Cell '시트1'.C2>, 셀 값 : 남자\n",
      "셀 객체명 : <Cell '시트1'.A3>, 셀 값 : 홍길동\n",
      "셀 객체명 : <Cell '시트1'.B3>, 셀 값 : 40\n",
      "셀 객체명 : <Cell '시트1'.C3>, 셀 값 : 남자\n"
     ]
    }
   ],
   "source": [
    "for row in ws: \n",
    "    for cell in row:\n",
    "        print(\"셀 객체명 : {}, 셀 값 : {}\".format(cell, cell.value))"
   ]
  },
  {
   "cell_type": "markdown",
   "id": "5b6af5af",
   "metadata": {},
   "source": [
    "### 셀 내용 수정  \n",
    "* 셀 값 변경 : ws[\"A1\"]=\"변경 값\""
   ]
  },
  {
   "cell_type": "code",
   "execution_count": 38,
   "id": "a3b1bd2f",
   "metadata": {},
   "outputs": [],
   "source": [
    "from openpyxl import load_workbook\n",
    "wb=load_workbook(\"테스트.xlsx\")\n",
    "ws=wb[\"시트1\"]\n",
    "ws[\"A1\"]=\"성명\"\n",
    "wb.save(filename=\"테스트_셀 내용 변경.xlsx\")\n"
   ]
  },
  {
   "cell_type": "markdown",
   "id": "acfc7284",
   "metadata": {},
   "source": [
    "### 반복문을 통해 셀정보 접근 및 값 변경   \n",
    "* 2행의 셀 값을 변경 "
   ]
  },
  {
   "cell_type": "code",
   "execution_count": 41,
   "id": "f809c43f",
   "metadata": {},
   "outputs": [],
   "source": [
    "from openpyxl import load_workbook\n",
    "wb=load_workbook(\"테스트.xlsx\")\n",
    "ws=wb[\"시트1\"]\n",
    "new_data=[\"신사임당\",\"45\",\"여자\"]\n",
    "\n",
    "row_no=1\n",
    "for row in ws:\n",
    "    if row_no == 2:\n",
    "        for cell in row:\n",
    "            cell.value=new_data[cell.col_idx-1]\n",
    "    row_no +=1\n",
    "wb.save(filename=\"테스트_셀 내용 변경(반복문).xlsx\")"
   ]
  },
  {
   "cell_type": "markdown",
   "id": "86b448d3",
   "metadata": {},
   "source": [
    "### 셀 내용입력  \n",
    "* 새로운 내용 입력 방법\n",
    "1) 셀 주소에 직접 입력\n",
    "2) append()함수 \n",
    "3) 반복문 활용 "
   ]
  },
  {
   "cell_type": "code",
   "execution_count": 42,
   "id": "fc06c47c",
   "metadata": {},
   "outputs": [],
   "source": [
    "from openpyxl import load_workbook\n",
    "wb=load_workbook(\"테스트.xlsx\")\n",
    "ws=wb[\"시트1\"]\n",
    "\n",
    "ws[\"A4\"]=\"신사임당\"\n",
    "ws[\"B4\"]=\"45\"\n",
    "ws[\"C4\"]=\"여자\"\n",
    "\n",
    "ws.append([\"을지문덕\",\"60\",\"남자\"])\n",
    "new_data_list = [[\"유관순\",\"16\",\"여자\"],[\"세종대왕\",\"60\",\"남자\"]]\n",
    "\n",
    "for new_data in new_data_list:\n",
    "    ws.append(new_data)\n",
    "\n",
    "    wb.save(filename=\"테스트_셀 내용 입력.xlsx\")"
   ]
  },
  {
   "cell_type": "code",
   "execution_count": 43,
   "id": "fd1b8765",
   "metadata": {},
   "outputs": [],
   "source": [
    "from openpyxl import load_workbook \n",
    "wb=load_workbook(\"테스트.xlsx\")\n",
    "ws=wb[\"시트1\"]\n",
    "\n",
    "ws.delete_rows(idx=2, amount=1)\n",
    "ws.delete_cols(idx=2, amount=2)\n",
    "\n",
    "wb.save(filename=\"테스트_행과 열 삭제.xlsx\")"
   ]
  },
  {
   "cell_type": "markdown",
   "id": "e7128a95",
   "metadata": {},
   "source": [
    "### 행/열 삭제  \n",
    "\n",
    "* 행과 열단위 데이터 삭제 : delete_rows()/delete_cols()  \n",
    " +) 두함수 모두 idx와 amount를 파라미터로 가짐 \n",
    "  1) idx는 삭제할 행 또는 열의 번호 \n",
    "  2) amount는 idx부터 삭제할 행 또는 열의 개수   \n",
    "  +) 인덱스 사용시 행은 0부터, 열은 1부터 시작함"
   ]
  },
  {
   "cell_type": "code",
   "execution_count": 1,
   "id": "ea6b922e",
   "metadata": {},
   "outputs": [],
   "source": [
    "from openpyxl import load_workbook\n",
    "wb=load_workbook(\"테스트.xlsx\")\n",
    "ws=wb[\"시트1\"]\n",
    "ws.delete_rows(idx=2,amount=1)\n",
    "ws.delete_cols(idx=2, amount=2)\n",
    "\n",
    "wb.save(filename=\"테스트_행과 열 삭제.xlsx\")"
   ]
  },
  {
   "cell_type": "markdown",
   "id": "49a0e501",
   "metadata": {},
   "source": [
    "### 셀 복사 및 이동  \n",
    "\n",
    "#### 셀 복사   \n",
    "* 원본 셀 접근해 값 복사 후 복사 대상 셀 값 변경\n",
    "* 복사 값을 하나의 셀에 붙이거나, 반복문 활용하여 다수 셀 붙여넣음"
   ]
  },
  {
   "cell_type": "code",
   "execution_count": 3,
   "id": "b053621a",
   "metadata": {},
   "outputs": [],
   "source": [
    "from openpyxl import load_workbook\n",
    "wb=load_workbook(\"테스트.xlsx\")\n",
    "ws=wb[\"시트1\"]\n",
    "src=ws[\"A2\"].value\n",
    "ws[\"A5\"]=src\n",
    "for row in ws[\"A6:C6\"]:\n",
    "    for cell in row:\n",
    "            cell.value=src\n",
    "        \n",
    "wb.save(filename=\"테스트_셀 복사1.xlsx\")"
   ]
  },
  {
   "cell_type": "markdown",
   "id": "6dcde6ce",
   "metadata": {},
   "source": [
    "* 여러 셀을 읽어와 지정한 위치 복사 "
   ]
  },
  {
   "cell_type": "code",
   "execution_count": 6,
   "id": "d43cf399",
   "metadata": {},
   "outputs": [],
   "source": [
    "from openpyxl import load_workbook\n",
    "wb=load_workbook(\"테스트.xlsx\")\n",
    "ws=wb[\"시트1\"]\n",
    "\n",
    "src_data=[]\n",
    "for cell in ws[2]:\n",
    "    src_data.append(cell.value)\n",
    "    \n",
    "for row in ws[\"A5:C5\"]:\n",
    "    for cell in row:\n",
    "        cell.value=src_data[cell.col_idx-1]\n",
    "\n",
    "wb.save(filename=\"테스트_셀 복사2.xlsx\")"
   ]
  },
  {
   "cell_type": "markdown",
   "id": "fa7a98ae",
   "metadata": {},
   "source": [
    "#### 셀 내용 이동  \n",
    "* 특정 영역 셀 내용을 원하는 만큼 이동 : move_range()함수 사용   \n",
    "\n",
    "* 방법 \n",
    "1) move_range()함수로 셀 범위 지정\n",
    "2) rows 파라미터에 행 방향으로 이동할 숫자, cols 파라미터에 열 방향 이동할 숫자 입력"
   ]
  },
  {
   "cell_type": "code",
   "execution_count": 7,
   "id": "bb1983cd",
   "metadata": {},
   "outputs": [],
   "source": [
    "from openpyxl import load_workbook\n",
    "wb=load_workbook(\"테스트.xlsx\")\n",
    "ws=wb[\"시트1\"]\n",
    "\n",
    "ws.move_range(\"B1:C3\",rows=1,cols=2)\n",
    "wb.save(filename=\"테스트_셀 이동.xlsx\")"
   ]
  },
  {
   "cell_type": "markdown",
   "id": "91c21b2e",
   "metadata": {},
   "source": [
    "#### 셀 병합 및 해제  \n",
    "* 셀 내용 병합 및 해제 : merge_cells()/unmerge_cells() 사용  "
   ]
  },
  {
   "cell_type": "code",
   "execution_count": 8,
   "id": "228a2158",
   "metadata": {},
   "outputs": [],
   "source": [
    "from openpyxl import load_workbook\n",
    "wb=load_workbook(\"테스트.xlsx\")\n",
    "ws=wb[\"시트1\"]\n",
    "\n",
    "ws.merge_cells(\"A1:B1\")\n",
    "ws.merge_cells(\"A2:B2\")\n",
    "\n",
    "ws.unmerge_cells(\"A2:B2\")\n",
    "wb.save(filename=\"테스트_셀 병합.xlsx\")"
   ]
  },
  {
   "cell_type": "markdown",
   "id": "e0150944",
   "metadata": {},
   "source": [
    "#### 텍스트 형식을 숫자형식으로 변환 후 엑셀 함수 연산  \n",
    "* 텍스트 형식을 숫자형식으로 변환 : data_type  \n",
    " +) 정수형 : i, 자료형: s, 실수형 : f "
   ]
  },
  {
   "cell_type": "code",
   "execution_count": 1,
   "id": "0fc9a3e0",
   "metadata": {},
   "outputs": [],
   "source": [
    "from openpyxl import load_workbook\n",
    "wb=load_workbook(\"테스트.xlsx\")\n",
    "ws=wb[\"시트1\"]\n",
    "\n",
    "ws[\"B2\"].data_type=\"i\"\n",
    "ws[\"B3\"].data_type=\"i\"\n",
    "ws[\"A4\"]=\"나이 합계\"\n",
    "ws[\"B4\"]=\"=sum(B2:B3)\"\n",
    "wb.save(filename=\"테스트_셀 연산.xlsx\")"
   ]
  },
  {
   "cell_type": "markdown",
   "id": "80a7f28d",
   "metadata": {},
   "source": [
    "### 셀 서식   \n",
    "#### 셀 배경 및 폰트 서식   \n",
    "* 셀 배경 변경 : openpyxl.styles패키지의 PatternFill클래스\n",
    "* 폰트 서식 변경 : Font클래스   \n",
    " +) 셀 서식 관련 변수 fill, font, border 값으로 설정 "
   ]
  },
  {
   "cell_type": "code",
   "execution_count": 2,
   "id": "aa3b72a3",
   "metadata": {},
   "outputs": [],
   "source": [
    "from openpyxl import load_workbook\n",
    "from openpyxl. styles import Font, PatternFill\n",
    "\n",
    "wb=load_workbook(\"테스트.xlsx\")\n",
    "ws=wb[\"시트1\"]\n",
    "\n",
    "fill_style=PatternFill(fill_type=\"solid\", start_color=\"000000\")\n",
    "font_style=Font(color=\"FFFFFF\", sz=12, bold=True)\n",
    "\n",
    "for row in ws:\n",
    "    for cell in row:\n",
    "        if cell.row==1:\n",
    "            cell.fill=fill_style\n",
    "            cell.font=font_style\n",
    "wb.save(filename=\"테스트_배경 서식 변경.xlsx\")"
   ]
  },
  {
   "cell_type": "code",
   "execution_count": 3,
   "id": "56344e51",
   "metadata": {},
   "outputs": [],
   "source": [
    "from openpyxl import load_workbook \n",
    "wb=load_workbook(\"테스트_배경 서식 변경.xlsx\")\n",
    "ws=wb[\"시트1\"]\n",
    "\n",
    "for i in range(1,6):\n",
    "    ws.row_dimensions[i].height=24\n",
    "ws.column_dimensions[\"A\"].width=14\n",
    "wb.save(filename=\"테스트_너비와 높이 조정.xlsx\")"
   ]
  },
  {
   "cell_type": "markdown",
   "id": "d10f45a9",
   "metadata": {},
   "source": [
    "#### 텍스트 정렬  \n",
    "* 텍스트 가로 및 세로 정렬 : openpyxl.styles패키지 Alignment클래스 사용   \n",
    "* 방법 : 정렬 값 저장 객체 생성 후, 정렬하고자 하는 셀의 alignment변수 값에 설정   \n",
    " +) 텍스트 회전, 들려쓰기, 텍스트 셀에 맞추기, 텍스트 줄바꿈 설정 가능 "
   ]
  },
  {
   "cell_type": "code",
   "execution_count": 2,
   "id": "ef390363",
   "metadata": {},
   "outputs": [],
   "source": [
    "from openpyxl import load_workbook\n",
    "from openpyxl.styles import Alignment\n",
    "\n",
    "wb=load_workbook(\"테스트_너비와 높이 조정.xlsx\")\n",
    "ws=wb[\"시트1\"]\n",
    "\n",
    "alignment_style=Alignment(horizontal=\"center\", vertical=\"center\")\n",
    "\n",
    "for row in ws:\n",
    "    for cell in row:\n",
    "        cell.alignment=alignment_style\n",
    "\n",
    "wb.save(filename=\"테스트_텍스트 정렬.xlsx\")"
   ]
  },
  {
   "cell_type": "markdown",
   "id": "d47545f3",
   "metadata": {},
   "source": [
    "#### 셀 테두리 서식 변경  \n",
    "* 셀 테두리 서식 설정 : openpyxl.styles 패키지의 Side클래스  \n",
    "* 셀의 어떤 부분에 테두리 서식 적용 설정 : Border클래스 사용  "
   ]
  },
  {
   "cell_type": "code",
   "execution_count": 4,
   "id": "3d72eed6",
   "metadata": {},
   "outputs": [],
   "source": [
    "from openpyxl import load_workbook\n",
    "from openpyxl.styles import Side, Border\n",
    "wb=load_workbook(\"테스트_텍스트 정렬.xlsx\")\n",
    "ws=wb[\"시트1\"]\n",
    "side_style=Side(style=\"medium\", color=\"000000\")\n",
    "\n",
    "border_styles=Border(\n",
    "    left=side_style,\n",
    "    right=side_style,\n",
    "    top=side_style, \n",
    "    bottom=side_style)\n",
    "\n",
    "for row in ws:\n",
    "    for cell in row:\n",
    "        cell.border=border_styles\n",
    "wb.save(filename=\"테스트_셀 테두리 변경.xlsx\")"
   ]
  },
  {
   "cell_type": "code",
   "execution_count": 6,
   "id": "cf13230d",
   "metadata": {},
   "outputs": [],
   "source": [
    "from openpyxl import load_workbook\n",
    "wb=load_workbook(\"고객 만족 데이터.xlsx\")\n",
    "ws=wb[\"Sheet1\"]"
   ]
  },
  {
   "cell_type": "code",
   "execution_count": 9,
   "id": "836fd499",
   "metadata": {},
   "outputs": [],
   "source": [
    "for row in ws:\n",
    "    for cell in row:\n",
    "        if cell.col_idx>0 and cell.col_idx<7 and cell.row>1:\n",
    "            cell.data_type=\"i\""
   ]
  },
  {
   "cell_type": "code",
   "execution_count": null,
   "id": "c0392139",
   "metadata": {},
   "outputs": [],
   "source": []
  }
 ],
 "metadata": {
  "kernelspec": {
   "display_name": "Python 3 (ipykernel)",
   "language": "python",
   "name": "python3"
  },
  "language_info": {
   "codemirror_mode": {
    "name": "ipython",
    "version": 3
   },
   "file_extension": ".py",
   "mimetype": "text/x-python",
   "name": "python",
   "nbconvert_exporter": "python",
   "pygments_lexer": "ipython3",
   "version": "3.10.9"
  }
 },
 "nbformat": 4,
 "nbformat_minor": 5
}
