{
 "cells": [
  {
   "cell_type": "markdown",
   "id": "2a9fef03",
   "metadata": {},
   "source": [
    "# 7.2 파워포인트 업무 자동화  \n",
    "\n",
    "## 1) python-pptx 개요  \n",
    "\n",
    "[주요 기능]  \n",
    "    * 파워포인트 파일 읽기/쓰기 지원  \n",
    "    * 슬라이드 추가 및 삭제, 글상자, 이미지, 표, 도형 등 개체 추가 및 조정  \n",
    "    * PPL 그래프(차트) 추가  \n",
    "    * 파워포인트 사용 기능 대부분"
   ]
  },
  {
   "cell_type": "code",
   "execution_count": 6,
   "id": "f54daf03",
   "metadata": {},
   "outputs": [
    {
     "name": "stdout",
     "output_type": "stream",
     "text": [
      "Name: pandas\n",
      "Version: 1.5.3\n",
      "Summary: Powerful data structures for data analysis, time series, and statistics\n",
      "Home-page: https://pandas.pydata.org\n",
      "Author: The Pandas Development Team\n",
      "Author-email: pandas-dev@python.org\n",
      "License: BSD-3-Clause\n",
      "Location: c:\\programdata\\anaconda3\\lib\\site-packages\n",
      "Requires: numpy, python-dateutil, pytz\n",
      "Required-by: datashader, holoviews, hvplot, seaborn, statsmodels, xarray\n",
      "Note: you may need to restart the kernel to use updated packages.\n"
     ]
    }
   ],
   "source": [
    "pip show pandas"
   ]
  },
  {
   "cell_type": "code",
   "execution_count": 7,
   "id": "d4eeafb5",
   "metadata": {
    "scrolled": true
   },
   "outputs": [
    {
     "name": "stdout",
     "output_type": "stream",
     "text": [
      "Defaulting to user installation because normal site-packages is not writeable\n",
      "Requirement already satisfied: python-pptx in c:\\users\\dmsco\\appdata\\roaming\\python\\python310\\site-packages (0.6.21)\n",
      "Requirement already satisfied: lxml>=3.1.0 in c:\\programdata\\anaconda3\\lib\\site-packages (from python-pptx) (4.9.1)\n",
      "Requirement already satisfied: XlsxWriter>=0.5.7 in c:\\users\\dmsco\\appdata\\roaming\\python\\python310\\site-packages (from python-pptx) (3.1.0)\n",
      "Requirement already satisfied: Pillow>=3.3.2 in c:\\programdata\\anaconda3\\lib\\site-packages (from python-pptx) (9.4.0)\n"
     ]
    }
   ],
   "source": [
    "!pip install python-pptx"
   ]
  },
  {
   "cell_type": "markdown",
   "id": "6d10f2d3",
   "metadata": {},
   "source": [
    "## 2) 파워포인트 파일 다루기   \n",
    "\n",
    "* 파워포인트 파일 생성하고 저장  \n",
    "    - 파일을 생성, 저장, 평집하기 위하여, pptx 모듈의 하위클래스인 Presentaion클래스 불러옴"
   ]
  },
  {
   "cell_type": "code",
   "execution_count": 8,
   "id": "f6132d5a",
   "metadata": {},
   "outputs": [],
   "source": [
    "from pptx import Presentation"
   ]
  },
  {
   "cell_type": "markdown",
   "id": "8857bef3",
   "metadata": {},
   "source": [
    "* prs는 파워포인트 파일"
   ]
  },
  {
   "cell_type": "code",
   "execution_count": 9,
   "id": "2fe6ce78",
   "metadata": {},
   "outputs": [],
   "source": [
    "prs=Presentation()\n",
    "prs.save(\"샘플.pptx\")"
   ]
  },
  {
   "cell_type": "markdown",
   "id": "9f55fd82",
   "metadata": {},
   "source": [
    "#### 파워포인트 파일 수정하기"
   ]
  },
  {
   "cell_type": "markdown",
   "id": "68510403",
   "metadata": {},
   "source": [
    "Presentation 객체 생성  \n",
    "\n",
    "* slides 속성 : 모든 슬라이드를 리스트 형태로 저장함 \n",
    "* shapes 속성 : 특정 개체(글상자, 이미지, 도형 등) 에 접근가능함"
   ]
  },
  {
   "cell_type": "markdown",
   "id": "7f47fd97",
   "metadata": {},
   "source": [
    "##### 파워포인트 파일 수정하기   \n",
    "1) Presentation() 함수로 파일 불러와서 prs 객체 생성  \n",
    "2) slide1에 prs 객체 저장  \n",
    "3) slide1.shapes 멤버변수는 모든 개체들(글상자, 이미지, 표, 도형 등)의 정보를 가지며, 반복문으로 개체형식(shape_type) 출력  \n",
    "4) shape_type에서 AUTO_SHAPE은 도형, PICTURE은 이미지, TEXT_BOX는 글상자, TABLE은 표, GRUOP은 그룹화된 개체"
   ]
  },
  {
   "cell_type": "code",
   "execution_count": 10,
   "id": "4812408c",
   "metadata": {},
   "outputs": [
    {
     "name": "stdout",
     "output_type": "stream",
     "text": [
      "AUTO_SHAPE (1)\n",
      "PICTURE (13)\n",
      "TEXT_BOX (17)\n",
      "AUTO_SHAPE (1)\n",
      "TABLE (19)\n",
      "AUTO_SHAPE (1)\n",
      "AUTO_SHAPE (1)\n",
      "AUTO_SHAPE (1)\n",
      "AUTO_SHAPE (1)\n",
      "AUTO_SHAPE (1)\n",
      "GROUP (6)\n",
      "GROUP (6)\n",
      "AUTO_SHAPE (1)\n",
      "AUTO_SHAPE (1)\n",
      "AUTO_SHAPE (1)\n",
      "AUTO_SHAPE (1)\n",
      "AUTO_SHAPE (1)\n"
     ]
    }
   ],
   "source": [
    "from pptx import Presentation\n",
    "prs=Presentation(\"사내 어린이집 원아모집.pptx\")\n",
    "slide1=prs.slides[0]\n",
    "for shape in slide1.shapes:\n",
    "    print(shape.shape_type)"
   ]
  },
  {
   "cell_type": "markdown",
   "id": "aa09cb66",
   "metadata": {},
   "source": [
    "#### 도형 및 글상자에 있는 텍스트 추출  \n",
    "* 도형(AUTO_SHAPE)의 인덱스 넘버는 1, 글상자(TEXT_BOX)의 인덱스 넘버 17  \n",
    "    - 해당 번호를 이용해 필터링함  \n",
    "        - shape.txt 멤버변수를 사용하여 필터링된 개체의 텍스트에 접근 "
   ]
  },
  {
   "cell_type": "code",
   "execution_count": 11,
   "id": "eacde2bb",
   "metadata": {},
   "outputs": [
    {
     "name": "stdout",
     "output_type": "stream",
     "text": [
      "사내 어린이집 원아모집 (안내)\n",
      "직장 어린이집 원아모집 관련 내용을 안내드리오니\n",
      "자녀분의 입소를 희망하시는 직원분께서는 신청해주시기 바랍니다.\n",
      "1. 모집 대상 : 만 1세 ~ 만 5세의 영유아가 있는 직원\n",
      "- 연령별 원아모집 결과에 따라 반별 인원은 조정 가능, 결원 시 수시모집\n",
      " \n",
      "2. 모집 인원 (변동 가능)\n",
      "3. 신청방법 \n",
      "\n",
      "바른\n",
      "어린이집\n",
      "신청 : 어린이집 홈페이지 신청\n",
      "서류 제출 : 직접 우편접수 (첨부1 서류목록 및 제출처 주소지 참조)\n",
      "접수 일정 : ~11.6(금) 18시까지 온라인 접수  *20.11.13(금) 오후 2시 발표 예정\n",
      "신청 : 어린이집 홈페이지 신청\n",
      "서류 제출 : 이메일 제출\u000b",
      "* 메일 제목 : 신청자 이름/아동 이름(생년월일)/서류제출명\n",
      "접수 일정 : ~11.6(금) 18시까지 온라인 접수  *20.11.13(금) 오후 2시 발표 예정\n",
      "신청 : 담당자 이메일 신청\u000b",
      "* 자녀 성명/생년/모집구분 기재 必 (가족관계증명서 必)\n",
      "접수 일정 : ~11.6(금) 18시까지 메일 접수 *20.11.13(금) 오후 2시 발표 예정\n",
      "※ 첨부 : 어린이집 제출서류 상세 (안내)\n",
      "【마침】\n"
     ]
    }
   ],
   "source": [
    "from pptx import Presentation\n",
    "prs=Presentation(\"사내 어린이집 원아모집.pptx\")\n",
    "slide1=prs.slides[0]\n",
    "for shape in slide1.shapes:\n",
    "    if shape.shape_type==1 or shape.shape_type==17:\n",
    "        print(shape.text)"
   ]
  },
  {
   "cell_type": "code",
   "execution_count": 12,
   "id": "05795074",
   "metadata": {},
   "outputs": [],
   "source": [
    "from pptx import Presentation\n",
    "prs=Presentation(\"사내 어린이집 원아모집.pptx\")\n",
    "\n",
    "slide1=prs.slides[0]\n",
    "for shape in slide1.shapes:\n",
    "    if shape.shape_type==1 and \"원아모집 (안내)\" in shape.text:\n",
    "        shape.text=\"어린이집 모집 안내\"\n",
    "prs.save(\"사내 어린이집 원아모집_수정.pptx\")"
   ]
  },
  {
   "cell_type": "code",
   "execution_count": 14,
   "id": "8249bacd",
   "metadata": {},
   "outputs": [],
   "source": [
    "from pptx import Presentation\n",
    "from pptx.util import Pt\n",
    "from pptx.dml.color import RGBColor\n",
    "from pptx.enum.text import PP_ALIGN\n",
    "\n",
    "prs=Presentation(\"사내 어린이집 원아모집.pptx\")\n",
    "\n",
    "slide1=prs.slides[0]\n",
    "for shape in slide1.shapes:\n",
    "    \n",
    "    if shape.shape_type==1 and \"원아모집 (안내)\" in shape.text:\n",
    "        shape.text=\"어린이집 모집안내\"\n",
    "        shape.text_frame.paragraphs[0].alignment==PP_ALIGN.CENTER\n",
    "        shape.text_frame.paragraphs[0].font.bold=True\n",
    "        shape.text_frame.paragraphs[0].font.name=\"맑은 고딕\"\n",
    "        \n",
    "        shape.text_frame.paragraphs[0].font.size=Pt(20)\n",
    "        shape.text_frame.paragraphs[0].font.color.rgb=RGBColor(0xFF, 0xFF, 0xFF)\n",
    "  \n",
    "prs.save(\"사내 어린이집 원아모집_서식수정.pptx\")\n"
   ]
  },
  {
   "cell_type": "code",
   "execution_count": 17,
   "id": "8809514f",
   "metadata": {},
   "outputs": [
    {
     "name": "stdout",
     "output_type": "stream",
     "text": [
      "모집구분\n",
      "생년월일\n",
      "모집구분\n",
      "생년월일\n",
      "바른어린이집\n",
      "곧은어린이집\n",
      "희망어린이집\n",
      "만 1세반\n",
      "‘19.1.1 ~ ‘19.12.31\n",
      "16\n",
      "18\n",
      "20\n",
      "만 2세반\n",
      "‘18.1.1 ~ ‘18.12.31\n",
      "18\n",
      "18\n",
      "15\n",
      "만 3세반\n",
      "‘17.1.1 ~ ‘17.12.31\n",
      "15\n",
      "22\n",
      "19\n",
      "만 4세반\n",
      "‘16.1.1 ~ ‘16.12.31\n",
      "15\n",
      "12\n",
      "14\n",
      "만 5세반\n",
      "’15.1.1 ~ ’15.12.31\n",
      "15\n",
      "12\n",
      "13\n",
      "計\n",
      "\n",
      "79\n",
      "82\n",
      "81\n"
     ]
    }
   ],
   "source": [
    "from pptx import Presentation\n",
    "prs=Presentation(\"사내 어린이집 원아모집.pptx\")\n",
    "slide1=prs.slides[0]\n",
    "\n",
    "for shape in slide1.shapes:\n",
    "    if shape.has_table:\n",
    "        print(shape.table.cell(row_idx=0, col_idx=0).text)\n",
    "        \n",
    "        print(shape.table.cell(0,1).text)\n",
    "        for cell in shape.table.iter_cells():\n",
    "            \n",
    "            print(cell.text)"
   ]
  },
  {
   "cell_type": "code",
   "execution_count": 25,
   "id": "9e69993d",
   "metadata": {},
   "outputs": [],
   "source": [
    "from pptx import Presentation\n",
    "from pptx.util import Pt\n",
    "from pptx.enum.text import PP_ALIGN\n",
    "prs=Presentation(\"사내 어린이집 원아모집.pptx\")\n",
    "\n",
    "replace_text=[[\"바른어린이집\",\"좋은어린이집\"],[\"곧은어린이집\",\"멋진어린이집\"],\n",
    "              [\"희망어린이집\",\"밝은어린이집\"]]\n",
    "\n",
    "slide1=prs.slides[0]\n",
    "for shape in slide1.shapes:\n",
    "    if shape.has_table:\n",
    "        for cell in shape.table.iter_cells():\n",
    "            for re_text in replace_text:\n",
    "                if cell.text==re_text[0]:\n",
    "                    cell.text=re_text[1]\n",
    "                    cell.text_frame.paragraphs[0].alignment=PP_ALIGN.CENTER\n",
    "                    cell.text_frame.paragraphs[0].font.name=\"맑은 고딕\"\n",
    "                    cell.text_frame.paragraphs[0].font.bold=True\n",
    "                    cell.text_frame.paragraphs[0].font.size=Pt(11)\n",
    "                    break\n",
    "                    \n",
    "prs.save(\"사내 어린이집 원아모집_표 내용 수정.pptx\")"
   ]
  },
  {
   "cell_type": "code",
   "execution_count": null,
   "id": "1680f642",
   "metadata": {},
   "outputs": [],
   "source": []
  }
 ],
 "metadata": {
  "kernelspec": {
   "display_name": "Python 3 (ipykernel)",
   "language": "python",
   "name": "python3"
  },
  "language_info": {
   "codemirror_mode": {
    "name": "ipython",
    "version": 3
   },
   "file_extension": ".py",
   "mimetype": "text/x-python",
   "name": "python",
   "nbconvert_exporter": "python",
   "pygments_lexer": "ipython3",
   "version": "3.10.9"
  }
 },
 "nbformat": 4,
 "nbformat_minor": 5
}
