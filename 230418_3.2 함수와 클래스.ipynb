{
 "cells": [
  {
   "cell_type": "markdown",
   "id": "f894be9a",
   "metadata": {},
   "source": [
    "# 3.2 함수와 클래스"
   ]
  },
  {
   "cell_type": "markdown",
   "id": "fe26fe28",
   "metadata": {},
   "source": [
    "### 함수만들기  \n",
    "\n",
    "함수는 def로 정의하고, 함수명은 변수처럼 임의로 만듦.  \n",
    "\n",
    "- 어떤 입력값을 주었을 때, 특정 기능을 수행한 후 결과값을 돌려주는 코드의 집합  "
   ]
  },
  {
   "cell_type": "code",
   "execution_count": 47,
   "id": "48f13f76",
   "metadata": {},
   "outputs": [
    {
     "name": "stdout",
     "output_type": "stream",
     "text": [
      "30\n"
     ]
    }
   ],
   "source": [
    "def mul(c,b):\n",
    "    result=c+b\n",
    "    return result\n",
    "print(mul(10,20))"
   ]
  },
  {
   "cell_type": "markdown",
   "id": "bac7d6ce",
   "metadata": {},
   "source": [
    "- 입력과 결과값이 모두 있는 일반적인 함수이며, mul()함수는 매개변수 값을 곱하여 반환"
   ]
  },
  {
   "cell_type": "code",
   "execution_count": 4,
   "id": "ba295f35",
   "metadata": {},
   "outputs": [
    {
     "name": "stdout",
     "output_type": "stream",
     "text": [
      "200\n"
     ]
    }
   ],
   "source": [
    "def mul(x,y):\n",
    "    res=x*y\n",
    "    return res\n",
    "print(mul(100,2))"
   ]
  },
  {
   "cell_type": "markdown",
   "id": "79cf4739",
   "metadata": {},
   "source": [
    "- 입력이 없는 함수는 good()함수로 별도의 매개변수는 없음"
   ]
  },
  {
   "cell_type": "code",
   "execution_count": 5,
   "id": "6df5eeda",
   "metadata": {},
   "outputs": [
    {
     "name": "stdout",
     "output_type": "stream",
     "text": [
      "안녕하세요! 반갑습니다.\n"
     ]
    }
   ],
   "source": [
    "def good():\n",
    "    return \"안녕하세요! 반갑습니다.\"\n",
    "print(good())"
   ]
  },
  {
   "cell_type": "markdown",
   "id": "dc4815b7",
   "metadata": {},
   "source": [
    "- 결과값이 없는 함수는 test() 함수로 매개변수로 전달받은 값이 60점 이상이면 합격 축하 메시지를 60점 미만이면 불합격 메시지를 출력"
   ]
  },
  {
   "cell_type": "code",
   "execution_count": 7,
   "id": "9b8e2e21",
   "metadata": {},
   "outputs": [
    {
     "name": "stdout",
     "output_type": "stream",
     "text": [
      "불합격입니다.ㅜㅜ\n"
     ]
    }
   ],
   "source": [
    "def test(a):\n",
    "    if a>=60:\n",
    "        print(\"합격을 축하드립니다.\")\n",
    "    else:\n",
    "        print(\"불합격입니다.ㅜㅜ\")\n",
    "test(55)"
   ]
  },
  {
   "cell_type": "markdown",
   "id": "1c40440e",
   "metadata": {},
   "source": [
    "- 매개변수와 return()문이 모두 없는 함수"
   ]
  },
  {
   "cell_type": "code",
   "execution_count": null,
   "id": "cf0d483f",
   "metadata": {},
   "outputs": [],
   "source": [
    "def sayhello():\n",
    "    print(\"안녕하세요! 반갑습니다.\")\n",
    "sayhello()"
   ]
  },
  {
   "cell_type": "markdown",
   "id": "1dac6fb8",
   "metadata": {},
   "source": [
    "- 함수 사용시 주의점은 변수의 효력 범위  \n",
    "함수 안의 변수와 함수 밖의 변수는 변수명이 동일하더라도 서로 다른 변수임. \n"
   ]
  },
  {
   "cell_type": "code",
   "execution_count": 9,
   "id": "e1f92325",
   "metadata": {},
   "outputs": [
    {
     "name": "stdout",
     "output_type": "stream",
     "text": [
      "1\n"
     ]
    }
   ],
   "source": [
    "a=1\n",
    "def test(a):\n",
    "    a=a+1\n",
    "    return a\n",
    "test(a)\n",
    "print(a)"
   ]
  },
  {
   "cell_type": "markdown",
   "id": "b45740a9",
   "metadata": {},
   "source": [
    "## 입력과 출력 함수"
   ]
  },
  {
   "cell_type": "code",
   "execution_count": 10,
   "id": "e537d57c",
   "metadata": {},
   "outputs": [
    {
     "name": "stdout",
     "output_type": "stream",
     "text": [
      "Hello Python!\n"
     ]
    }
   ],
   "source": [
    "test=input()"
   ]
  },
  {
   "cell_type": "code",
   "execution_count": 11,
   "id": "5a5f98fd",
   "metadata": {},
   "outputs": [
    {
     "name": "stdout",
     "output_type": "stream",
     "text": [
      "Hello Python!\n"
     ]
    }
   ],
   "source": [
    "print(test)"
   ]
  },
  {
   "cell_type": "code",
   "execution_count": 12,
   "id": "db3d3d62",
   "metadata": {},
   "outputs": [
    {
     "data": {
      "text/plain": [
       "str"
      ]
     },
     "execution_count": 12,
     "metadata": {},
     "output_type": "execute_result"
    }
   ],
   "source": [
    "type(test)"
   ]
  },
  {
   "cell_type": "markdown",
   "id": "62e74230",
   "metadata": {},
   "source": [
    "출력함수  \n",
    "- 출력하고 싶은 변수, 문자, 숫자, 연산식 등을 print()함수에 입력하여 그 값을 출력  \n",
    "\n",
    "- 여러 문자열을 하나의 print()로 출력하고 싶으면 문자열 사이 공백, 콤마, 더하기를 사용"
   ]
  },
  {
   "cell_type": "code",
   "execution_count": 13,
   "id": "7de2c851",
   "metadata": {},
   "outputs": [
    {
     "name": "stdout",
     "output_type": "stream",
     "text": [
      "Ieat5eggs\n"
     ]
    }
   ],
   "source": [
    "print(\"I\"\"eat\"\"5\"\"eggs\")"
   ]
  },
  {
   "cell_type": "code",
   "execution_count": 14,
   "id": "68455433",
   "metadata": {},
   "outputs": [
    {
     "name": "stdout",
     "output_type": "stream",
     "text": [
      "I eat 5 eggs\n"
     ]
    }
   ],
   "source": [
    "print(\"I\",\"eat\",\"5\",\"eggs\")"
   ]
  },
  {
   "cell_type": "code",
   "execution_count": 15,
   "id": "10d45417",
   "metadata": {},
   "outputs": [
    {
     "name": "stdout",
     "output_type": "stream",
     "text": [
      "Ieat5eggs\n"
     ]
    }
   ],
   "source": [
    "print(\"I\"+\"eat\"+\"5\"+\"eggs\")"
   ]
  },
  {
   "cell_type": "code",
   "execution_count": 16,
   "id": "37bc6f23",
   "metadata": {},
   "outputs": [
    {
     "name": "stdout",
     "output_type": "stream",
     "text": [
      "I eat 5 eggs "
     ]
    }
   ],
   "source": [
    "print(\"I\",end=\" \")\n",
    "print(\"eat\",end=\" \")\n",
    "print(\"5\",end=\" \")\n",
    "print(\"eggs\",end=\" \")"
   ]
  },
  {
   "cell_type": "markdown",
   "id": "9dcb2ef3",
   "metadata": {},
   "source": [
    "내장함수  \n",
    "- print(), input(), range() 등이 내장함수임"
   ]
  },
  {
   "cell_type": "markdown",
   "id": "decb1d21",
   "metadata": {},
   "source": [
    "abs() 절대값 반환함수"
   ]
  },
  {
   "cell_type": "code",
   "execution_count": 17,
   "id": "f918d523",
   "metadata": {},
   "outputs": [
    {
     "data": {
      "text/plain": [
       "5"
      ]
     },
     "execution_count": 17,
     "metadata": {},
     "output_type": "execute_result"
    }
   ],
   "source": [
    "abs(-5)"
   ]
  },
  {
   "cell_type": "code",
   "execution_count": 18,
   "id": "f69ecf30",
   "metadata": {},
   "outputs": [
    {
     "data": {
      "text/plain": [
       "True"
      ]
     },
     "execution_count": 18,
     "metadata": {},
     "output_type": "execute_result"
    }
   ],
   "source": [
    "abs(2)==abs(-2)"
   ]
  },
  {
   "cell_type": "markdown",
   "id": "40a469bf",
   "metadata": {},
   "source": [
    "chr(), ord()함수  \n",
    "- 유니코드 값을 입력받아 해당 문자를 출력, 문자의 유니코드 값을 돌려주는 함수"
   ]
  },
  {
   "cell_type": "code",
   "execution_count": 19,
   "id": "27bea7d8",
   "metadata": {},
   "outputs": [
    {
     "name": "stdout",
     "output_type": "stream",
     "text": [
      "a b c d e f g h i j k l m n o p q r s t u v w x y z "
     ]
    }
   ],
   "source": [
    "for i in range(97,123):print(chr(i),end=\" \")"
   ]
  },
  {
   "cell_type": "code",
   "execution_count": 20,
   "id": "80e55122",
   "metadata": {},
   "outputs": [
    {
     "name": "stdout",
     "output_type": "stream",
     "text": [
      "97 118 99 100 "
     ]
    }
   ],
   "source": [
    "for i in [\"a\",\"v\",\"c\",\"d\"]:print(ord(i), end=\" \")"
   ]
  },
  {
   "cell_type": "markdown",
   "id": "c662d65f",
   "metadata": {},
   "source": [
    "enumerate()함수   \n",
    "- 순서가 있는 자료형(리스트, 튜플, 문자열)을 입력받아 인덱스 값을 포함하는 객체 반환. for문과 함께 쓰임"
   ]
  },
  {
   "cell_type": "code",
   "execution_count": 21,
   "id": "936ea7ca",
   "metadata": {},
   "outputs": [
    {
     "name": "stdout",
     "output_type": "stream",
     "text": [
      "0 사과\n",
      "1 참외\n",
      "2 수박\n"
     ]
    }
   ],
   "source": [
    "for i, item in enumerate([\"사과\",\"참외\",\"수박\"]):print(i,item)"
   ]
  },
  {
   "cell_type": "markdown",
   "id": "4f5dbae2",
   "metadata": {},
   "source": [
    "int()함수  \n",
    "- 문자열 형식의 숫자나 소수점이 있는 숫자를 정수로 돌려주는 함수"
   ]
  },
  {
   "cell_type": "code",
   "execution_count": 22,
   "id": "454ca653",
   "metadata": {},
   "outputs": [
    {
     "data": {
      "text/plain": [
       "8"
      ]
     },
     "execution_count": 22,
     "metadata": {},
     "output_type": "execute_result"
    }
   ],
   "source": [
    "int(\"8\")"
   ]
  },
  {
   "cell_type": "code",
   "execution_count": 24,
   "id": "1fcd46f0",
   "metadata": {},
   "outputs": [
    {
     "data": {
      "text/plain": [
       "2"
      ]
     },
     "execution_count": 24,
     "metadata": {},
     "output_type": "execute_result"
    }
   ],
   "source": [
    "int(2.3)"
   ]
  },
  {
   "cell_type": "markdown",
   "id": "8249ac1f",
   "metadata": {},
   "source": [
    "len()함수  \n",
    "- 입력 변수의 길이(요소의 개수) 반환"
   ]
  },
  {
   "cell_type": "code",
   "execution_count": 25,
   "id": "9fa4370a",
   "metadata": {},
   "outputs": [
    {
     "data": {
      "text/plain": [
       "4"
      ]
     },
     "execution_count": 25,
     "metadata": {},
     "output_type": "execute_result"
    }
   ],
   "source": [
    "len(\"대한민국\")"
   ]
  },
  {
   "cell_type": "code",
   "execution_count": 26,
   "id": "c76ed8d5",
   "metadata": {},
   "outputs": [
    {
     "data": {
      "text/plain": [
       "6"
      ]
     },
     "execution_count": 26,
     "metadata": {},
     "output_type": "execute_result"
    }
   ],
   "source": [
    "len([1,2,3,4,5,6])"
   ]
  },
  {
   "cell_type": "markdown",
   "id": "6d74dd7a",
   "metadata": {},
   "source": [
    "max(), min()함수  \n",
    "- 반복 가능한 자료를 입력받아, 최대값 최소값 반환"
   ]
  },
  {
   "cell_type": "code",
   "execution_count": 27,
   "id": "e04f33c5",
   "metadata": {},
   "outputs": [
    {
     "data": {
      "text/plain": [
       "(8, 1)"
      ]
     },
     "execution_count": 27,
     "metadata": {},
     "output_type": "execute_result"
    }
   ],
   "source": [
    "test=[1,2,3,4,5,6,7,8]\n",
    "max(test),min(test)"
   ]
  },
  {
   "cell_type": "markdown",
   "id": "10b73bb4",
   "metadata": {},
   "source": [
    "pow()함수  \n",
    "- 제곱값을 계산하는 함수, pow(x,y)는 x를 y제곱한 결과 반환"
   ]
  },
  {
   "cell_type": "code",
   "execution_count": 28,
   "id": "af959d16",
   "metadata": {},
   "outputs": [
    {
     "data": {
      "text/plain": [
       "9"
      ]
     },
     "execution_count": 28,
     "metadata": {},
     "output_type": "execute_result"
    }
   ],
   "source": [
    "pow(3,2)"
   ]
  },
  {
   "cell_type": "code",
   "execution_count": 29,
   "id": "f851a145",
   "metadata": {},
   "outputs": [
    {
     "data": {
      "text/plain": [
       "1024"
      ]
     },
     "execution_count": 29,
     "metadata": {},
     "output_type": "execute_result"
    }
   ],
   "source": [
    "pow(2,10)"
   ]
  },
  {
   "cell_type": "markdown",
   "id": "8bbfcd8c",
   "metadata": {},
   "source": [
    "round(x,y)는 실수를 x를 y자리까지 반올림하여 반환"
   ]
  },
  {
   "cell_type": "code",
   "execution_count": 30,
   "id": "cfef2bef",
   "metadata": {},
   "outputs": [
    {
     "data": {
      "text/plain": [
       "32.31"
      ]
     },
     "execution_count": 30,
     "metadata": {},
     "output_type": "execute_result"
    }
   ],
   "source": [
    "round(32.3132,2)"
   ]
  },
  {
   "cell_type": "code",
   "execution_count": 31,
   "id": "5a16f8cc",
   "metadata": {},
   "outputs": [
    {
     "data": {
      "text/plain": [
       "24.379"
      ]
     },
     "execution_count": 31,
     "metadata": {},
     "output_type": "execute_result"
    }
   ],
   "source": [
    "round(24.3788,3)"
   ]
  },
  {
   "cell_type": "markdown",
   "id": "92248e5d",
   "metadata": {},
   "source": [
    "sum()함수   \n",
    "- 입력받은 리스트나 튜플의 모든 요소 합 반환"
   ]
  },
  {
   "cell_type": "markdown",
   "id": "c2f43fc0",
   "metadata": {},
   "source": [
    "**sum()함수 오류 검색해보기**"
   ]
  },
  {
   "cell_type": "code",
   "execution_count": 49,
   "id": "97466c6a",
   "metadata": {
    "scrolled": false
   },
   "outputs": [
    {
     "ename": "TypeError",
     "evalue": "sum() missing 1 required positional argument: 'b'",
     "output_type": "error",
     "traceback": [
      "\u001b[1;31m---------------------------------------------------------------------------\u001b[0m",
      "\u001b[1;31mTypeError\u001b[0m                                 Traceback (most recent call last)",
      "Cell \u001b[1;32mIn[49], line 1\u001b[0m\n\u001b[1;32m----> 1\u001b[0m \u001b[38;5;28;43msum\u001b[39;49m\u001b[43m(\u001b[49m\u001b[43m[\u001b[49m\u001b[38;5;241;43m1\u001b[39;49m\u001b[43m,\u001b[49m\u001b[38;5;241;43m2\u001b[39;49m\u001b[43m,\u001b[49m\u001b[38;5;241;43m3\u001b[39;49m\u001b[43m,\u001b[49m\u001b[38;5;241;43m4\u001b[39;49m\u001b[43m,\u001b[49m\u001b[38;5;241;43m5\u001b[39;49m\u001b[43m,\u001b[49m\u001b[38;5;241;43m6\u001b[39;49m\u001b[43m,\u001b[49m\u001b[38;5;241;43m7\u001b[39;49m\u001b[43m]\u001b[49m\u001b[43m)\u001b[49m\n",
      "\u001b[1;31mTypeError\u001b[0m: sum() missing 1 required positional argument: 'b'"
     ]
    }
   ],
   "source": [
    "sum([1,2,3,4,5,6,7])"
   ]
  },
  {
   "cell_type": "code",
   "execution_count": 46,
   "id": "d3264f97",
   "metadata": {},
   "outputs": [
    {
     "ename": "TypeError",
     "evalue": "sum() missing 1 required positional argument: 'b'",
     "output_type": "error",
     "traceback": [
      "\u001b[1;31m---------------------------------------------------------------------------\u001b[0m",
      "\u001b[1;31mTypeError\u001b[0m                                 Traceback (most recent call last)",
      "Cell \u001b[1;32mIn[46], line 2\u001b[0m\n\u001b[0;32m      1\u001b[0m a\u001b[38;5;241m=\u001b[39m([\u001b[38;5;241m1\u001b[39m,\u001b[38;5;241m2\u001b[39m,\u001b[38;5;241m3\u001b[39m,\u001b[38;5;241m4\u001b[39m,\u001b[38;5;241m5\u001b[39m,\u001b[38;5;241m6\u001b[39m,\u001b[38;5;241m7\u001b[39m])\n\u001b[1;32m----> 2\u001b[0m avg\u001b[38;5;241m=\u001b[39m\u001b[38;5;28;43msum\u001b[39;49m\u001b[43m(\u001b[49m\u001b[43ma\u001b[49m\u001b[43m)\u001b[49m\u001b[38;5;241m/\u001b[39m\u001b[38;5;28mlen\u001b[39m(a)\n\u001b[0;32m      3\u001b[0m \u001b[38;5;28mprint\u001b[39m(avg)\n",
      "\u001b[1;31mTypeError\u001b[0m: sum() missing 1 required positional argument: 'b'"
     ]
    }
   ],
   "source": [
    "a=([1,2,3,4,5,6,7])\n",
    "avg=sum(a)/len(a)\n",
    "print(avg)"
   ]
  },
  {
   "cell_type": "code",
   "execution_count": 50,
   "id": "e86f2e83",
   "metadata": {},
   "outputs": [
    {
     "data": {
      "text/plain": [
       "([1, 3, 3, 5, 6], [9, 8, 6, 5, 4, 3])"
      ]
     },
     "execution_count": 50,
     "metadata": {},
     "output_type": "execute_result"
    }
   ],
   "source": [
    "sorted((3,1,5,3,6)), sorted((3,4,6,8,9,5), reverse=True)"
   ]
  },
  {
   "cell_type": "markdown",
   "id": "75a84a5b",
   "metadata": {},
   "source": [
    "## 클래스와 객체"
   ]
  },
  {
   "cell_type": "markdown",
   "id": "94ec9132",
   "metadata": {},
   "source": []
  }
 ],
 "metadata": {
  "kernelspec": {
   "display_name": "Python 3 (ipykernel)",
   "language": "python",
   "name": "python3"
  },
  "language_info": {
   "codemirror_mode": {
    "name": "ipython",
    "version": 3
   },
   "file_extension": ".py",
   "mimetype": "text/x-python",
   "name": "python",
   "nbconvert_exporter": "python",
   "pygments_lexer": "ipython3",
   "version": "3.10.9"
  }
 },
 "nbformat": 4,
 "nbformat_minor": 5
}
