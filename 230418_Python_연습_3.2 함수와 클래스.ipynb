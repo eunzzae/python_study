{
 "cells": [
  {
   "cell_type": "markdown",
   "id": "31ecff14",
   "metadata": {},
   "source": [
    "# 3.2 함수와 클래스"
   ]
  },
  {
   "cell_type": "markdown",
   "id": "875cbf7f",
   "metadata": {},
   "source": [
    "### 함수만들기  \n",
    "\n",
    "함수는 def로 정의하고, 함수명은 변수처럼 임의로 만듦.  \n",
    "\n",
    "- 어떤 입력값을 주었을 때, 특정 기능을 수행한 후 결과값을 돌려주는 코드의 집합  "
   ]
  },
  {
   "cell_type": "code",
   "execution_count": 47,
   "id": "4f8ed57f",
   "metadata": {},
   "outputs": [
    {
     "name": "stdout",
     "output_type": "stream",
     "text": [
      "30\n"
     ]
    }
   ],
   "source": [
    "def mul(c,b):\n",
    "    result=c+b\n",
    "    return result\n",
    "print(mul(10,20))"
   ]
  },
  {
   "cell_type": "markdown",
   "id": "dc2b3948",
   "metadata": {},
   "source": [
    "- 입력과 결과값이 모두 있는 일반적인 함수이며, mul()함수는 매개변수 값을 곱하여 반환"
   ]
  },
  {
   "cell_type": "code",
   "execution_count": 4,
   "id": "272c4490",
   "metadata": {},
   "outputs": [
    {
     "name": "stdout",
     "output_type": "stream",
     "text": [
      "200\n"
     ]
    }
   ],
   "source": [
    "def mul(x,y):\n",
    "    res=x*y\n",
    "    return res\n",
    "print(mul(100,2))"
   ]
  },
  {
   "cell_type": "markdown",
   "id": "9e5b927d",
   "metadata": {},
   "source": [
    "- 입력이 없는 함수는 good()함수로 별도의 매개변수는 없음"
   ]
  },
  {
   "cell_type": "code",
   "execution_count": 5,
   "id": "c7fbecc6",
   "metadata": {},
   "outputs": [
    {
     "name": "stdout",
     "output_type": "stream",
     "text": [
      "안녕하세요! 반갑습니다.\n"
     ]
    }
   ],
   "source": [
    "def good():\n",
    "    return \"안녕하세요! 반갑습니다.\"\n",
    "print(good())"
   ]
  },
  {
   "cell_type": "markdown",
   "id": "a23e6750",
   "metadata": {},
   "source": [
    "- 결과값이 없는 함수는 test() 함수로 매개변수로 전달받은 값이 60점 이상이면 합격 축하 메시지를 60점 미만이면 불합격 메시지를 출력"
   ]
  },
  {
   "cell_type": "code",
   "execution_count": 7,
   "id": "e17f0d0b",
   "metadata": {},
   "outputs": [
    {
     "name": "stdout",
     "output_type": "stream",
     "text": [
      "불합격입니다.ㅜㅜ\n"
     ]
    }
   ],
   "source": [
    "def test(a):\n",
    "    if a>=60:\n",
    "        print(\"합격을 축하드립니다.\")\n",
    "    else:\n",
    "        print(\"불합격입니다.ㅜㅜ\")\n",
    "test(55)"
   ]
  },
  {
   "cell_type": "markdown",
   "id": "d3430467",
   "metadata": {},
   "source": [
    "- 매개변수와 return()문이 모두 없는 함수"
   ]
  },
  {
   "cell_type": "code",
   "execution_count": null,
   "id": "9a278c98",
   "metadata": {},
   "outputs": [],
   "source": [
    "def sayhello():\n",
    "    print(\"안녕하세요! 반갑습니다.\")\n",
    "sayhello()"
   ]
  },
  {
   "cell_type": "markdown",
   "id": "786bf98f",
   "metadata": {},
   "source": [
    "- 함수 사용시 주의점은 변수의 효력 범위  \n",
    "함수 안의 변수와 함수 밖의 변수는 변수명이 동일하더라도 서로 다른 변수임. \n"
   ]
  },
  {
   "cell_type": "code",
   "execution_count": 9,
   "id": "fa520aed",
   "metadata": {},
   "outputs": [
    {
     "name": "stdout",
     "output_type": "stream",
     "text": [
      "1\n"
     ]
    }
   ],
   "source": [
    "a=1\n",
    "def test(a):\n",
    "    a=a+1\n",
    "    return a\n",
    "test(a)\n",
    "print(a)"
   ]
  },
  {
   "cell_type": "markdown",
   "id": "542edd4d",
   "metadata": {},
   "source": [
    "## 입력과 출력 함수"
   ]
  },
  {
   "cell_type": "code",
   "execution_count": 10,
   "id": "8e2425ee",
   "metadata": {},
   "outputs": [
    {
     "name": "stdout",
     "output_type": "stream",
     "text": [
      "Hello Python!\n"
     ]
    }
   ],
   "source": [
    "test=input()"
   ]
  },
  {
   "cell_type": "code",
   "execution_count": 11,
   "id": "98daf810",
   "metadata": {},
   "outputs": [
    {
     "name": "stdout",
     "output_type": "stream",
     "text": [
      "Hello Python!\n"
     ]
    }
   ],
   "source": [
    "print(test)"
   ]
  },
  {
   "cell_type": "code",
   "execution_count": 12,
   "id": "2ce40434",
   "metadata": {},
   "outputs": [
    {
     "data": {
      "text/plain": [
       "str"
      ]
     },
     "execution_count": 12,
     "metadata": {},
     "output_type": "execute_result"
    }
   ],
   "source": [
    "type(test)"
   ]
  },
  {
   "cell_type": "markdown",
   "id": "ad4e5c7d",
   "metadata": {},
   "source": [
    "출력함수  \n",
    "- 출력하고 싶은 변수, 문자, 숫자, 연산식 등을 print()함수에 입력하여 그 값을 출력  \n",
    "\n",
    "- 여러 문자열을 하나의 print()로 출력하고 싶으면 문자열 사이 공백, 콤마, 더하기를 사용"
   ]
  },
  {
   "cell_type": "code",
   "execution_count": 13,
   "id": "6f3b48ba",
   "metadata": {},
   "outputs": [
    {
     "name": "stdout",
     "output_type": "stream",
     "text": [
      "Ieat5eggs\n"
     ]
    }
   ],
   "source": [
    "print(\"I\"\"eat\"\"5\"\"eggs\")"
   ]
  },
  {
   "cell_type": "code",
   "execution_count": 14,
   "id": "9158585f",
   "metadata": {},
   "outputs": [
    {
     "name": "stdout",
     "output_type": "stream",
     "text": [
      "I eat 5 eggs\n"
     ]
    }
   ],
   "source": [
    "print(\"I\",\"eat\",\"5\",\"eggs\")"
   ]
  },
  {
   "cell_type": "code",
   "execution_count": 15,
   "id": "9c28eb68",
   "metadata": {},
   "outputs": [
    {
     "name": "stdout",
     "output_type": "stream",
     "text": [
      "Ieat5eggs\n"
     ]
    }
   ],
   "source": [
    "print(\"I\"+\"eat\"+\"5\"+\"eggs\")"
   ]
  },
  {
   "cell_type": "code",
   "execution_count": 16,
   "id": "b5a4b314",
   "metadata": {},
   "outputs": [
    {
     "name": "stdout",
     "output_type": "stream",
     "text": [
      "I eat 5 eggs "
     ]
    }
   ],
   "source": [
    "print(\"I\",end=\" \")\n",
    "print(\"eat\",end=\" \")\n",
    "print(\"5\",end=\" \")\n",
    "print(\"eggs\",end=\" \")"
   ]
  },
  {
   "cell_type": "markdown",
   "id": "a35d453a",
   "metadata": {},
   "source": [
    "내장함수  \n",
    "- print(), input(), range() 등이 내장함수임"
   ]
  },
  {
   "cell_type": "markdown",
   "id": "4cefe96c",
   "metadata": {},
   "source": [
    "abs() 절대값 반환함수"
   ]
  },
  {
   "cell_type": "code",
   "execution_count": 17,
   "id": "f342cbb7",
   "metadata": {},
   "outputs": [
    {
     "data": {
      "text/plain": [
       "5"
      ]
     },
     "execution_count": 17,
     "metadata": {},
     "output_type": "execute_result"
    }
   ],
   "source": [
    "abs(-5)"
   ]
  },
  {
   "cell_type": "code",
   "execution_count": 18,
   "id": "687352c6",
   "metadata": {},
   "outputs": [
    {
     "data": {
      "text/plain": [
       "True"
      ]
     },
     "execution_count": 18,
     "metadata": {},
     "output_type": "execute_result"
    }
   ],
   "source": [
    "abs(2)==abs(-2)"
   ]
  },
  {
   "cell_type": "markdown",
   "id": "27b27c08",
   "metadata": {},
   "source": [
    "chr(), ord()함수  \n",
    "- 유니코드 값을 입력받아 해당 문자를 출력, 문자의 유니코드 값을 돌려주는 함수"
   ]
  },
  {
   "cell_type": "code",
   "execution_count": 19,
   "id": "a3d5d275",
   "metadata": {},
   "outputs": [
    {
     "name": "stdout",
     "output_type": "stream",
     "text": [
      "a b c d e f g h i j k l m n o p q r s t u v w x y z "
     ]
    }
   ],
   "source": [
    "for i in range(97,123):print(chr(i),end=\" \")"
   ]
  },
  {
   "cell_type": "code",
   "execution_count": 20,
   "id": "3ff61e6c",
   "metadata": {},
   "outputs": [
    {
     "name": "stdout",
     "output_type": "stream",
     "text": [
      "97 118 99 100 "
     ]
    }
   ],
   "source": [
    "for i in [\"a\",\"v\",\"c\",\"d\"]:print(ord(i), end=\" \")"
   ]
  },
  {
   "cell_type": "markdown",
   "id": "90b5ce2e",
   "metadata": {},
   "source": [
    "enumerate()함수   \n",
    "- 순서가 있는 자료형(리스트, 튜플, 문자열)을 입력받아 인덱스 값을 포함하는 객체 반환. for문과 함께 쓰임"
   ]
  },
  {
   "cell_type": "code",
   "execution_count": 21,
   "id": "b144c849",
   "metadata": {},
   "outputs": [
    {
     "name": "stdout",
     "output_type": "stream",
     "text": [
      "0 사과\n",
      "1 참외\n",
      "2 수박\n"
     ]
    }
   ],
   "source": [
    "for i, item in enumerate([\"사과\",\"참외\",\"수박\"]):print(i,item)"
   ]
  },
  {
   "cell_type": "markdown",
   "id": "3506ad3d",
   "metadata": {},
   "source": [
    "int()함수  \n",
    "- 문자열 형식의 숫자나 소수점이 있는 숫자를 정수로 돌려주는 함수"
   ]
  },
  {
   "cell_type": "code",
   "execution_count": 22,
   "id": "cc6314c1",
   "metadata": {},
   "outputs": [
    {
     "data": {
      "text/plain": [
       "8"
      ]
     },
     "execution_count": 22,
     "metadata": {},
     "output_type": "execute_result"
    }
   ],
   "source": [
    "int(\"8\")"
   ]
  },
  {
   "cell_type": "code",
   "execution_count": 24,
   "id": "6abf7d0b",
   "metadata": {},
   "outputs": [
    {
     "data": {
      "text/plain": [
       "2"
      ]
     },
     "execution_count": 24,
     "metadata": {},
     "output_type": "execute_result"
    }
   ],
   "source": [
    "int(2.3)"
   ]
  },
  {
   "cell_type": "markdown",
   "id": "0e401394",
   "metadata": {},
   "source": [
    "len()함수  \n",
    "- 입력 변수의 길이(요소의 개수) 반환"
   ]
  },
  {
   "cell_type": "code",
   "execution_count": 25,
   "id": "93dc55d9",
   "metadata": {},
   "outputs": [
    {
     "data": {
      "text/plain": [
       "4"
      ]
     },
     "execution_count": 25,
     "metadata": {},
     "output_type": "execute_result"
    }
   ],
   "source": [
    "len(\"대한민국\")"
   ]
  },
  {
   "cell_type": "code",
   "execution_count": 26,
   "id": "a8127f8d",
   "metadata": {},
   "outputs": [
    {
     "data": {
      "text/plain": [
       "6"
      ]
     },
     "execution_count": 26,
     "metadata": {},
     "output_type": "execute_result"
    }
   ],
   "source": [
    "len([1,2,3,4,5,6])"
   ]
  },
  {
   "cell_type": "markdown",
   "id": "bce91457",
   "metadata": {},
   "source": [
    "max(), min()함수  \n",
    "- 반복 가능한 자료를 입력받아, 최대값 최소값 반환"
   ]
  },
  {
   "cell_type": "code",
   "execution_count": 27,
   "id": "ae8b8eb8",
   "metadata": {},
   "outputs": [
    {
     "data": {
      "text/plain": [
       "(8, 1)"
      ]
     },
     "execution_count": 27,
     "metadata": {},
     "output_type": "execute_result"
    }
   ],
   "source": [
    "test=[1,2,3,4,5,6,7,8]\n",
    "max(test),min(test)"
   ]
  },
  {
   "cell_type": "markdown",
   "id": "b88cf4ef",
   "metadata": {},
   "source": [
    "pow()함수  \n",
    "- 제곱값을 계산하는 함수, pow(x,y)는 x를 y제곱한 결과 반환"
   ]
  },
  {
   "cell_type": "code",
   "execution_count": 28,
   "id": "5846fb58",
   "metadata": {},
   "outputs": [
    {
     "data": {
      "text/plain": [
       "9"
      ]
     },
     "execution_count": 28,
     "metadata": {},
     "output_type": "execute_result"
    }
   ],
   "source": [
    "pow(3,2)"
   ]
  },
  {
   "cell_type": "code",
   "execution_count": 29,
   "id": "94dc0385",
   "metadata": {},
   "outputs": [
    {
     "data": {
      "text/plain": [
       "1024"
      ]
     },
     "execution_count": 29,
     "metadata": {},
     "output_type": "execute_result"
    }
   ],
   "source": [
    "pow(2,10)"
   ]
  },
  {
   "cell_type": "markdown",
   "id": "d7babe2b",
   "metadata": {},
   "source": [
    "round(x,y)는 실수를 x를 y자리까지 반올림하여 반환"
   ]
  },
  {
   "cell_type": "code",
   "execution_count": 30,
   "id": "08f436e7",
   "metadata": {},
   "outputs": [
    {
     "data": {
      "text/plain": [
       "32.31"
      ]
     },
     "execution_count": 30,
     "metadata": {},
     "output_type": "execute_result"
    }
   ],
   "source": [
    "round(32.3132,2)"
   ]
  },
  {
   "cell_type": "code",
   "execution_count": 31,
   "id": "225ff8fe",
   "metadata": {},
   "outputs": [
    {
     "data": {
      "text/plain": [
       "24.379"
      ]
     },
     "execution_count": 31,
     "metadata": {},
     "output_type": "execute_result"
    }
   ],
   "source": [
    "round(24.3788,3)"
   ]
  },
  {
   "cell_type": "markdown",
   "id": "41f05276",
   "metadata": {},
   "source": [
    "sum()함수   \n",
    "- 입력받은 리스트나 튜플의 모든 요소 합 반환"
   ]
  },
  {
   "cell_type": "markdown",
   "id": "261e7647",
   "metadata": {},
   "source": [
    "**sum()함수 오류 검색해보기**"
   ]
  },
  {
   "cell_type": "code",
   "execution_count": 49,
   "id": "dff223f1",
   "metadata": {
    "scrolled": false
   },
   "outputs": [
    {
     "ename": "TypeError",
     "evalue": "sum() missing 1 required positional argument: 'b'",
     "output_type": "error",
     "traceback": [
      "\u001b[1;31m---------------------------------------------------------------------------\u001b[0m",
      "\u001b[1;31mTypeError\u001b[0m                                 Traceback (most recent call last)",
      "Cell \u001b[1;32mIn[49], line 1\u001b[0m\n\u001b[1;32m----> 1\u001b[0m \u001b[38;5;28;43msum\u001b[39;49m\u001b[43m(\u001b[49m\u001b[43m[\u001b[49m\u001b[38;5;241;43m1\u001b[39;49m\u001b[43m,\u001b[49m\u001b[38;5;241;43m2\u001b[39;49m\u001b[43m,\u001b[49m\u001b[38;5;241;43m3\u001b[39;49m\u001b[43m,\u001b[49m\u001b[38;5;241;43m4\u001b[39;49m\u001b[43m,\u001b[49m\u001b[38;5;241;43m5\u001b[39;49m\u001b[43m,\u001b[49m\u001b[38;5;241;43m6\u001b[39;49m\u001b[43m,\u001b[49m\u001b[38;5;241;43m7\u001b[39;49m\u001b[43m]\u001b[49m\u001b[43m)\u001b[49m\n",
      "\u001b[1;31mTypeError\u001b[0m: sum() missing 1 required positional argument: 'b'"
     ]
    }
   ],
   "source": [
    "sum([1,2,3,4,5,6,7])"
   ]
  },
  {
   "cell_type": "code",
   "execution_count": 46,
   "id": "117180d0",
   "metadata": {},
   "outputs": [
    {
     "ename": "TypeError",
     "evalue": "sum() missing 1 required positional argument: 'b'",
     "output_type": "error",
     "traceback": [
      "\u001b[1;31m---------------------------------------------------------------------------\u001b[0m",
      "\u001b[1;31mTypeError\u001b[0m                                 Traceback (most recent call last)",
      "Cell \u001b[1;32mIn[46], line 2\u001b[0m\n\u001b[0;32m      1\u001b[0m a\u001b[38;5;241m=\u001b[39m([\u001b[38;5;241m1\u001b[39m,\u001b[38;5;241m2\u001b[39m,\u001b[38;5;241m3\u001b[39m,\u001b[38;5;241m4\u001b[39m,\u001b[38;5;241m5\u001b[39m,\u001b[38;5;241m6\u001b[39m,\u001b[38;5;241m7\u001b[39m])\n\u001b[1;32m----> 2\u001b[0m avg\u001b[38;5;241m=\u001b[39m\u001b[38;5;28;43msum\u001b[39;49m\u001b[43m(\u001b[49m\u001b[43ma\u001b[49m\u001b[43m)\u001b[49m\u001b[38;5;241m/\u001b[39m\u001b[38;5;28mlen\u001b[39m(a)\n\u001b[0;32m      3\u001b[0m \u001b[38;5;28mprint\u001b[39m(avg)\n",
      "\u001b[1;31mTypeError\u001b[0m: sum() missing 1 required positional argument: 'b'"
     ]
    }
   ],
   "source": [
    "a=([1,2,3,4,5,6,7])\n",
    "avg=sum(a)/len(a)\n",
    "print(avg)"
   ]
  },
  {
   "cell_type": "code",
   "execution_count": 50,
   "id": "282c7640",
   "metadata": {},
   "outputs": [
    {
     "data": {
      "text/plain": [
       "([1, 3, 3, 5, 6], [9, 8, 6, 5, 4, 3])"
      ]
     },
     "execution_count": 50,
     "metadata": {},
     "output_type": "execute_result"
    }
   ],
   "source": [
    "sorted((3,1,5,3,6)), sorted((3,4,6,8,9,5), reverse=True)"
   ]
  },
  {
   "cell_type": "markdown",
   "id": "4b25e4d8",
   "metadata": {},
   "source": [
    "## 클래스와 객체"
   ]
  },
  {
   "cell_type": "markdown",
   "id": "1d1827d2",
   "metadata": {},
   "source": [
    "클래스 구조  \n",
    "- 클래스와 객체는 동일한 기능을 수행하는 코드를를 만들어 동일한 목적을 가진 함수와 변수를 묶어 필요할 때마다 사용할 수 있음  \n",
    "- 클래스, 객체, 클레스에 포함된 변수'멤버변수', 클래스에 포함된 함수'메소드'"
   ]
  },
  {
   "cell_type": "code",
   "execution_count": 52,
   "id": "d549fcd0",
   "metadata": {},
   "outputs": [],
   "source": [
    "class message:\n",
    "    sayhello=\"안녕하세요, 반갑습니다.\"\n",
    "    goodbye=\"감사합니다. 안녕히 가십시오.\"\n",
    "    def __init__(self,name):\n",
    "        self.name=name\n",
    "    def hello(self):\n",
    "        print(self.name, \"님,\",self.sayhello)\n",
    "    def bye(self):\n",
    "        print(self.name, \"님,\",self.goodbye)"
   ]
  },
  {
   "cell_type": "code",
   "execution_count": 54,
   "id": "b8ce30b1",
   "metadata": {},
   "outputs": [],
   "source": [
    "kim=message(\"김온달\")\n",
    "lee=message(\"이평강\")"
   ]
  },
  {
   "cell_type": "code",
   "execution_count": 55,
   "id": "992a46aa",
   "metadata": {},
   "outputs": [
    {
     "name": "stdout",
     "output_type": "stream",
     "text": [
      "김온달 님, 안녕하세요, 반갑습니다.\n",
      "이평강 님, 감사합니다. 안녕히 가십시오.\n"
     ]
    }
   ],
   "source": [
    "kim.hello()\n",
    "lee.bye()"
   ]
  },
  {
   "cell_type": "markdown",
   "id": "c4fa8d0d",
   "metadata": {},
   "source": [
    "# 복습"
   ]
  },
  {
   "cell_type": "code",
   "execution_count": 1,
   "id": "cea2c5b7",
   "metadata": {},
   "outputs": [
    {
     "name": "stdout",
     "output_type": "stream",
     "text": [
      "30\n"
     ]
    }
   ],
   "source": [
    "def sum(a,b):\n",
    "    result=a+b\n",
    "    return result\n",
    "\n",
    "print(sum(10,20))"
   ]
  },
  {
   "cell_type": "code",
   "execution_count": 2,
   "id": "39c2c40f",
   "metadata": {},
   "outputs": [
    {
     "name": "stdout",
     "output_type": "stream",
     "text": [
      "200\n"
     ]
    }
   ],
   "source": [
    "def mul(x,y):\n",
    "    res=x*y\n",
    "    return res\n",
    "print(mul(100,2))"
   ]
  },
  {
   "cell_type": "code",
   "execution_count": 3,
   "id": "7385dd07",
   "metadata": {},
   "outputs": [
    {
     "name": "stdout",
     "output_type": "stream",
     "text": [
      "6520\n"
     ]
    }
   ],
   "source": [
    "def mul(x,y):\n",
    "    res=x*y\n",
    "    return res\n",
    "print(mul(1304,5))"
   ]
  },
  {
   "cell_type": "code",
   "execution_count": 4,
   "id": "bcc91133",
   "metadata": {},
   "outputs": [
    {
     "name": "stdout",
     "output_type": "stream",
     "text": [
      "안녕하세요! 반갑습니다.\n"
     ]
    }
   ],
   "source": [
    "def good():\n",
    "    return \"안녕하세요! 반갑습니다.\"\n",
    "print(good())"
   ]
  },
  {
   "cell_type": "code",
   "execution_count": 5,
   "id": "8d5f8230",
   "metadata": {},
   "outputs": [
    {
     "name": "stdout",
     "output_type": "stream",
     "text": [
      "합격을 축하드립니다.\n"
     ]
    }
   ],
   "source": [
    "def test(a):\n",
    "    if a>=60:\n",
    "        print(\"합격을 축하드립니다.\")\n",
    "    else:\n",
    "        print(\"불합격입니다.\")\n",
    "test(99)"
   ]
  },
  {
   "cell_type": "code",
   "execution_count": 6,
   "id": "41831ac1",
   "metadata": {},
   "outputs": [
    {
     "name": "stdout",
     "output_type": "stream",
     "text": [
      "안녕하세요. 반갑습니다.\n"
     ]
    }
   ],
   "source": [
    "def sayhello():\n",
    "    print(\"안녕하세요. 반갑습니다.\")\n",
    "sayhello()"
   ]
  },
  {
   "cell_type": "code",
   "execution_count": 11,
   "id": "16c4ec9b",
   "metadata": {},
   "outputs": [
    {
     "name": "stdout",
     "output_type": "stream",
     "text": [
      "1\n"
     ]
    }
   ],
   "source": [
    "a=1\n",
    "def test(a):\n",
    "    a=a+1\n",
    "    return a\n",
    "test(a)\n",
    "print(a)"
   ]
  },
  {
   "cell_type": "code",
   "execution_count": 1,
   "id": "d7080c5c",
   "metadata": {},
   "outputs": [
    {
     "name": "stdout",
     "output_type": "stream",
     "text": [
      "Hello python\n"
     ]
    }
   ],
   "source": [
    "test=input()"
   ]
  },
  {
   "cell_type": "code",
   "execution_count": 2,
   "id": "c37192db",
   "metadata": {},
   "outputs": [
    {
     "name": "stdout",
     "output_type": "stream",
     "text": [
      "Hello python\n"
     ]
    }
   ],
   "source": [
    "print(test)"
   ]
  },
  {
   "cell_type": "code",
   "execution_count": 3,
   "id": "ac359c60",
   "metadata": {},
   "outputs": [
    {
     "data": {
      "text/plain": [
       "str"
      ]
     },
     "execution_count": 3,
     "metadata": {},
     "output_type": "execute_result"
    }
   ],
   "source": [
    "type(test)"
   ]
  },
  {
   "cell_type": "code",
   "execution_count": 4,
   "id": "7d96d8f2",
   "metadata": {},
   "outputs": [
    {
     "name": "stdout",
     "output_type": "stream",
     "text": [
      "저장하고 싶은 값을 입력하세요:안녕하세요\n"
     ]
    },
    {
     "data": {
      "text/plain": [
       "'안녕하세요'"
      ]
     },
     "execution_count": 4,
     "metadata": {},
     "output_type": "execute_result"
    }
   ],
   "source": [
    "input(\"저장하고 싶은 값을 입력하세요:\")"
   ]
  },
  {
   "cell_type": "code",
   "execution_count": 5,
   "id": "8673be5d",
   "metadata": {},
   "outputs": [
    {
     "name": "stdout",
     "output_type": "stream",
     "text": [
      "I eat 5 eggs.\n"
     ]
    }
   ],
   "source": [
    "print(\"I\",\"eat\",\"5\",\"eggs.\")"
   ]
  },
  {
   "cell_type": "code",
   "execution_count": 6,
   "id": "14e95ffb",
   "metadata": {},
   "outputs": [
    {
     "name": "stdout",
     "output_type": "stream",
     "text": [
      "Ieat5eggs."
     ]
    }
   ],
   "source": [
    "print(\"I\", end=\"\")\n",
    "print(\"eat\", end=\"\")\n",
    "print(5, end=\"\")\n",
    "print(\"eggs.\", end=\"\")"
   ]
  },
  {
   "cell_type": "code",
   "execution_count": 7,
   "id": "7c879ec7",
   "metadata": {},
   "outputs": [
    {
     "name": "stdout",
     "output_type": "stream",
     "text": [
      "39\n"
     ]
    }
   ],
   "source": [
    "num=input()"
   ]
  },
  {
   "cell_type": "code",
   "execution_count": 8,
   "id": "65d6f40a",
   "metadata": {},
   "outputs": [
    {
     "name": "stdout",
     "output_type": "stream",
     "text": [
      "39\n"
     ]
    }
   ],
   "source": [
    "print(num)"
   ]
  },
  {
   "cell_type": "code",
   "execution_count": 9,
   "id": "ddccc5f1",
   "metadata": {},
   "outputs": [
    {
     "data": {
      "text/plain": [
       "str"
      ]
     },
     "execution_count": 9,
     "metadata": {},
     "output_type": "execute_result"
    }
   ],
   "source": [
    "type(num)"
   ]
  },
  {
   "cell_type": "code",
   "execution_count": 10,
   "id": "55703069",
   "metadata": {},
   "outputs": [
    {
     "data": {
      "text/plain": [
       "int"
      ]
     },
     "execution_count": 10,
     "metadata": {},
     "output_type": "execute_result"
    }
   ],
   "source": [
    "num2=int(num)\n",
    "type(num2)"
   ]
  },
  {
   "cell_type": "code",
   "execution_count": 11,
   "id": "3b4fcb0e",
   "metadata": {},
   "outputs": [
    {
     "ename": "FileNotFoundError",
     "evalue": "[Errno 2] No such file or directory: 'A lucky day.txt'",
     "output_type": "error",
     "traceback": [
      "\u001b[1;31m---------------------------------------------------------------------------\u001b[0m",
      "\u001b[1;31mFileNotFoundError\u001b[0m                         Traceback (most recent call last)",
      "Cell \u001b[1;32mIn[11], line 1\u001b[0m\n\u001b[1;32m----> 1\u001b[0m f\u001b[38;5;241m=\u001b[39m\u001b[38;5;28;43mopen\u001b[39;49m\u001b[43m(\u001b[49m\u001b[38;5;124;43m\"\u001b[39;49m\u001b[38;5;124;43mA lucky day.txt\u001b[39;49m\u001b[38;5;124;43m\"\u001b[39;49m\u001b[43m,\u001b[49m\u001b[43m \u001b[49m\u001b[38;5;124;43m\"\u001b[39;49m\u001b[38;5;124;43mr\u001b[39;49m\u001b[38;5;124;43m\"\u001b[39;49m\u001b[43m)\u001b[49m\n\u001b[0;32m      2\u001b[0m f\u001b[38;5;241m.\u001b[39mclose()\n",
      "File \u001b[1;32mC:\\ProgramData\\anaconda3\\lib\\site-packages\\IPython\\core\\interactiveshell.py:282\u001b[0m, in \u001b[0;36m_modified_open\u001b[1;34m(file, *args, **kwargs)\u001b[0m\n\u001b[0;32m    275\u001b[0m \u001b[38;5;28;01mif\u001b[39;00m file \u001b[38;5;129;01min\u001b[39;00m {\u001b[38;5;241m0\u001b[39m, \u001b[38;5;241m1\u001b[39m, \u001b[38;5;241m2\u001b[39m}:\n\u001b[0;32m    276\u001b[0m     \u001b[38;5;28;01mraise\u001b[39;00m \u001b[38;5;167;01mValueError\u001b[39;00m(\n\u001b[0;32m    277\u001b[0m         \u001b[38;5;124mf\u001b[39m\u001b[38;5;124m\"\u001b[39m\u001b[38;5;124mIPython won\u001b[39m\u001b[38;5;124m'\u001b[39m\u001b[38;5;124mt let you open fd=\u001b[39m\u001b[38;5;132;01m{\u001b[39;00mfile\u001b[38;5;132;01m}\u001b[39;00m\u001b[38;5;124m by default \u001b[39m\u001b[38;5;124m\"\u001b[39m\n\u001b[0;32m    278\u001b[0m         \u001b[38;5;124m\"\u001b[39m\u001b[38;5;124mas it is likely to crash IPython. If you know what you are doing, \u001b[39m\u001b[38;5;124m\"\u001b[39m\n\u001b[0;32m    279\u001b[0m         \u001b[38;5;124m\"\u001b[39m\u001b[38;5;124myou can use builtins\u001b[39m\u001b[38;5;124m'\u001b[39m\u001b[38;5;124m open.\u001b[39m\u001b[38;5;124m\"\u001b[39m\n\u001b[0;32m    280\u001b[0m     )\n\u001b[1;32m--> 282\u001b[0m \u001b[38;5;28;01mreturn\u001b[39;00m io_open(file, \u001b[38;5;241m*\u001b[39margs, \u001b[38;5;241m*\u001b[39m\u001b[38;5;241m*\u001b[39mkwargs)\n",
      "\u001b[1;31mFileNotFoundError\u001b[0m: [Errno 2] No such file or directory: 'A lucky day.txt'"
     ]
    }
   ],
   "source": [
    "f=open(\"A lucky day.txt\", \"r\")\n",
    "f.close()"
   ]
  },
  {
   "cell_type": "code",
   "execution_count": 12,
   "id": "486bdca2",
   "metadata": {},
   "outputs": [],
   "source": [
    "f=open(\"A lucky day.txt\",\"w\")\n",
    "f.close()"
   ]
  },
  {
   "cell_type": "code",
   "execution_count": 16,
   "id": "f16ff26b",
   "metadata": {},
   "outputs": [],
   "source": [
    "f=open(\"A lucky day.txt\",\"w\")\n",
    "f.write(\"\"\"새침하게 흐린 품이 눈이 올 듯하더니 눈은 아니 오고 얼다가 만 비가 추적추적 내리었다.이날이야말로 동소문 안에서 \n",
    "인력거꾼 노릇을 하는 김 첨지에게는 오래간만에도 닥친 운수 좋은 날이었다.\"\"\")\n",
    "f.close()"
   ]
  },
  {
   "cell_type": "code",
   "execution_count": 17,
   "id": "027fcede",
   "metadata": {},
   "outputs": [
    {
     "name": "stdout",
     "output_type": "stream",
     "text": [
      "새침하게 흐린 품이 눈이 올 듯하더니 눈은 아니 오고 얼다가 만 비가 추적추적 내리었다.이날이야말로 동소문 안에서 \n",
      "\n"
     ]
    }
   ],
   "source": [
    "fr=open(\"A lucky day.txt\",\"r\")\n",
    "line=fr.readline()\n",
    "print(line)\n",
    "fr.close()"
   ]
  },
  {
   "cell_type": "code",
   "execution_count": 15,
   "id": "61f6aa97",
   "metadata": {},
   "outputs": [
    {
     "name": "stdout",
     "output_type": "stream",
     "text": [
      "새침하게 흐린 품이 눈이 올 듯하더니 눈은 아니 오고 얼다가 만 비가 추적추적 내리었다.\n",
      "이날이야말로 동소문 안에서 인력거꾼 노릇을 하는 김 첨지에게는 오래간만에도 닥친 운수 좋은 날이었다.\n"
     ]
    }
   ],
   "source": [
    "fr1=open(\"A lucky day.txt\",\"r\")\n",
    "print(fr1.read())\n",
    "fr1.close()"
   ]
  },
  {
   "cell_type": "code",
   "execution_count": 19,
   "id": "0ea95ce9",
   "metadata": {},
   "outputs": [],
   "source": [
    "fr2=open(\"A lucky day.txt\",\"a\")\n",
    "fr2.write(\"\"\"문안에(거기도 문밖은 아니지만) 들어간답시는 앞집 마나님을\n",
    "전찻길까지 모셔다 드린 것을 비롯으로\n",
    "행여나 손님이 있을까 하고 정류장에서 어정어정하며 내리는 사람 하나하나에게 \n",
    "거의 비는 듯한 눈결을 보내고 있다가\n",
    "마침내 교원인 듯한 양복장이를 동광학교까지 태워다 주기로 되었다.\"\"\")\n",
    "fr2.close()"
   ]
  },
  {
   "cell_type": "code",
   "execution_count": 20,
   "id": "145486bc",
   "metadata": {},
   "outputs": [
    {
     "name": "stdout",
     "output_type": "stream",
     "text": [
      "새침하게 흐린 품이 눈이 올 듯하더니 눈은 아니 오고 얼다가 만 비가 추적추적 내리었다.이날이야말로 동소문 안에서 \n",
      "인력거꾼 노릇을 하는 김 첨지에게는 오래간만에도 닥친 운수 좋은 날이었다.문안에(거기도 문밖은 아니지만) 들어간답시는 앞집 마나님을\n",
      "전찻길까지 모셔다 드린 것을 비롯으로\n",
      "행여나 손님이 있을까 하고 정류장에서 어정어정하며 내리는 사람 하나하나에게 \n",
      "거의 비는 듯한 눈결을 보내고 있다가\n",
      "마침내 교원인 듯한 양복장이를 동광학교까지 태워다 주기로 되었다.\n"
     ]
    }
   ],
   "source": [
    "fr2=open(\"A lucky day.txt\",\"r\")\n",
    "print(fr2.read())\n",
    "fr2.close()"
   ]
  },
  {
   "cell_type": "code",
   "execution_count": 21,
   "id": "ffc4e6eb",
   "metadata": {},
   "outputs": [
    {
     "data": {
      "text/plain": [
       "8"
      ]
     },
     "execution_count": 21,
     "metadata": {},
     "output_type": "execute_result"
    }
   ],
   "source": [
    "abs(-8)"
   ]
  },
  {
   "cell_type": "code",
   "execution_count": 22,
   "id": "9a20b32c",
   "metadata": {},
   "outputs": [
    {
     "data": {
      "text/plain": [
       "False"
      ]
     },
     "execution_count": 22,
     "metadata": {},
     "output_type": "execute_result"
    }
   ],
   "source": [
    "abs(2)==abs(-4)"
   ]
  },
  {
   "cell_type": "code",
   "execution_count": 25,
   "id": "d9a366bf",
   "metadata": {},
   "outputs": [
    {
     "name": "stdout",
     "output_type": "stream",
     "text": [
      "a b c d e f g h i j k l m n o p q r s t u v w x y z "
     ]
    }
   ],
   "source": [
    "for i in range(97,123): print(chr(i), end = \" \")"
   ]
  },
  {
   "cell_type": "code",
   "execution_count": 27,
   "id": "0c9c216c",
   "metadata": {},
   "outputs": [
    {
     "name": "stdout",
     "output_type": "stream",
     "text": [
      "97 98 99 100 "
     ]
    }
   ],
   "source": [
    "for i in [\"a\",\"b\",\"c\",\"d\"]: print(ord(i), end = \" \")"
   ]
  },
  {
   "cell_type": "code",
   "execution_count": 28,
   "id": "e0f5183b",
   "metadata": {},
   "outputs": [
    {
     "name": "stdout",
     "output_type": "stream",
     "text": [
      "0 사과\n",
      "1 참외\n",
      "2 수박\n"
     ]
    }
   ],
   "source": [
    "for i, item in enumerate([\"사과\",\"참외\",\"수박\"]): print(i, item)"
   ]
  },
  {
   "cell_type": "code",
   "execution_count": 29,
   "id": "a6432e10",
   "metadata": {},
   "outputs": [
    {
     "data": {
      "text/plain": [
       "8"
      ]
     },
     "execution_count": 29,
     "metadata": {},
     "output_type": "execute_result"
    }
   ],
   "source": [
    "int(\"8\")"
   ]
  },
  {
   "cell_type": "code",
   "execution_count": 30,
   "id": "1828fd6a",
   "metadata": {},
   "outputs": [
    {
     "data": {
      "text/plain": [
       "2"
      ]
     },
     "execution_count": 30,
     "metadata": {},
     "output_type": "execute_result"
    }
   ],
   "source": [
    "int(2.3)"
   ]
  },
  {
   "cell_type": "code",
   "execution_count": 31,
   "id": "1f251511",
   "metadata": {},
   "outputs": [
    {
     "data": {
      "text/plain": [
       "4"
      ]
     },
     "execution_count": 31,
     "metadata": {},
     "output_type": "execute_result"
    }
   ],
   "source": [
    "len(\"대한민국\")"
   ]
  },
  {
   "cell_type": "code",
   "execution_count": 32,
   "id": "2bacb72d",
   "metadata": {},
   "outputs": [
    {
     "data": {
      "text/plain": [
       "7"
      ]
     },
     "execution_count": 32,
     "metadata": {},
     "output_type": "execute_result"
    }
   ],
   "source": [
    "len([1,2,3,4,5,6,7])"
   ]
  },
  {
   "cell_type": "code",
   "execution_count": 33,
   "id": "e5febe04",
   "metadata": {},
   "outputs": [
    {
     "data": {
      "text/plain": [
       "(10, 1)"
      ]
     },
     "execution_count": 33,
     "metadata": {},
     "output_type": "execute_result"
    }
   ],
   "source": [
    "test=[1,2,3,4,5,6,7,8,9,10]\n",
    "max(test), min(test)"
   ]
  },
  {
   "cell_type": "code",
   "execution_count": 34,
   "id": "c268a003",
   "metadata": {},
   "outputs": [
    {
     "data": {
      "text/plain": [
       "9"
      ]
     },
     "execution_count": 34,
     "metadata": {},
     "output_type": "execute_result"
    }
   ],
   "source": [
    "pow(3,2)"
   ]
  },
  {
   "cell_type": "code",
   "execution_count": 35,
   "id": "9f2980d8",
   "metadata": {},
   "outputs": [
    {
     "data": {
      "text/plain": [
       "1024"
      ]
     },
     "execution_count": 35,
     "metadata": {},
     "output_type": "execute_result"
    }
   ],
   "source": [
    "pow(2,10)"
   ]
  },
  {
   "cell_type": "code",
   "execution_count": 36,
   "id": "86c81b40",
   "metadata": {},
   "outputs": [
    {
     "data": {
      "text/plain": [
       "32.31"
      ]
     },
     "execution_count": 36,
     "metadata": {},
     "output_type": "execute_result"
    }
   ],
   "source": [
    "round(32.3132,2)"
   ]
  },
  {
   "cell_type": "code",
   "execution_count": 37,
   "id": "2ae4f92a",
   "metadata": {},
   "outputs": [
    {
     "data": {
      "text/plain": [
       "24.379"
      ]
     },
     "execution_count": 37,
     "metadata": {},
     "output_type": "execute_result"
    }
   ],
   "source": [
    "round(24.3788,3)"
   ]
  },
  {
   "cell_type": "code",
   "execution_count": 38,
   "id": "f407f8f8",
   "metadata": {},
   "outputs": [
    {
     "data": {
      "text/plain": [
       "55"
      ]
     },
     "execution_count": 38,
     "metadata": {},
     "output_type": "execute_result"
    }
   ],
   "source": [
    "sum([1,2,3,4,5,6,7,8,9,10])"
   ]
  },
  {
   "cell_type": "code",
   "execution_count": 39,
   "id": "e49f7e7a",
   "metadata": {},
   "outputs": [
    {
     "name": "stdout",
     "output_type": "stream",
     "text": [
      "5.5\n"
     ]
    }
   ],
   "source": [
    "a=[1,2,3,4,5,6,7,8,9,10]\n",
    "avg=sum(a)/len(a)\n",
    "print(avg)"
   ]
  },
  {
   "cell_type": "code",
   "execution_count": 41,
   "id": "8c30cd52",
   "metadata": {},
   "outputs": [
    {
     "data": {
      "text/plain": [
       "([1, 2, 3, 4, 5], [5, 4, 3, 2, 1])"
      ]
     },
     "execution_count": 41,
     "metadata": {},
     "output_type": "execute_result"
    }
   ],
   "source": [
    "sorted((3,1,4,5,2)),sorted((3,1,4,5,2),reverse=True)"
   ]
  },
  {
   "cell_type": "code",
   "execution_count": 42,
   "id": "445318b7",
   "metadata": {},
   "outputs": [
    {
     "data": {
      "text/plain": [
       "[1, 2, 3, 4, 5]"
      ]
     },
     "execution_count": 42,
     "metadata": {},
     "output_type": "execute_result"
    }
   ],
   "source": [
    "sorted([3,1,4,5,2])\n"
   ]
  },
  {
   "cell_type": "code",
   "execution_count": 43,
   "id": "f6c5e44b",
   "metadata": {},
   "outputs": [
    {
     "data": {
      "text/plain": [
       "(['국', '대', '민', '한'], ['a', 'b', 'c'])"
      ]
     },
     "execution_count": 43,
     "metadata": {},
     "output_type": "execute_result"
    }
   ],
   "source": [
    "sorted(\"대한민국\"),sorted([\"b\",\"c\",\"a\"])"
   ]
  },
  {
   "cell_type": "code",
   "execution_count": 45,
   "id": "6f9f7b53",
   "metadata": {},
   "outputs": [],
   "source": [
    "class message :\n",
    "    sayhello=\"안녕하세요. 반갑습니다.\"\n",
    "    goodbye=\"감사합니다. 안녕히 가십시오.\"\n",
    "    def __init__(self, name):\n",
    "        self.name=name\n",
    "    def hello(self):\n",
    "        print(self.name,\"님,\",self.sayhello)\n",
    "    def bye(self):\n",
    "        print(self.name,\"님,\",self.goodbye)"
   ]
  },
  {
   "cell_type": "code",
   "execution_count": 46,
   "id": "a1087df3",
   "metadata": {},
   "outputs": [],
   "source": [
    "kim=message(\"김수영\")\n",
    "koh=message(\"고은채\")"
   ]
  },
  {
   "cell_type": "code",
   "execution_count": 48,
   "id": "3884ddb6",
   "metadata": {},
   "outputs": [
    {
     "name": "stdout",
     "output_type": "stream",
     "text": [
      "김수영 님, 안녕하세요. 반갑습니다.\n",
      "고은채 님, 감사합니다. 안녕히 가십시오.\n"
     ]
    }
   ],
   "source": [
    "kim.hello()\n",
    "koh.bye()"
   ]
  },
  {
   "cell_type": "code",
   "execution_count": null,
   "id": "4c210dfb",
   "metadata": {},
   "outputs": [],
   "source": []
  }
 ],
 "metadata": {
  "kernelspec": {
   "display_name": "Python 3 (ipykernel)",
   "language": "python",
   "name": "python3"
  },
  "language_info": {
   "codemirror_mode": {
    "name": "ipython",
    "version": 3
   },
   "file_extension": ".py",
   "mimetype": "text/x-python",
   "name": "python",
   "nbconvert_exporter": "python",
   "pygments_lexer": "ipython3",
   "version": "3.10.9"
  }
 },
 "nbformat": 4,
 "nbformat_minor": 5
}
