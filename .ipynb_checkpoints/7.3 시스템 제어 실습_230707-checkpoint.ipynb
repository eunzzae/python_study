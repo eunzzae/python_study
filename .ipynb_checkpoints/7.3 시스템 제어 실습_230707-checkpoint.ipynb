{
 "cells": [
  {
   "cell_type": "markdown",
   "id": "d5a956c3",
   "metadata": {},
   "source": [
    "# 7.3 시스템 제어하기\n",
    "## 실습) 성적 처리 자동화"
   ]
  },
  {
   "cell_type": "code",
   "execution_count": 12,
   "id": "3f6ae7c1",
   "metadata": {},
   "outputs": [
    {
     "name": "stdout",
     "output_type": "stream",
     "text": [
      "Defaulting to user installation because normal site-packages is not writeable\n",
      "Requirement already satisfied: clipboard in c:\\users\\dmsco\\appdata\\roaming\\python\\python310\\site-packages (0.0.4)\n",
      "Requirement already satisfied: pyperclip>=1.3 in c:\\users\\dmsco\\appdata\\roaming\\python\\python310\\site-packages (from clipboard) (1.8.2)\n"
     ]
    }
   ],
   "source": [
    "!pip install clipboard"
   ]
  },
  {
   "cell_type": "code",
   "execution_count": 13,
   "id": "c37e4a26",
   "metadata": {},
   "outputs": [],
   "source": [
    "import pyautogui\n",
    "import time\n",
    "import clipboard"
   ]
  },
  {
   "cell_type": "code",
   "execution_count": 15,
   "id": "d4065b18",
   "metadata": {},
   "outputs": [],
   "source": [
    "time.sleep(1)\n",
    "pyautogui.hotkey(\"win\",\"r\")\n",
    "time.sleep(0.5)\n",
    "pyautogui.write(\"D:\\works\\source\\chapter07\\score.xlsx\")\n",
    "pyautogui.press(\"enter\")\n",
    "pyautogui.sleep(5)"
   ]
  },
  {
   "cell_type": "code",
   "execution_count": 21,
   "id": "b50bc419",
   "metadata": {},
   "outputs": [],
   "source": [
    "pyautogui.hotkey(\"ctrl\",\"home\")\n",
    "pyautogui.press(\"right\",presses=4,interval=0.1)\n",
    "clipboard.copy(\"총점\\t평균\")\n",
    "time.sleep(1)\n",
    "pyautogui.hotkey(\"ctrl\",\"v\")\n",
    "time.sleep(1)"
   ]
  },
  {
   "cell_type": "code",
   "execution_count": 22,
   "id": "8c55e949",
   "metadata": {},
   "outputs": [],
   "source": [
    "time.sleep(1)\n",
    "pyautogui.press(\"down\")\n",
    "\n",
    "for i in range(10):\n",
    "    pyautogui.typewrite(f\"=sum(B{2+i}:D{2+i})\",interval=0.1)\n",
    "    pyautogui.press(\"right\")\n",
    "    pyautogui.typewrite(f\"=average(B{2+i}:D{2+i})\",interval=0.1)\n",
    "    pyautogui.press([\"enter\",\"left\"])"
   ]
  },
  {
   "cell_type": "code",
   "execution_count": 28,
   "id": "2164fe8b",
   "metadata": {},
   "outputs": [
    {
     "data": {
      "text/plain": [
       "(None, None)"
      ]
     },
     "execution_count": 28,
     "metadata": {},
     "output_type": "execute_result"
    }
   ],
   "source": [
    "pyautogui.hotkey(\"ctrl\",\"g\")\n",
    "pyautogui.typewrite(\"a1\",interval=0.1)\n",
    "pyautogui.press(\"enter\")\n",
    "time.sleep(0.5)\n",
    "pyautogui.hotkey(\"ctrl\",\"a\")\n",
    "time.sleep(0.5)\n",
    "pyautogui.hotkey(\"alt\",\"h\")\n",
    "pyautogui.typewrite(\"a\"),pyautogui.typewrite(\"c\")"
   ]
  },
  {
   "cell_type": "code",
   "execution_count": 33,
   "id": "199b7a9d",
   "metadata": {},
   "outputs": [],
   "source": [
    "time.sleep(0.5)\n",
    "pyautogui.hotkey(\"ctrl\",\"t\")\n",
    "pyautogui.press(\"enter\")"
   ]
  },
  {
   "cell_type": "code",
   "execution_count": 34,
   "id": "6e804e1a",
   "metadata": {},
   "outputs": [],
   "source": [
    "pyautogui.hotkey(\"ctrl\",\"g\")\n",
    "pyautogui.typewrite(\"e1\",interval=0.1)\n",
    "pyautogui.press(\"enter\")\n",
    "pyautogui.hotkey(\"alt\",\"a\")\n",
    "pyautogui.press(\"s\")\n",
    "pyautogui.press(\"d\")"
   ]
  },
  {
   "cell_type": "code",
   "execution_count": null,
   "id": "ed853fb1",
   "metadata": {},
   "outputs": [],
   "source": [
    "time.sleep(1)\n",
    "pyautogui.hotkey(\"alt\",\"f2\")\n",
    "pyautogui.typewrite(\"score_result.xlsx\",interval=0.1)\n",
    "pyautogui.press(\"enter\")\n",
    "pyautogui.hotkey(\"alt\",\"f4\")\n"
   ]
  },
  {
   "cell_type": "code",
   "execution_count": 35,
   "id": "a1feee45",
   "metadata": {},
   "outputs": [],
   "source": [
    "import pyautogui\n",
    "import time\n",
    "import clipboard\n",
    "\n",
    "time.sleep(1)\n",
    "pyautogui.hotkey(\"win\",\"r\")\n",
    "time.sleep(0.5)\n",
    "pyautogui.write(\"D:\\works\\source\\chapter07\\score.xlsx\")\n",
    "pyautogui.press(\"enter\")\n",
    "pyautogui.sleep(5)\n",
    "\n",
    "pyautogui.hotkey(\"ctrl\",\"home\")\n",
    "pyautogui.press(\"right\",presses=4,interval=0.1)\n",
    "clipboard.copy(\"총점\\t평균\")\n",
    "time.sleep(1)\n",
    "pyautogui.hotkey(\"ctrl\",\"v\")\n",
    "time.sleep(1)\n",
    "\n",
    "time.sleep(1)\n",
    "pyautogui.press(\"down\")\n",
    "\n",
    "for i in range(10):\n",
    "    pyautogui.typewrite(f\"=sum(B{2+i}:D{2+i})\",interval=0.1)\n",
    "    pyautogui.press(\"right\")\n",
    "    pyautogui.typewrite(f\"=average(B{2+i}:D{2+i})\",interval=0.1)\n",
    "    pyautogui.press([\"enter\",\"left\"])\n",
    "    \n",
    "pyautogui.hotkey(\"ctrl\",\"g\")\n",
    "pyautogui.typewrite(\"a1\",interval=0.1)\n",
    "pyautogui.press(\"enter\")\n",
    "time.sleep(0.5)\n",
    "pyautogui.hotkey(\"ctrl\",\"a\")\n",
    "time.sleep(0.5)\n",
    "pyautogui.hotkey(\"alt\",\"h\")\n",
    "pyautogui.typewrite(\"a\"),pyautogui.typewrite(\"c\")\n",
    "\n",
    "time.sleep(0.5)\n",
    "pyautogui.hotkey(\"ctrl\",\"t\")\n",
    "pyautogui.press(\"enter\")\n",
    "\n",
    "pyautogui.hotkey(\"ctrl\",\"g\")\n",
    "pyautogui.typewrite(\"e1\",interval=0.1)\n",
    "pyautogui.press(\"enter\")\n",
    "pyautogui.hotkey(\"alt\",\"a\")\n",
    "pyautogui.press(\"s\")\n",
    "pyautogui.press(\"d\")\n",
    "\n",
    "time.sleep(1)\n",
    "pyautogui.hotkey(\"alt\",\"f2\")\n",
    "pyautogui.typewrite(\"score_result.xlsx\",interval=0.1)\n",
    "pyautogui.press(\"enter\")\n",
    "pyautogui.hotkey(\"alt\",\"f4\")"
   ]
  }
 ],
 "metadata": {
  "kernelspec": {
   "display_name": "Python 3 (ipykernel)",
   "language": "python",
   "name": "python3"
  },
  "language_info": {
   "codemirror_mode": {
    "name": "ipython",
    "version": 3
   },
   "file_extension": ".py",
   "mimetype": "text/x-python",
   "name": "python",
   "nbconvert_exporter": "python",
   "pygments_lexer": "ipython3",
   "version": "3.10.9"
  }
 },
 "nbformat": 4,
 "nbformat_minor": 5
}
