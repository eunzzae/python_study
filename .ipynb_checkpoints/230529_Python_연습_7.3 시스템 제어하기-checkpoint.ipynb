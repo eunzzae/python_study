{
 "cells": [
  {
   "cell_type": "code",
   "execution_count": 1,
   "id": "aa9758cb",
   "metadata": {},
   "outputs": [
    {
     "name": "stdout",
     "output_type": "stream",
     "text": [
      "Defaulting to user installation because normal site-packages is not writeable\n",
      "Collecting pyautogui\n",
      "  Downloading PyAutoGUI-0.9.54.tar.gz (61 kB)\n",
      "     ---------------------------------------- 61.2/61.2 kB 1.6 MB/s eta 0:00:00\n",
      "  Installing build dependencies: started\n",
      "  Installing build dependencies: finished with status 'done'\n",
      "  Getting requirements to build wheel: started\n",
      "  Getting requirements to build wheel: finished with status 'done'\n",
      "  Preparing metadata (pyproject.toml): started\n",
      "  Preparing metadata (pyproject.toml): finished with status 'done'\n",
      "Collecting pygetwindow>=0.0.5\n",
      "  Downloading PyGetWindow-0.0.9.tar.gz (9.7 kB)\n",
      "  Preparing metadata (setup.py): started\n",
      "  Preparing metadata (setup.py): finished with status 'done'\n",
      "Collecting pytweening>=1.0.4\n",
      "  Downloading pytweening-1.0.7.tar.gz (168 kB)\n",
      "     -------------------------------------- 168.2/168.2 kB 3.4 MB/s eta 0:00:00\n",
      "  Preparing metadata (setup.py): started\n",
      "  Preparing metadata (setup.py): finished with status 'done'\n",
      "Collecting pymsgbox\n",
      "  Downloading PyMsgBox-1.0.9.tar.gz (18 kB)\n",
      "  Installing build dependencies: started\n",
      "  Installing build dependencies: finished with status 'done'\n",
      "  Getting requirements to build wheel: started\n",
      "  Getting requirements to build wheel: finished with status 'done'\n",
      "  Preparing metadata (pyproject.toml): started\n",
      "  Preparing metadata (pyproject.toml): finished with status 'done'\n",
      "Collecting pyscreeze>=0.1.21\n",
      "  Downloading PyScreeze-0.1.29.tar.gz (25 kB)\n",
      "  Installing build dependencies: started\n",
      "  Installing build dependencies: finished with status 'done'\n",
      "  Getting requirements to build wheel: started\n",
      "  Getting requirements to build wheel: finished with status 'done'\n",
      "  Preparing metadata (pyproject.toml): started\n",
      "  Preparing metadata (pyproject.toml): finished with status 'done'\n",
      "Collecting mouseinfo\n",
      "  Downloading MouseInfo-0.1.3.tar.gz (10 kB)\n",
      "  Preparing metadata (setup.py): started\n",
      "  Preparing metadata (setup.py): finished with status 'done'\n",
      "Collecting pyrect\n",
      "  Downloading PyRect-0.2.0.tar.gz (17 kB)\n",
      "  Preparing metadata (setup.py): started\n",
      "  Preparing metadata (setup.py): finished with status 'done'\n",
      "Collecting pyscreenshot\n",
      "  Downloading pyscreenshot-3.1-py3-none-any.whl (28 kB)\n",
      "Requirement already satisfied: Pillow>=9.2.0 in c:\\programdata\\anaconda3\\lib\\site-packages (from pyscreeze>=0.1.21->pyautogui) (9.4.0)\n",
      "Collecting pyperclip\n",
      "  Using cached pyperclip-1.8.2.tar.gz (20 kB)\n",
      "  Preparing metadata (setup.py): started\n",
      "  Preparing metadata (setup.py): finished with status 'done'\n",
      "Collecting EasyProcess\n",
      "  Downloading EasyProcess-1.1-py3-none-any.whl (8.7 kB)\n",
      "Collecting entrypoint2\n",
      "  Downloading entrypoint2-1.1-py2.py3-none-any.whl (9.9 kB)\n",
      "Collecting mss\n",
      "  Downloading mss-9.0.1-py3-none-any.whl (22 kB)\n",
      "Building wheels for collected packages: pyautogui, pygetwindow, pyscreeze, pytweening, mouseinfo, pymsgbox, pyperclip, pyrect\n",
      "  Building wheel for pyautogui (pyproject.toml): started\n",
      "  Building wheel for pyautogui (pyproject.toml): finished with status 'done'\n",
      "  Created wheel for pyautogui: filename=PyAutoGUI-0.9.54-py3-none-any.whl size=37601 sha256=5e746c00a2c346ba3ddcf31e34d9f241bcc6d64e35079a5d66567e99fe4297ab\n",
      "  Stored in directory: c:\\users\\dmsco\\appdata\\local\\pip\\cache\\wheels\\27\\ae\\44\\6ed17dd0eb2109b293dfd896e6b32176a662472e9ec276e911\n",
      "  Building wheel for pygetwindow (setup.py): started\n",
      "  Building wheel for pygetwindow (setup.py): finished with status 'done'\n",
      "  Created wheel for pygetwindow: filename=PyGetWindow-0.0.9-py3-none-any.whl size=11079 sha256=d5d2cf0bc37acae038814a5e9f51fa0b756a607f92c5f0388ee5df25487c49f4\n",
      "  Stored in directory: c:\\users\\dmsco\\appdata\\local\\pip\\cache\\wheels\\b4\\ba\\41\\c09cef95c23cdfed6af9df7328306fafbf27df2e77b14d25d7\n",
      "  Building wheel for pyscreeze (pyproject.toml): started\n",
      "  Building wheel for pyscreeze (pyproject.toml): finished with status 'done'\n",
      "  Created wheel for pyscreeze: filename=PyScreeze-0.1.29-py3-none-any.whl size=13485 sha256=594e901e590d540d7101c1211f65f1b594e7994912648ef238002fab509002f2\n",
      "  Stored in directory: c:\\users\\dmsco\\appdata\\local\\pip\\cache\\wheels\\b9\\76\\96\\c84d250d637354da1dfd1a3c255b2df6e30c192354d08af1b8\n",
      "  Building wheel for pytweening (setup.py): started\n",
      "  Building wheel for pytweening (setup.py): finished with status 'done'\n",
      "  Created wheel for pytweening: filename=pytweening-1.0.7-py3-none-any.whl size=6214 sha256=bebde039ac89dd69f2d089b15306fb99627ed84669d3539ad8cf1e4ddf6b0272\n",
      "  Stored in directory: c:\\users\\dmsco\\appdata\\local\\pip\\cache\\wheels\\c6\\4a\\25\\8e83858414a3d4f8d69cb04f86501b11160106b05fc9c8063b\n",
      "  Building wheel for mouseinfo (setup.py): started\n",
      "  Building wheel for mouseinfo (setup.py): finished with status 'done'\n",
      "  Created wheel for mouseinfo: filename=MouseInfo-0.1.3-py3-none-any.whl size=10906 sha256=b2b39226d6bcf481e7aa40599cfea404b7cb7b47bfda216abf131e3318bcbdd4\n",
      "  Stored in directory: c:\\users\\dmsco\\appdata\\local\\pip\\cache\\wheels\\52\\e8\\77\\5f70ba97301c6d825754eea9f12f0ffd00e119fba64a68f4d2\n",
      "  Building wheel for pymsgbox (pyproject.toml): started\n",
      "  Building wheel for pymsgbox (pyproject.toml): finished with status 'done'\n",
      "  Created wheel for pymsgbox: filename=PyMsgBox-1.0.9-py3-none-any.whl size=7417 sha256=abe64ea4d6888af7c479b89ca781eba31375e24fbecbe053d5127c50e9e51615\n",
      "  Stored in directory: c:\\users\\dmsco\\appdata\\local\\pip\\cache\\wheels\\97\\61\\22\\1a0de2324b204d675c5bfb28b944101eb48dcf1a1fe87bcce7\n",
      "  Building wheel for pyperclip (setup.py): started\n",
      "  Building wheel for pyperclip (setup.py): finished with status 'done'\n",
      "  Created wheel for pyperclip: filename=pyperclip-1.8.2-py3-none-any.whl size=11137 sha256=c600175f44cdb54aba82c35778d95f825001146f0ee0d1aa15692a0fbce72125\n",
      "  Stored in directory: c:\\users\\dmsco\\appdata\\local\\pip\\cache\\wheels\\3c\\77\\81\\aaa2802e9b0553585f2789c6f2756b50a09a01d2848423bb15\n",
      "  Building wheel for pyrect (setup.py): started\n",
      "  Building wheel for pyrect (setup.py): finished with status 'done'\n",
      "  Created wheel for pyrect: filename=PyRect-0.2.0-py2.py3-none-any.whl size=11205 sha256=d9b9c6a30188e53cfefdaecbe280b05d11adb439e3577c06458dae8db0b3cdfc\n",
      "  Stored in directory: c:\\users\\dmsco\\appdata\\local\\pip\\cache\\wheels\\63\\0e\\55\\adb1553ad973caacffc0bd779f74f4749f904da246674a26a1\n",
      "Successfully built pyautogui pygetwindow pyscreeze pytweening mouseinfo pymsgbox pyperclip pyrect\n",
      "Installing collected packages: pytweening, pyrect, pyperclip, pymsgbox, entrypoint2, EasyProcess, pygetwindow, mss, mouseinfo, pyscreenshot, pyscreeze, pyautogui\n",
      "Successfully installed EasyProcess-1.1 entrypoint2-1.1 mouseinfo-0.1.3 mss-9.0.1 pyautogui-0.9.54 pygetwindow-0.0.9 pymsgbox-1.0.9 pyperclip-1.8.2 pyrect-0.2.0 pyscreenshot-3.1 pyscreeze-0.1.29 pytweening-1.0.7\n"
     ]
    },
    {
     "name": "stderr",
     "output_type": "stream",
     "text": [
      "  WARNING: The script mss.exe is installed in 'C:\\Users\\dmsco\\AppData\\Roaming\\Python\\Python310\\Scripts' which is not on PATH.\n",
      "  Consider adding this directory to PATH or, if you prefer to suppress this warning, use --no-warn-script-location.\n"
     ]
    }
   ],
   "source": [
    "!pip install pyautogui"
   ]
  },
  {
   "cell_type": "code",
   "execution_count": 2,
   "id": "82a14df8",
   "metadata": {},
   "outputs": [],
   "source": [
    "import pyautogui"
   ]
  },
  {
   "cell_type": "markdown",
   "id": "24ea3881",
   "metadata": {},
   "source": [
    "### 마우스 제어  \n",
    "#### 화면과 마우스 위치  \n",
    "* size()함수 : 모니터 해상도 크기 확인, 값은 튜플로 반환"
   ]
  },
  {
   "cell_type": "code",
   "execution_count": 3,
   "id": "bbcc5a95",
   "metadata": {},
   "outputs": [
    {
     "data": {
      "text/plain": [
       "Size(width=1920, height=1080)"
      ]
     },
     "execution_count": 3,
     "metadata": {},
     "output_type": "execute_result"
    }
   ],
   "source": [
    "pyautogui.size()"
   ]
  },
  {
   "cell_type": "markdown",
   "id": "2d751e5c",
   "metadata": {},
   "source": [
    "* position()함수 : 마우스 커서의 현재 X, Y좌표 반환"
   ]
  },
  {
   "cell_type": "code",
   "execution_count": 4,
   "id": "0d0c4ac7",
   "metadata": {},
   "outputs": [
    {
     "data": {
      "text/plain": [
       "Point(x=1114, y=779)"
      ]
     },
     "execution_count": 4,
     "metadata": {},
     "output_type": "execute_result"
    }
   ],
   "source": [
    "pyautogui.position()"
   ]
  },
  {
   "cell_type": "code",
   "execution_count": 5,
   "id": "fcdecda9",
   "metadata": {},
   "outputs": [
    {
     "data": {
      "text/plain": [
       "Point(x=1576, y=390)"
      ]
     },
     "execution_count": 5,
     "metadata": {},
     "output_type": "execute_result"
    }
   ],
   "source": [
    "pyautogui.position()"
   ]
  },
  {
   "cell_type": "markdown",
   "id": "dabbe3b5",
   "metadata": {},
   "source": [
    "* moveTo()함수 : 마우스 커서가 지정한 X, Y좌표로 이동  \n",
    "ex) pyautogui.moveTo(100,400,3) -> #마우스 커서가 X, Y좌표(100, 400)dmfh 3초 동안 이동"
   ]
  },
  {
   "cell_type": "code",
   "execution_count": 6,
   "id": "68fa9b0e",
   "metadata": {},
   "outputs": [],
   "source": [
    "pyautogui.moveTo(100,200)"
   ]
  },
  {
   "cell_type": "code",
   "execution_count": 7,
   "id": "32da8628",
   "metadata": {},
   "outputs": [],
   "source": [
    "pyautogui.moveTo(100,400,3)"
   ]
  },
  {
   "cell_type": "code",
   "execution_count": 8,
   "id": "c3631d4d",
   "metadata": {},
   "outputs": [],
   "source": [
    "pyautogui.moveTo(0,200)\n",
    "pyautogui.moveTo(100,200)\n",
    "pyautogui.moveTo(100,200,3)"
   ]
  },
  {
   "cell_type": "markdown",
   "id": "2ba5fcdb",
   "metadata": {},
   "source": [
    "* dragTo()함수 : 드래그하는 기능   \n",
    "    - button속성으로 left, right, middle(좌측, 우측, 휠버튼) 지정 가능"
   ]
  },
  {
   "cell_type": "code",
   "execution_count": 9,
   "id": "028bf3ce",
   "metadata": {},
   "outputs": [],
   "source": [
    "pyautogui.dragTo(500,500,button=\"left\")\n",
    "pyautogui.dragTo(300,300,2,button=\"left\")\n",
    "pyautogui.dragTo(100,0,2,button=\"left\")"
   ]
  },
  {
   "cell_type": "markdown",
   "id": "ac557240",
   "metadata": {},
   "source": [
    "* click()함수 : 마우스 왼쪽 버튼을 한 번 클릭 "
   ]
  },
  {
   "cell_type": "code",
   "execution_count": 10,
   "id": "7f11f13e",
   "metadata": {},
   "outputs": [],
   "source": [
    "pyautogui.click()"
   ]
  },
  {
   "cell_type": "code",
   "execution_count": 11,
   "id": "ef8bf9a5",
   "metadata": {},
   "outputs": [],
   "source": [
    "pyautogui.click(x=100,y=200)"
   ]
  },
  {
   "cell_type": "code",
   "execution_count": 12,
   "id": "4bbf3d87",
   "metadata": {},
   "outputs": [],
   "source": [
    "pyautogui.click(button=\"right\")"
   ]
  },
  {
   "cell_type": "markdown",
   "id": "4d786cb5",
   "metadata": {},
   "source": [
    "pyautogui.click(button=\"right\", clicks=3, interval=0.25)   \n",
    "-> #마우스 오른쪽 버튼을 0.25초 간격으로 3번 클릭"
   ]
  },
  {
   "cell_type": "code",
   "execution_count": 14,
   "id": "ec17ab19",
   "metadata": {},
   "outputs": [],
   "source": [
    "pyautogui.click(clicks=2)\n",
    "pyautogui.click(clicks=2, interval=0.25)\n",
    "pyautogui.click(button=\"right\", clicks=3, interval=0.25)"
   ]
  },
  {
   "cell_type": "code",
   "execution_count": 18,
   "id": "4896fc6b",
   "metadata": {},
   "outputs": [],
   "source": [
    "pyautogui.doubleClick()\n",
    "pyautogui.tripleClick()"
   ]
  },
  {
   "cell_type": "code",
   "execution_count": 19,
   "id": "e950b340",
   "metadata": {},
   "outputs": [],
   "source": [
    "pyautogui.mouseDown()\n",
    "pyautogui.mouseUp()\n",
    "pyautogui.mouseDown(button=\"right\")\n",
    "pyautogui.mouseUp(button=\"right\", x=200,y=300)"
   ]
  },
  {
   "cell_type": "code",
   "execution_count": 20,
   "id": "b6f60e48",
   "metadata": {},
   "outputs": [],
   "source": [
    "pyautogui.scroll(10)\n",
    "pyautogui.scroll(-15)\n",
    "pyautogui.scroll(10,x=200,y=200)"
   ]
  },
  {
   "cell_type": "markdown",
   "id": "51c94ec8",
   "metadata": {},
   "source": [
    "### 키보드 제어   \n",
    "* write()함수 : 키보드로 전달되는 문자열 입력"
   ]
  },
  {
   "cell_type": "code",
   "execution_count": 21,
   "id": "33c0bb7b",
   "metadata": {},
   "outputs": [],
   "source": [
    "pyautogui.write(\"Hello\")\n",
    "pyautogui.write(\"Good morning\", interval=0.25)"
   ]
  },
  {
   "cell_type": "code",
   "execution_count": 22,
   "id": "8e6835c2",
   "metadata": {},
   "outputs": [
    {
     "ename": "SyntaxError",
     "evalue": "invalid syntax (3359095677.py, line 1)",
     "output_type": "error",
     "traceback": [
      "\u001b[1;36m  Cell \u001b[1;32mIn[22], line 1\u001b[1;36m\u001b[0m\n\u001b[1;33m    HelloGood morning\u001b[0m\n\u001b[1;37m              ^\u001b[0m\n\u001b[1;31mSyntaxError\u001b[0m\u001b[1;31m:\u001b[0m invalid syntax\n"
     ]
    }
   ],
   "source": [
    "HelloGood morning"
   ]
  },
  {
   "cell_type": "markdown",
   "id": "eb6db631",
   "metadata": {},
   "source": [
    "* keyDown, Up() : 키보드의 키를 누르고 뗄 때 쓰는 함수   \n",
    "* pressDown, Up() 동일"
   ]
  },
  {
   "cell_type": "code",
   "execution_count": 23,
   "id": "20a2eeb1",
   "metadata": {},
   "outputs": [],
   "source": [
    "pyautogui.keyDown(\"shift\")\n",
    "pyautogui.keyUp(\"shift\")"
   ]
  },
  {
   "cell_type": "code",
   "execution_count": 24,
   "id": "2c46f2b3",
   "metadata": {},
   "outputs": [],
   "source": [
    "pyautogui.press(\"shift\")"
   ]
  },
  {
   "cell_type": "code",
   "execution_count": 25,
   "id": "31067654",
   "metadata": {},
   "outputs": [],
   "source": [
    "pyautogui.keyDown(\"shift\")\n",
    "pyautogui.press(\"left\")\n",
    "pyautogui.press(\"left\")\n",
    "pyautogui.press(\"left\")\n",
    "pyautogui.keyUp(\"shift\")"
   ]
  },
  {
   "cell_type": "code",
   "execution_count": 26,
   "id": "47828191",
   "metadata": {},
   "outputs": [],
   "source": [
    "pyautogui.press([\"left\",\"left\",\"left\"])"
   ]
  },
  {
   "cell_type": "markdown",
   "id": "0a388be3",
   "metadata": {},
   "source": [
    "* hotkey()함수 : 윈도우의 단축키 사용"
   ]
  },
  {
   "cell_type": "code",
   "execution_count": 28,
   "id": "cc0332c5",
   "metadata": {},
   "outputs": [],
   "source": [
    "pyautogui.hotkey(\"ctrl\",\"c\")"
   ]
  },
  {
   "cell_type": "markdown",
   "id": "97508199",
   "metadata": {},
   "source": [
    "### 메시지 박스   \n",
    ": 메시지를 표시하거나 승인 및 취소, 필요한 데이터 입력받는 등의 기능을 하는 대화상자 출력   \n",
    "* alert()함수 : 확인버튼 하나 있는 간단한 메시지 박스를 표시"
   ]
  },
  {
   "cell_type": "code",
   "execution_count": 29,
   "id": "5aceae86",
   "metadata": {},
   "outputs": [
    {
     "data": {
      "text/plain": [
       "'OK'"
      ]
     },
     "execution_count": 29,
     "metadata": {},
     "output_type": "execute_result"
    }
   ],
   "source": [
    "pyautogui.alert(text=\"alert 함수입니다.\", title=\"alert 함수\", button=\"OK\")"
   ]
  },
  {
   "cell_type": "markdown",
   "id": "2cc5f134",
   "metadata": {},
   "source": [
    "* confirm()함수 : 확인 및 취소 버튼이 있는 메시지 박스 표시"
   ]
  },
  {
   "cell_type": "code",
   "execution_count": 31,
   "id": "d43763c9",
   "metadata": {},
   "outputs": [
    {
     "data": {
      "text/plain": [
       "'Cancel'"
      ]
     },
     "execution_count": 31,
     "metadata": {},
     "output_type": "execute_result"
    }
   ],
   "source": [
    "pyautogui.confirm(text=\"confirm 함수입니다.\", title=\"confirm 함수\", buttons=[\"OK\",\"Cancel\"])"
   ]
  },
  {
   "cell_type": "markdown",
   "id": "93553870",
   "metadata": {},
   "source": [
    "* prompt()함수 : 텍스트를 입력하고 ok 버튼을 누르면 입력한 텍스트를 반환, 취소 버튼을 누르면 none을 반환"
   ]
  },
  {
   "cell_type": "code",
   "execution_count": 32,
   "id": "ea45b20f",
   "metadata": {},
   "outputs": [],
   "source": [
    "pyautogui.prompt(text=\"prompt 함수입니다.\", title=\"prompt 함수\", default=\"ID\")"
   ]
  },
  {
   "cell_type": "markdown",
   "id": "a6c22fcb",
   "metadata": {},
   "source": [
    "* password()함수 : 입력한 문자가 *로 나타남"
   ]
  },
  {
   "cell_type": "code",
   "execution_count": 33,
   "id": "6b4af33b",
   "metadata": {},
   "outputs": [
    {
     "data": {
      "text/plain": [
       "'1651'"
      ]
     },
     "execution_count": 33,
     "metadata": {},
     "output_type": "execute_result"
    }
   ],
   "source": [
    "pyautogui.password(text=\"패스워드를 입력하세요.\", title=\"로그인\", mask=\"*\")"
   ]
  },
  {
   "cell_type": "markdown",
   "id": "5979b3a4",
   "metadata": {},
   "source": [
    "### 스크린 샷  \n",
    "* pillow 설치"
   ]
  },
  {
   "cell_type": "code",
   "execution_count": 34,
   "id": "638ba83c",
   "metadata": {},
   "outputs": [
    {
     "name": "stdout",
     "output_type": "stream",
     "text": [
      "Defaulting to user installation because normal site-packages is not writeable\n",
      "Requirement already satisfied: pillow in c:\\programdata\\anaconda3\\lib\\site-packages (9.4.0)\n"
     ]
    }
   ],
   "source": [
    "!pip install pillow"
   ]
  },
  {
   "cell_type": "code",
   "execution_count": 35,
   "id": "32ea0ba7",
   "metadata": {},
   "outputs": [],
   "source": [
    "from PIL import Image"
   ]
  },
  {
   "cell_type": "markdown",
   "id": "c3931dce",
   "metadata": {},
   "source": [
    "* screenshot()함수 : 화면 전체 또는 일부 캡처 가능"
   ]
  },
  {
   "cell_type": "code",
   "execution_count": 36,
   "id": "b52236d6",
   "metadata": {},
   "outputs": [
    {
     "name": "stdout",
     "output_type": "stream",
     "text": [
      "<PIL.Image.Image image mode=RGB size=1920x1080 at 0x237E9CD53C0>\n"
     ]
    }
   ],
   "source": [
    "image1=pyautogui.screenshot()\n",
    "print(image1)"
   ]
  },
  {
   "cell_type": "code",
   "execution_count": 37,
   "id": "f4bbabea",
   "metadata": {},
   "outputs": [],
   "source": [
    "image2=pyautogui.screenshot(\"screenshot.png\")"
   ]
  },
  {
   "cell_type": "code",
   "execution_count": 38,
   "id": "e2e27658",
   "metadata": {},
   "outputs": [
    {
     "name": "stdout",
     "output_type": "stream",
     "text": [
      "<PIL.Image.Image image mode=RGB size=300x400 at 0x237EC216C20>\n"
     ]
    }
   ],
   "source": [
    "image3=pyautogui.screenshot(region=(0,0,300,400))\n",
    "print(image3)"
   ]
  },
  {
   "cell_type": "code",
   "execution_count": 39,
   "id": "b647cfc7",
   "metadata": {},
   "outputs": [
    {
     "data": {
      "text/plain": [
       "<matplotlib.image.AxesImage at 0x237f2b252d0>"
      ]
     },
     "execution_count": 39,
     "metadata": {},
     "output_type": "execute_result"
    },
    {
     "data": {
      "image/png": "[encoded data removed]",
      "text/plain": [
       "<Figure size 640x480 with 1 Axes>"
      ]
     },
     "metadata": {},
     "output_type": "display_data"
    }
   ],
   "source": [
    "import matplotlib.pyplot as plt\n",
    "plt.imshow(image3)"
   ]
  },
  {
   "cell_type": "markdown",
   "id": "83b5b031",
   "metadata": {},
   "source": [
    "### locateOnScreen() 함수\n",
    "**오류 반환** 원인 찾기"
   ]
  },
  {
   "cell_type": "code",
   "execution_count": 41,
   "id": "f365268e",
   "metadata": {},
   "outputs": [
    {
     "ename": "FileNotFoundError",
     "evalue": "[Errno 2] No such file or directory: 'image3'",
     "output_type": "error",
     "traceback": [
      "\u001b[1;31m---------------------------------------------------------------------------\u001b[0m",
      "\u001b[1;31mFileNotFoundError\u001b[0m                         Traceback (most recent call last)",
      "Cell \u001b[1;32mIn[41], line 1\u001b[0m\n\u001b[1;32m----> 1\u001b[0m image3\u001b[38;5;241m=\u001b[39m\u001b[43mpyautogui\u001b[49m\u001b[38;5;241;43m.\u001b[39;49m\u001b[43mlocateOnScreen\u001b[49m\u001b[43m(\u001b[49m\u001b[38;5;124;43m\"\u001b[39;49m\u001b[38;5;124;43mimage3\u001b[39;49m\u001b[38;5;124;43m\"\u001b[39;49m\u001b[43m)\u001b[49m\n\u001b[0;32m      2\u001b[0m image3\n",
      "File \u001b[1;32m~\\AppData\\Roaming\\Python\\Python310\\site-packages\\pyautogui\\__init__.py:172\u001b[0m, in \u001b[0;36mraisePyAutoGUIImageNotFoundException.<locals>.wrapper\u001b[1;34m(*args, **kwargs)\u001b[0m\n\u001b[0;32m    169\u001b[0m \u001b[38;5;129m@functools\u001b[39m\u001b[38;5;241m.\u001b[39mwraps(wrappedFunction)\n\u001b[0;32m    170\u001b[0m \u001b[38;5;28;01mdef\u001b[39;00m \u001b[38;5;21mwrapper\u001b[39m(\u001b[38;5;241m*\u001b[39margs, \u001b[38;5;241m*\u001b[39m\u001b[38;5;241m*\u001b[39mkwargs):\n\u001b[0;32m    171\u001b[0m     \u001b[38;5;28;01mtry\u001b[39;00m:\n\u001b[1;32m--> 172\u001b[0m         \u001b[38;5;28;01mreturn\u001b[39;00m wrappedFunction(\u001b[38;5;241m*\u001b[39margs, \u001b[38;5;241m*\u001b[39m\u001b[38;5;241m*\u001b[39mkwargs)\n\u001b[0;32m    173\u001b[0m     \u001b[38;5;28;01mexcept\u001b[39;00m pyscreeze\u001b[38;5;241m.\u001b[39mImageNotFoundException:\n\u001b[0;32m    174\u001b[0m         \u001b[38;5;28;01mraise\u001b[39;00m ImageNotFoundException\n",
      "File \u001b[1;32m~\\AppData\\Roaming\\Python\\Python310\\site-packages\\pyautogui\\__init__.py:210\u001b[0m, in \u001b[0;36mlocateOnScreen\u001b[1;34m(*args, **kwargs)\u001b[0m\n\u001b[0;32m    208\u001b[0m \u001b[38;5;129m@raisePyAutoGUIImageNotFoundException\u001b[39m\n\u001b[0;32m    209\u001b[0m \u001b[38;5;28;01mdef\u001b[39;00m \u001b[38;5;21mlocateOnScreen\u001b[39m(\u001b[38;5;241m*\u001b[39margs, \u001b[38;5;241m*\u001b[39m\u001b[38;5;241m*\u001b[39mkwargs):\n\u001b[1;32m--> 210\u001b[0m     \u001b[38;5;28;01mreturn\u001b[39;00m pyscreeze\u001b[38;5;241m.\u001b[39mlocateOnScreen(\u001b[38;5;241m*\u001b[39margs, \u001b[38;5;241m*\u001b[39m\u001b[38;5;241m*\u001b[39mkwargs)\n",
      "File \u001b[1;32m~\\AppData\\Roaming\\Python\\Python310\\site-packages\\pyscreeze\\__init__.py:378\u001b[0m, in \u001b[0;36mlocateOnScreen\u001b[1;34m(image, minSearchTime, **kwargs)\u001b[0m\n\u001b[0;32m    374\u001b[0m \u001b[38;5;28;01mtry\u001b[39;00m:\n\u001b[0;32m    375\u001b[0m     screenshotIm \u001b[38;5;241m=\u001b[39m screenshot(\n\u001b[0;32m    376\u001b[0m         region\u001b[38;5;241m=\u001b[39m\u001b[38;5;28;01mNone\u001b[39;00m\n\u001b[0;32m    377\u001b[0m     )  \u001b[38;5;66;03m# the locateAll() function must handle cropping to return accurate coordinates, so don't pass a region here.\u001b[39;00m\n\u001b[1;32m--> 378\u001b[0m     retVal \u001b[38;5;241m=\u001b[39m locate(image, screenshotIm, \u001b[38;5;241m*\u001b[39m\u001b[38;5;241m*\u001b[39mkwargs)\n\u001b[0;32m    379\u001b[0m     \u001b[38;5;28;01mtry\u001b[39;00m:\n\u001b[0;32m    380\u001b[0m         screenshotIm\u001b[38;5;241m.\u001b[39mfp\u001b[38;5;241m.\u001b[39mclose()\n",
      "File \u001b[1;32m~\\AppData\\Roaming\\Python\\Python310\\site-packages\\pyscreeze\\__init__.py:356\u001b[0m, in \u001b[0;36mlocate\u001b[1;34m(needleImage, haystackImage, **kwargs)\u001b[0m\n\u001b[0;32m    354\u001b[0m \u001b[38;5;66;03m# Note: The gymnastics in this function is because we want to make sure to exhaust the iterator so that the needle and haystack files are closed in locateAll.\u001b[39;00m\n\u001b[0;32m    355\u001b[0m kwargs[\u001b[38;5;124m'\u001b[39m\u001b[38;5;124mlimit\u001b[39m\u001b[38;5;124m'\u001b[39m] \u001b[38;5;241m=\u001b[39m \u001b[38;5;241m1\u001b[39m\n\u001b[1;32m--> 356\u001b[0m points \u001b[38;5;241m=\u001b[39m \u001b[38;5;28;43mtuple\u001b[39;49m\u001b[43m(\u001b[49m\u001b[43mlocateAll\u001b[49m\u001b[43m(\u001b[49m\u001b[43mneedleImage\u001b[49m\u001b[43m,\u001b[49m\u001b[43m \u001b[49m\u001b[43mhaystackImage\u001b[49m\u001b[43m,\u001b[49m\u001b[43m \u001b[49m\u001b[38;5;241;43m*\u001b[39;49m\u001b[38;5;241;43m*\u001b[39;49m\u001b[43mkwargs\u001b[49m\u001b[43m)\u001b[49m\u001b[43m)\u001b[49m\n\u001b[0;32m    357\u001b[0m \u001b[38;5;28;01mif\u001b[39;00m \u001b[38;5;28mlen\u001b[39m(points) \u001b[38;5;241m>\u001b[39m \u001b[38;5;241m0\u001b[39m:\n\u001b[0;32m    358\u001b[0m     \u001b[38;5;28;01mreturn\u001b[39;00m points[\u001b[38;5;241m0\u001b[39m]\n",
      "File \u001b[1;32m~\\AppData\\Roaming\\Python\\Python310\\site-packages\\pyscreeze\\__init__.py:256\u001b[0m, in \u001b[0;36m_locateAll_pillow\u001b[1;34m(needleImage, haystackImage, grayscale, limit, region, step, confidence)\u001b[0m\n\u001b[0;32m    253\u001b[0m needleFileObj \u001b[38;5;241m=\u001b[39m \u001b[38;5;28;01mNone\u001b[39;00m\n\u001b[0;32m    254\u001b[0m \u001b[38;5;28;01mif\u001b[39;00m \u001b[38;5;28misinstance\u001b[39m(needleImage, (\u001b[38;5;28mstr\u001b[39m, unicode)):\n\u001b[0;32m    255\u001b[0m     \u001b[38;5;66;03m# 'image' is a filename, load the Image object\u001b[39;00m\n\u001b[1;32m--> 256\u001b[0m     needleFileObj \u001b[38;5;241m=\u001b[39m \u001b[38;5;28;43mopen\u001b[39;49m\u001b[43m(\u001b[49m\u001b[43mneedleImage\u001b[49m\u001b[43m,\u001b[49m\u001b[43m \u001b[49m\u001b[38;5;124;43m'\u001b[39;49m\u001b[38;5;124;43mrb\u001b[39;49m\u001b[38;5;124;43m'\u001b[39;49m\u001b[43m)\u001b[49m\n\u001b[0;32m    257\u001b[0m     needleImage \u001b[38;5;241m=\u001b[39m Image\u001b[38;5;241m.\u001b[39mopen(needleFileObj)\n\u001b[0;32m    259\u001b[0m haystackFileObj \u001b[38;5;241m=\u001b[39m \u001b[38;5;28;01mNone\u001b[39;00m\n",
      "\u001b[1;31mFileNotFoundError\u001b[0m: [Errno 2] No such file or directory: 'image3'"
     ]
    }
   ],
   "source": [
    "image3=pyautogui.locateOnScreen(\"image3\")\n",
    "image3"
   ]
  },
  {
   "cell_type": "code",
   "execution_count": 42,
   "id": "3f61d74c",
   "metadata": {},
   "outputs": [],
   "source": [
    "import pyautogui\n",
    "import time\n",
    "import datetime"
   ]
  },
  {
   "cell_type": "code",
   "execution_count": 44,
   "id": "8b5481e6",
   "metadata": {},
   "outputs": [],
   "source": [
    "str_cap_num=pyautogui.prompt(text=\"몇 번 캡처할지 입력해 주세요\", title=\"캡처 횟수\", default=\"\")\n",
    "int_cap_num=int(str_cap_num)"
   ]
  },
  {
   "cell_type": "code",
   "execution_count": 46,
   "id": "4cc0ad54",
   "metadata": {},
   "outputs": [],
   "source": [
    "i=0\n",
    "while i<int_cap_num:\n",
    "    i=i+1"
   ]
  },
  {
   "cell_type": "code",
   "execution_count": 48,
   "id": "5787d860",
   "metadata": {},
   "outputs": [],
   "source": [
    "pyautogui.hotkey(\"win\",\"s\")\n",
    "time.sleep(0.5)\n",
    "pyautogui.write(\"snippingtool\")\n",
    "pyautogui.press(\"enter\")\n",
    "time.sleep(1)"
   ]
  },
  {
   "cell_type": "code",
   "execution_count": 49,
   "id": "d031434c",
   "metadata": {},
   "outputs": [
    {
     "ename": "NameError",
     "evalue": "name 'snippingtool' is not defined",
     "output_type": "error",
     "traceback": [
      "\u001b[1;31m---------------------------------------------------------------------------\u001b[0m",
      "\u001b[1;31mNameError\u001b[0m                                 Traceback (most recent call last)",
      "Cell \u001b[1;32mIn[49], line 1\u001b[0m\n\u001b[1;32m----> 1\u001b[0m \u001b[43msnippingtool\u001b[49m\n",
      "\u001b[1;31mNameError\u001b[0m: name 'snippingtool' is not defined"
     ]
    }
   ],
   "source": [
    "snippingtool"
   ]
  },
  {
   "cell_type": "code",
   "execution_count": 55,
   "id": "c52f6063",
   "metadata": {},
   "outputs": [],
   "source": [
    "pyautogui.hotkey(\"alt\",\"n\")\n",
    "time.sleep(1)"
   ]
  },
  {
   "cell_type": "code",
   "execution_count": 51,
   "id": "51e653bd",
   "metadata": {},
   "outputs": [
    {
     "data": {
      "text/plain": [
       "Point(x=1176, y=825)"
      ]
     },
     "execution_count": 51,
     "metadata": {},
     "output_type": "execute_result"
    }
   ],
   "source": [
    "import pyautogui\n",
    "import time\n",
    "time.sleep(3)\n",
    "pyautogui.position()"
   ]
  },
  {
   "cell_type": "code",
   "execution_count": 53,
   "id": "a80cfc27",
   "metadata": {},
   "outputs": [
    {
     "data": {
      "text/plain": [
       "Point(x=648, y=684)"
      ]
     },
     "execution_count": 53,
     "metadata": {},
     "output_type": "execute_result"
    }
   ],
   "source": [
    "import pyautogui\n",
    "import time\n",
    "time.sleep(3)\n",
    "pyautogui.position()"
   ]
  },
  {
   "cell_type": "code",
   "execution_count": 52,
   "id": "0b2ab197",
   "metadata": {},
   "outputs": [
    {
     "data": {
      "text/plain": [
       "Point(x=114, y=407)"
      ]
     },
     "execution_count": 52,
     "metadata": {},
     "output_type": "execute_result"
    }
   ],
   "source": [
    "import pyautogui\n",
    "import time\n",
    "time.sleep(3)\n",
    "pyautogui.position()"
   ]
  },
  {
   "cell_type": "code",
   "execution_count": 56,
   "id": "f1e251b4",
   "metadata": {},
   "outputs": [],
   "source": [
    "pyautogui.moveTo(114,407)\n",
    "pyautogui.dragTo(648,684, duration=2,button=\"left\")\n",
    "time.sleep(1)"
   ]
  },
  {
   "cell_type": "code",
   "execution_count": null,
   "id": "09a95c9f",
   "metadata": {},
   "outputs": [],
   "source": []
  }
 ],
 "metadata": {
  "kernelspec": {
   "display_name": "Python 3 (ipykernel)",
   "language": "python",
   "name": "python3"
  },
  "language_info": {
   "codemirror_mode": {
    "name": "ipython",
    "version": 3
   },
   "file_extension": ".py",
   "mimetype": "text/x-python",
   "name": "python",
   "nbconvert_exporter": "python",
   "pygments_lexer": "ipython3",
   "version": "3.10.9"
  }
 },
 "nbformat": 4,
 "nbformat_minor": 5
}
