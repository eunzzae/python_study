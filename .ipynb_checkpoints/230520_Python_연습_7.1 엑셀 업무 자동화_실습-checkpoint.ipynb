{
 "cells": [
  {
   "cell_type": "markdown",
   "id": "10af71bb",
   "metadata": {},
   "source": [
    "# 7.1 엑셀 업무 자동화_실습\n",
    "  \n",
    "## 1. 실습_유통매장의 고객만족도 분석하기   \n",
    "\n",
    "### 1) 엑셀 파일 불러오기 \n",
    "* load_workbook모듈과 고객 만족 데이터.xlsx 파일 불러오기"
   ]
  },
  {
   "cell_type": "code",
   "execution_count": 1,
   "id": "f02f9778",
   "metadata": {},
   "outputs": [],
   "source": [
    "from openpyxl import load_workbook\n",
    "wb=load_workbook(\"고객 만족 데이터.xlsx\")\n",
    "ws=wb[\"Sheet1\"]"
   ]
  },
  {
   "cell_type": "markdown",
   "id": "b749f5bb",
   "metadata": {},
   "source": [
    "### 2) 데이터 변환하기   \n",
    "* 반복문을 활용해 [A2:F13] 범위를 정수형으로 변환  "
   ]
  },
  {
   "cell_type": "code",
   "execution_count": 2,
   "id": "35ab63c2",
   "metadata": {},
   "outputs": [],
   "source": [
    "for row in ws:\n",
    "    for cell in row: \n",
    "        if cell.col_idx>0 and cell.col_idx<7and cell.row>1:\n",
    "            cell.data_type=\"i\""
   ]
  },
  {
   "cell_type": "markdown",
   "id": "5c8d5b6a",
   "metadata": {},
   "source": [
    "### 3) 데이터 요약하기   \n",
    "* B, C, D는 평균을 구함  \n",
    "* E, F는 합계를 구함"
   ]
  },
  {
   "cell_type": "code",
   "execution_count": 7,
   "id": "41a4be2c",
   "metadata": {},
   "outputs": [],
   "source": [
    "this_max_row=ws.max_row\n",
    "ws[\"A{}\".format(this_max_row+1)]=\"평균/합계\"\n",
    "for col_let in [\"B\",\"C\",\"D\"]:\n",
    "    average_formula = \"=AVERAGE({}2:{}{})\".format(col_let, col_let, this_max_row)\n",
    "    ws[\"{}{}\".format(col_let, this_max_row+1)]=average_formula\n",
    "    ws[\"{}{}\".format(col_let, this_max_row+1)].number_format=\"#.##\"\n",
    "\n",
    "for col_let in [\"E\",\"F\"]:\n",
    "    sum_formula=\"=SUM({}2:{}{})\".format(col_let, col_let, this_max_row)\n",
    "    ws[\"{}{}\".format(col_let, this_max_row+1)]=sum_formula"
   ]
  },
  {
   "cell_type": "markdown",
   "id": "8322a59d",
   "metadata": {},
   "source": [
    "### 4) 요약표 작성하기   \n",
    "* create_sheet()함수로 시트를 하나 생성한 후, ws객체 생성 \n",
    "- 요약표 형식을 우선 만든 후, 요약표에 들어갈 값을 구함"
   ]
  },
  {
   "cell_type": "code",
   "execution_count": 8,
   "id": "28cf79ac",
   "metadata": {},
   "outputs": [],
   "source": [
    "wb.create_sheet(\"보고서 삽입용 요약표\")\n",
    "ws=wb[\"보고서 삽입용 요약표\"]\n",
    "\n",
    "summary_table_form=[[\"성별 분포\",\"남성\",\"여성\"], [\"인원\",\"\",\"\"],[\"비율\",\"\",\"\"],[\"\",\"\",\"\"],\n",
    "                    [\"연령분포\",\"20대\",\"30대\",\"40대\",\"50대 이상\"], [\"인원\",\"\",\"\"],[\"비율\",\"\",\"\"],\n",
    "                   [\"\",\"\",\"\"],[\"조사 결과\"],[\"제품 만족도\"],[\"재구매 의사\"],[\"추천 의향\"],\n",
    "                   [\"방문 횟수\"],[\"클레임 횟수\"]]\n",
    "for form_row in summary_table_form:\n",
    "    ws.append(form_row)"
   ]
  },
  {
   "cell_type": "markdown",
   "id": "c9aa5d98",
   "metadata": {},
   "source": [
    "* 1) 반복문 \n",
    "    - 남/녀 인원수와 비율 구함  \n",
    "* 2) 반복문\n",
    "    - 연령대별 인원수와 비율을 구함\n",
    "* 3) 반복문  \n",
    "    - 첫번째 시트의 B15, C15, D15 셀의 평균값, E15, F15셀의 합계를 B10:B14로 복사 "
   ]
  },
  {
   "cell_type": "code",
   "execution_count": 12,
   "id": "540cadda",
   "metadata": {},
   "outputs": [],
   "source": [
    "for gender in [[\"B\",\"남\"],[\"C\",\"여\"]]:\n",
    "    ws[gender[0]+\"2\"]=\"=COUNTIF(Sheet1!H2:H{},\\\"{}\\\")\".format(ws.max_row, gender[1])\n",
    "    ws[gender[0]+\"3\"]=\"={}2/SUM(B2:C2)\".format(gender[0])\n",
    "    ws[gender[0]+\"3\"].number_format=\"0.00%\"\n",
    "    \n",
    "    for age in [[\"B\",\"20대\"],[\"C\",\"30대\"],[\"D\",\"40대\"],[\"E\",\"50대 이상\"]]:\n",
    "        ws[age[0]+\"6\"]=\"=COUNTIF(Sheet1!G2:G{},\\\"{}\\\")\".format(ws.max_row, age[1])\n",
    "        ws[age[0]+\"7\"]=\"={}6/SUM(B6:E6)\".format(age[0])\n",
    "        ws[age[0]+\"7\"].number_format=\"0.00%\"\n",
    "        \n",
    "    row_no=10\n",
    "    for alphabet in [\"B\",\"C\",\"D\",\"E\",\"F\"]:\n",
    "        ws[\"B\"+str(row_no)]=\"=Sheet1!{}{}\".format(alphabet, ws.max_row+1)\n",
    "        if row_no<13:\n",
    "            ws[\"B\"+str(row_no)].number_format=\"#.##\"\n",
    "        row_no +=1"
   ]
  },
  {
   "cell_type": "markdown",
   "id": "5942d953",
   "metadata": {},
   "source": [
    "### 5) 서식 설정하기   \n",
    "* 셀 너비와 높이 변경  \n",
    "    - range(len(summary_table_form)+1)는 요약표 양식이 있는 행의 길이 반환 "
   ]
  },
  {
   "cell_type": "code",
   "execution_count": 13,
   "id": "66ebde8d",
   "metadata": {},
   "outputs": [],
   "source": [
    "ws.column_dimensions[\"A\"].width=15\n",
    "for alphabet in [\"B\",\"C\",\"D\",\"F\"]:\n",
    "    ws.column_dimensions[alphabet].width=10\n",
    "\n",
    "for i in range(len(summary_table_form)+1):\n",
    "    ws.row_dimensions[i].height=25"
   ]
  },
  {
   "cell_type": "code",
   "execution_count": 18,
   "id": "4a08b316",
   "metadata": {},
   "outputs": [],
   "source": [
    "from openpyxl.styles import Alignment, Side, Border, Font, PatternFill, Color\n",
    "alignment_style = Alignment(horizontal=\"center\", vertical=\"center\")\n",
    "\n",
    "side=Side(color=\"CCCCCC\", border_style=\"medium\")\n",
    "border_style=Border(\n",
    "    left=side,\n",
    "    right=side,\n",
    "    top=side,\n",
    "    bottom=side,)\n",
    "\n",
    "style_apply_cells=[\"A1:C3\", \"A5:E7\", \"A9:B14\"]\n",
    "for cell_area in style_apply_cells:\n",
    "    for row in ws[cell_area]:\n",
    "        for cell in row:\n",
    "            cell.alignment=alignment_style\n",
    "            cell.border=border_style"
   ]
  },
  {
   "cell_type": "code",
   "execution_count": 20,
   "id": "c84867bb",
   "metadata": {},
   "outputs": [],
   "source": [
    "header_font_style = Font(sz=12, bold=True)\n",
    "header_background_style=PatternFill(fill_type=\"solid\", start_color=\"ffd663\")\n",
    "style_apply_cells_for_header=[\"A1:C1\",\"A5:E5\",\"A9:B9\"]\n",
    "\n",
    "for cell_area in style_apply_cells_for_header:\n",
    "    for row in ws[cell_area]:\n",
    "        for cell in row:\n",
    "            cell.font=header_font_style\n",
    "            cell.fill=header_background_style\n",
    "            \n",
    "ws.merge_cells(\"A9:B9\")"
   ]
  },
  {
   "cell_type": "markdown",
   "id": "371be0ef",
   "metadata": {},
   "source": [
    "* 엑셀 활성화 시트를 요약표 시트로 변경  \n",
    "    - sb객체를 엑셀파일로 저장"
   ]
  },
  {
   "cell_type": "code",
   "execution_count": 21,
   "id": "e931353f",
   "metadata": {},
   "outputs": [],
   "source": [
    "wb.active=ws\n",
    "wb.save(\"고객 만족 데이터_보고.xlsx\")"
   ]
  },
  {
   "cell_type": "markdown",
   "id": "deb3a6f7",
   "metadata": {},
   "source": [
    "## 2. 실습_여러 개의 엑셀 파일 하나로 합치기  \n",
    "\n",
    "### 1) 모듈 불러오기"
   ]
  },
  {
   "cell_type": "markdown",
   "id": "c95bd00b",
   "metadata": {},
   "source": [
    "* copy, Workbook, load_workbook 모듈 불러옴"
   ]
  },
  {
   "cell_type": "code",
   "execution_count": 22,
   "id": "7bf80c72",
   "metadata": {},
   "outputs": [],
   "source": [
    "from copy import copy\n",
    "from openpyxl import Workbook  \n",
    "from openpyxl import load_workbook"
   ]
  },
  {
   "cell_type": "markdown",
   "id": "dcc03d2a",
   "metadata": {},
   "source": [
    "### 2) 사용자 함수 정의하기   \n",
    "* 사용자 정의함수 : copy_ws()  \n",
    "* 파일 통합 : ws_src(원본 파일 시트) 복사해서 wb_dst(통합파일)에 저장"
   ]
  },
  {
   "cell_type": "code",
   "execution_count": 23,
   "id": "187f1064",
   "metadata": {},
   "outputs": [],
   "source": [
    "def copy_ws(ws_src, wb_dst, new_sheet_name):\n",
    "    wb_dst.create_sheet(new_sheet_name)\n",
    "    new_sheet=wb_dst[new_sheet_name]\n",
    "    for row in ws_src:\n",
    "        for cell in row:\n",
    "            new_cell=new_sheet[cell.coordinate]\n",
    "            \n",
    "            new_cell.value=cell.value\n",
    "            new_cell.font=copy(cell.font)\n",
    "            new_cell.border=copy(cell.border)\n",
    "            new_cell.fill=copy(cell.fill)\n",
    "            new_cell.number_format=copy(cell.number_format)\n",
    "            new_cell.protection=copy(cell.protection)\n",
    "            new_cell.alignment=copy(cell.alignment)\n",
    "            \n",
    "    if ws_src.merged_cells:\n",
    "        new_sheet.merge_cells(str(ws_src.merged_cells))"
   ]
  },
  {
   "cell_type": "markdown",
   "id": "b691db27",
   "metadata": {},
   "source": [
    "### 3) 통합 실행하기  \n",
    "* wb_dst(통합파일) 객체 생성하여, 원본 파일은 src_file_list에 리스트로 생성"
   ]
  },
  {
   "cell_type": "code",
   "execution_count": 24,
   "id": "05092950",
   "metadata": {},
   "outputs": [],
   "source": [
    "wb_dst=Workbook()\n",
    "src_file_list=[\"시트복사_원본1.xlsx\",\"시트복사_원본2.xlsx\"]\n",
    "\n",
    "for src_file in src_file_list:\n",
    "    wb_src=load_workbook(src_file)\n",
    "    for ws_src in wb_src.worksheets:\n",
    "        new_sheet_name=src_file.split(\".xlsx\")[0]+\"_\"+ws_src.title\n",
    "        copy_ws(ws_src, wb_dst, new_sheet_name)\n",
    "        \n",
    "wb_dst.remove(wb_dst[\"Sheet\"])\n",
    "wb_dst.save(\"통합.xlsx\")"
   ]
  },
  {
   "cell_type": "markdown",
   "id": "d1bcccff",
   "metadata": {},
   "source": [
    "# 복습"
   ]
  },
  {
   "cell_type": "code",
   "execution_count": 1,
   "id": "29f2083f",
   "metadata": {},
   "outputs": [],
   "source": [
    "from openpyxl import load_workbook\n",
    "wb=load_workbook(\"고객 만족 데이터.xlsx\")\n",
    "ws=wb[\"Sheet1\"]"
   ]
  },
  {
   "cell_type": "code",
   "execution_count": 3,
   "id": "d0b55480",
   "metadata": {},
   "outputs": [],
   "source": [
    "for row in ws:\n",
    "    for cell in row:\n",
    "        if cell.col_idx>0 and cell.col_idx<7 and cell.row>1:\n",
    "            cell.data_type=\"i\""
   ]
  },
  {
   "cell_type": "code",
   "execution_count": 4,
   "id": "63b1af77",
   "metadata": {},
   "outputs": [],
   "source": [
    "this_max_row=ws.max_row\n",
    "ws[\"A{}\".format(this_max_row+1)]=\"평균/합계\"\n",
    "\n",
    "for col_let in [\"B\",\"C\",\"D\"]:\n",
    "    average_formula=\"=AVERAGE({}2:{}{})\".format(col_let,col_let,this_max_row)\n",
    "    ws[\"{}{}\".format(col_let,this_max_row+1)]=average_formula\n",
    "    ws[\"{}{}\".format(col_let,this_max_row+1)].number_format=\"#.##\"\n",
    "    \n",
    "for col_let in [\"E\",\"F\"]:\n",
    "    sum_formula=\"=SUM({}2:{}{})\".format(col_let,col_let,this_max_row)\n",
    "    ws[\"{}{}\".format(col_let,this_max_row+1)]=sum_formula"
   ]
  },
  {
   "cell_type": "code",
   "execution_count": 8,
   "id": "fa7ef280",
   "metadata": {},
   "outputs": [],
   "source": [
    "wb.create_sheet(\"보고서 삽입용 요약표\")\n",
    "ws=wb[\"보고서 삽입용 요약표\"]\n",
    "\n",
    "summary_table_form=[[\"성별 분포\",\"남성\",\"여성\"],[\"인원\", \"\", \"\"],[\"비율\", \"\", \"\"],[\"\",\"\",\"\"],[\"연령 분포\",\"20대\",\"30대\",\"40대\",\"50대이상\"],[\"인원\",\"\",\"\"],[\"비율\",\"\",\"\"],[\"\",\"\",\"\"],[\"조사결과\"],[\"제품만족도\"],[\"재구매 의사\"],[\"추천의향\"],[\"방문횟수\"],[\"클레임횟수\"]]\n",
    "for form_row in summary_table_form:\n",
    "    ws.append(form_row)"
   ]
  },
  {
   "cell_type": "code",
   "execution_count": 10,
   "id": "32554057",
   "metadata": {},
   "outputs": [],
   "source": [
    "for gender in [[\"B\",\"남\"],[\"C\",\"여\"]]:\n",
    "    ws[gender[0]+\"2\"]=\"=COUNTIF(sheet1!H2:H{},\\\"{}\\\")\".format(ws.max_row,gender[1])\n",
    "    ws[gender[0]+\"3\"]=\"={}2/SUM(B2:C2)\".format(gender[0])\n",
    "    ws[gender[0]+\"3\"].number_format=\"0.00%\"\n",
    "    \n",
    "    for age in [[\"B\",\"20대\"],[\"C\",\"30대\"],[\"D\",\"40대\"],[\"E\",\"50대이상\"]]:\n",
    "        ws[age[0]+\"6\"]=\"=COUNTIF(Sheet1!G2:G{},\\\"{}\\\")\".format(ws.max_row,age[1])\n",
    "        ws[age[0]+\"7\"]=\"={}6/SUM(B6:E6)\".format(age[0])\n",
    "        ws[age[0]+\"7\"].number_format=\"0.00%\"\n",
    "        \n",
    "        row_no=10\n",
    "        for alphabet in [\"B\",\"C\",\"D\",\"E\",\"F\"]:\n",
    "            ws[\"B\"+str(row_no)]=\"=Sheet1!{}{}\".format(alphabet,ws.max_row+1)\n",
    "            if row_no<13:\n",
    "                ws[\"B\"+str(row_no)].number_format=\"#.##\"\n",
    "                row_no+=1"
   ]
  },
  {
   "cell_type": "code",
   "execution_count": null,
   "id": "a95284f6",
   "metadata": {},
   "outputs": [],
   "source": []
  }
 ],
 "metadata": {
  "kernelspec": {
   "display_name": "Python 3 (ipykernel)",
   "language": "python",
   "name": "python3"
  },
  "language_info": {
   "codemirror_mode": {
    "name": "ipython",
    "version": 3
   },
   "file_extension": ".py",
   "mimetype": "text/x-python",
   "name": "python",
   "nbconvert_exporter": "python",
   "pygments_lexer": "ipython3",
   "version": "3.10.9"
  }
 },
 "nbformat": 4,
 "nbformat_minor": 5
}
