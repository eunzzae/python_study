{
 "cells": [
  {
   "cell_type": "markdown",
   "id": "5b8ba3cf",
   "metadata": {},
   "source": [
    "# 1.1 파이썬 준비하기_230408"
   ]
  },
  {
   "cell_type": "markdown",
   "id": "0bf55126",
   "metadata": {},
   "source": [
    "[코드 작성 및 실행]\n",
    "파이썬에서 무언가를 출력하고 싶으면 print()라는 것을 사용합니다.\n",
    "\n",
    "Print() 함수는 () 안의 내용을 출력해줍니다.\n"
   ]
  },
  {
   "cell_type": "code",
   "execution_count": 131,
   "id": "61ec4a1d",
   "metadata": {},
   "outputs": [
    {
     "name": "stdout",
     "output_type": "stream",
     "text": [
      "안녕하세요\n"
     ]
    }
   ],
   "source": [
    "print(\"안녕하세요\")"
   ]
  },
  {
   "cell_type": "markdown",
   "id": "d13516f6",
   "metadata": {},
   "source": [
    "# 2 자료형\n",
    "\n",
    "## 2.1 변수와 상수"
   ]
  },
  {
   "cell_type": "markdown",
   "id": "2e04d811",
   "metadata": {},
   "source": [
    "### [변수 선언하기]"
   ]
  },
  {
   "cell_type": "markdown",
   "id": "28d421db",
   "metadata": {},
   "source": [
    "**변수**는 `숫자나 문자열` 같은 데이터를 저장할 수 있는 공간입니다. \n",
    "변수에 값을 저장하고  Print() 함수로 값을 출력할 수 있습니다. "
   ]
  },
  {
   "cell_type": "code",
   "execution_count": 6,
   "id": "4b390f69",
   "metadata": {},
   "outputs": [],
   "source": [
    "a1=2023"
   ]
  },
  {
   "cell_type": "code",
   "execution_count": 7,
   "id": "4e5b7cca",
   "metadata": {},
   "outputs": [],
   "source": [
    "a2=\"안녕하세요.\""
   ]
  },
  {
   "cell_type": "code",
   "execution_count": 8,
   "id": "5981a654",
   "metadata": {},
   "outputs": [
    {
     "ename": "TypeError",
     "evalue": "unsupported operand type(s) for +: 'int' and 'str'",
     "output_type": "error",
     "traceback": [
      "\u001b[1;31m---------------------------------------------------------------------------\u001b[0m",
      "\u001b[1;31mTypeError\u001b[0m                                 Traceback (most recent call last)",
      "Cell \u001b[1;32mIn[8], line 1\u001b[0m\n\u001b[1;32m----> 1\u001b[0m \u001b[43ma1\u001b[49m\u001b[38;5;241;43m+\u001b[39;49m\u001b[43ma2\u001b[49m\n",
      "\u001b[1;31mTypeError\u001b[0m: unsupported operand type(s) for +: 'int' and 'str'"
     ]
    }
   ],
   "source": [
    "a1+a2"
   ]
  },
  {
   "cell_type": "markdown",
   "id": "bdeedcec",
   "metadata": {},
   "source": [
    "### [변수명 규칙]"
   ]
  },
  {
   "cell_type": "markdown",
   "id": "5a6c1caf",
   "metadata": {},
   "source": [
    "**변수명**에는 반드시 `문자 또는 언더바`로 시작되어야 하며, 숫자로 시작할 수 없습니다. \n",
    "또한 `예약어`를 사용하면 에러가 발생합니다. "
   ]
  },
  {
   "cell_type": "code",
   "execution_count": 9,
   "id": "19b7be90",
   "metadata": {},
   "outputs": [
    {
     "name": "stdout",
     "output_type": "stream",
     "text": [
      "2023\n"
     ]
    }
   ],
   "source": [
    "print(a1)"
   ]
  },
  {
   "cell_type": "code",
   "execution_count": 10,
   "id": "ae8863f7",
   "metadata": {},
   "outputs": [
    {
     "name": "stdout",
     "output_type": "stream",
     "text": [
      "안녕하세요.\n"
     ]
    }
   ],
   "source": [
    "print(a2)"
   ]
  },
  {
   "cell_type": "code",
   "execution_count": 11,
   "id": "96342ff7",
   "metadata": {},
   "outputs": [
    {
     "ename": "SyntaxError",
     "evalue": "leading zeros in decimal integer literals are not permitted; use an 0o prefix for octal integers (2682938444.py, line 1)",
     "output_type": "error",
     "traceback": [
      "\u001b[1;36m  Cell \u001b[1;32mIn[11], line 1\u001b[1;36m\u001b[0m\n\u001b[1;33m    a=0128\u001b[0m\n\u001b[1;37m      ^\u001b[0m\n\u001b[1;31mSyntaxError\u001b[0m\u001b[1;31m:\u001b[0m leading zeros in decimal integer literals are not permitted; use an 0o prefix for octal integers\n"
     ]
    }
   ],
   "source": [
    "a=0128"
   ]
  },
  {
   "cell_type": "code",
   "execution_count": 12,
   "id": "b90ed407",
   "metadata": {},
   "outputs": [],
   "source": [
    "a=1234"
   ]
  },
  {
   "cell_type": "code",
   "execution_count": 13,
   "id": "69024926",
   "metadata": {},
   "outputs": [
    {
     "name": "stdout",
     "output_type": "stream",
     "text": [
      "1234\n"
     ]
    }
   ],
   "source": [
    "print(a)"
   ]
  },
  {
   "cell_type": "code",
   "execution_count": 14,
   "id": "8935e059",
   "metadata": {},
   "outputs": [
    {
     "ename": "NameError",
     "evalue": "name 'A' is not defined",
     "output_type": "error",
     "traceback": [
      "\u001b[1;31m---------------------------------------------------------------------------\u001b[0m",
      "\u001b[1;31mNameError\u001b[0m                                 Traceback (most recent call last)",
      "Cell \u001b[1;32mIn[14], line 1\u001b[0m\n\u001b[1;32m----> 1\u001b[0m \u001b[38;5;28mprint\u001b[39m(\u001b[43mA\u001b[49m)\n",
      "\u001b[1;31mNameError\u001b[0m: name 'A' is not defined"
     ]
    }
   ],
   "source": [
    "print(A)"
   ]
  },
  {
   "cell_type": "markdown",
   "id": "e0eea8fb",
   "metadata": {},
   "source": [
    "### [상수 사용하기]"
   ]
  },
  {
   "cell_type": "markdown",
   "id": "b865a90e",
   "metadata": {},
   "source": [
    "숫자 상수는 그대로 표시하지만 문자나 문자열 상수는 `작은따옴표 또는 큰따옴표`로 감싸줍니다. "
   ]
  },
  {
   "cell_type": "code",
   "execution_count": 15,
   "id": "32a01080",
   "metadata": {},
   "outputs": [
    {
     "name": "stdout",
     "output_type": "stream",
     "text": [
      "A\n"
     ]
    }
   ],
   "source": [
    "print('A')"
   ]
  },
  {
   "cell_type": "code",
   "execution_count": 16,
   "id": "0819ef05",
   "metadata": {},
   "outputs": [
    {
     "name": "stdout",
     "output_type": "stream",
     "text": [
      "20\n"
     ]
    }
   ],
   "source": [
    "print(20)"
   ]
  },
  {
   "cell_type": "code",
   "execution_count": 17,
   "id": "ea887485",
   "metadata": {},
   "outputs": [
    {
     "name": "stdout",
     "output_type": "stream",
     "text": [
      "선생님\n"
     ]
    }
   ],
   "source": [
    "print(\"선생님\")"
   ]
  },
  {
   "cell_type": "code",
   "execution_count": 18,
   "id": "3ee5f807",
   "metadata": {},
   "outputs": [],
   "source": [
    "x=5"
   ]
  },
  {
   "cell_type": "code",
   "execution_count": 19,
   "id": "0388d996",
   "metadata": {},
   "outputs": [],
   "source": [
    "y=7"
   ]
  },
  {
   "cell_type": "code",
   "execution_count": 20,
   "id": "d2e813e7",
   "metadata": {},
   "outputs": [
    {
     "data": {
      "text/plain": [
       "12"
      ]
     },
     "execution_count": 20,
     "metadata": {},
     "output_type": "execute_result"
    }
   ],
   "source": [
    "x+y"
   ]
  },
  {
   "cell_type": "code",
   "execution_count": 21,
   "id": "37a6901b",
   "metadata": {},
   "outputs": [],
   "source": [
    "y=x+5"
   ]
  },
  {
   "cell_type": "code",
   "execution_count": 22,
   "id": "c86a40f0",
   "metadata": {},
   "outputs": [
    {
     "name": "stdout",
     "output_type": "stream",
     "text": [
      "10\n"
     ]
    }
   ],
   "source": [
    "print(y)"
   ]
  },
  {
   "cell_type": "code",
   "execution_count": 23,
   "id": "3fc05430",
   "metadata": {},
   "outputs": [],
   "source": [
    "s=\"선생님\""
   ]
  },
  {
   "cell_type": "code",
   "execution_count": 24,
   "id": "4e7bfd42",
   "metadata": {},
   "outputs": [],
   "source": [
    "s=s+\",\"+\"안녕하세요!\""
   ]
  },
  {
   "cell_type": "code",
   "execution_count": 25,
   "id": "a2509612",
   "metadata": {},
   "outputs": [
    {
     "name": "stdout",
     "output_type": "stream",
     "text": [
      "선생님,안녕하세요!\n"
     ]
    }
   ],
   "source": [
    "print(s)"
   ]
  },
  {
   "cell_type": "markdown",
   "id": "cbd818e2",
   "metadata": {},
   "source": [
    "## 2.2 기본 자료형\n",
    "\n",
    "### [숫자]\n",
    "\n",
    "* 정수형"
   ]
  },
  {
   "cell_type": "code",
   "execution_count": 26,
   "id": "62cbc348",
   "metadata": {},
   "outputs": [],
   "source": [
    "a=678"
   ]
  },
  {
   "cell_type": "code",
   "execution_count": 27,
   "id": "e117f65e",
   "metadata": {},
   "outputs": [
    {
     "name": "stdout",
     "output_type": "stream",
     "text": [
      "<class 'int'>\n"
     ]
    }
   ],
   "source": [
    "print(type(a))"
   ]
  },
  {
   "cell_type": "code",
   "execution_count": 28,
   "id": "e1688cd3",
   "metadata": {},
   "outputs": [],
   "source": [
    "a=2049"
   ]
  },
  {
   "cell_type": "code",
   "execution_count": 29,
   "id": "81aa4b4b",
   "metadata": {},
   "outputs": [
    {
     "data": {
      "text/plain": [
       "2049"
      ]
     },
     "execution_count": 29,
     "metadata": {},
     "output_type": "execute_result"
    }
   ],
   "source": [
    "a"
   ]
  },
  {
   "cell_type": "code",
   "execution_count": 30,
   "id": "6ad7d76b",
   "metadata": {},
   "outputs": [],
   "source": [
    "a=-3.567"
   ]
  },
  {
   "cell_type": "code",
   "execution_count": 31,
   "id": "2dca85eb",
   "metadata": {},
   "outputs": [
    {
     "name": "stdout",
     "output_type": "stream",
     "text": [
      "<class 'float'>\n"
     ]
    }
   ],
   "source": [
    "print(type(a))"
   ]
  },
  {
   "cell_type": "code",
   "execution_count": 32,
   "id": "aa4f537b",
   "metadata": {},
   "outputs": [],
   "source": [
    "a=63"
   ]
  },
  {
   "cell_type": "code",
   "execution_count": 33,
   "id": "95c7766c",
   "metadata": {},
   "outputs": [],
   "source": [
    "b=7"
   ]
  },
  {
   "cell_type": "code",
   "execution_count": 34,
   "id": "f699dd2f",
   "metadata": {},
   "outputs": [
    {
     "name": "stdout",
     "output_type": "stream",
     "text": [
      "9.0\n"
     ]
    }
   ],
   "source": [
    "print(a/b)"
   ]
  },
  {
   "cell_type": "code",
   "execution_count": 35,
   "id": "1b0ff5b0",
   "metadata": {},
   "outputs": [
    {
     "name": "stdout",
     "output_type": "stream",
     "text": [
      "9\n"
     ]
    }
   ],
   "source": [
    "print(a//b)"
   ]
  },
  {
   "cell_type": "code",
   "execution_count": 36,
   "id": "3c8c18b6",
   "metadata": {},
   "outputs": [
    {
     "name": "stdout",
     "output_type": "stream",
     "text": [
      "0\n"
     ]
    }
   ],
   "source": [
    "print(a%b)"
   ]
  },
  {
   "cell_type": "code",
   "execution_count": 37,
   "id": "99c0eefa",
   "metadata": {},
   "outputs": [
    {
     "data": {
      "text/plain": [
       "59049"
      ]
     },
     "execution_count": 37,
     "metadata": {},
     "output_type": "execute_result"
    }
   ],
   "source": [
    "9**5"
   ]
  },
  {
   "cell_type": "code",
   "execution_count": 38,
   "id": "c9e2b1d7",
   "metadata": {},
   "outputs": [
    {
     "data": {
      "text/plain": [
       "12"
      ]
     },
     "execution_count": 38,
     "metadata": {},
     "output_type": "execute_result"
    }
   ],
   "source": [
    "abs(-12)"
   ]
  },
  {
   "cell_type": "code",
   "execution_count": 39,
   "id": "25b79f5d",
   "metadata": {},
   "outputs": [
    {
     "data": {
      "text/plain": [
       "3.13"
      ]
     },
     "execution_count": 39,
     "metadata": {},
     "output_type": "execute_result"
    }
   ],
   "source": [
    "round(3.12543,2)"
   ]
  },
  {
   "cell_type": "code",
   "execution_count": 40,
   "id": "ac86d577",
   "metadata": {},
   "outputs": [],
   "source": [
    "a=\"Hello Python!\""
   ]
  },
  {
   "cell_type": "code",
   "execution_count": 41,
   "id": "074e1e45",
   "metadata": {},
   "outputs": [
    {
     "data": {
      "text/plain": [
       "'Hello Python!'"
      ]
     },
     "execution_count": 41,
     "metadata": {},
     "output_type": "execute_result"
    }
   ],
   "source": [
    "a"
   ]
  },
  {
   "cell_type": "code",
   "execution_count": 42,
   "id": "33db048b",
   "metadata": {},
   "outputs": [],
   "source": [
    "sen='\"민수는 말했다.\"'"
   ]
  },
  {
   "cell_type": "code",
   "execution_count": 43,
   "id": "9a815490",
   "metadata": {},
   "outputs": [
    {
     "name": "stdout",
     "output_type": "stream",
     "text": [
      "\"민수는 말했다.\"\n"
     ]
    }
   ],
   "source": [
    "print(sen)"
   ]
  },
  {
   "cell_type": "code",
   "execution_count": 44,
   "id": "e3de7cf3",
   "metadata": {},
   "outputs": [],
   "source": [
    "sen=\"It's mine.\""
   ]
  },
  {
   "cell_type": "code",
   "execution_count": 45,
   "id": "f093eea8",
   "metadata": {},
   "outputs": [
    {
     "name": "stdout",
     "output_type": "stream",
     "text": [
      "It's mine.\n"
     ]
    }
   ],
   "source": [
    "print(sen)"
   ]
  },
  {
   "cell_type": "markdown",
   "id": "a15a8513",
   "metadata": {},
   "source": [
    "## 2.2 기본 자료형_230415"
   ]
  },
  {
   "cell_type": "markdown",
   "id": "97d9e18e",
   "metadata": {},
   "source": [
    "#### [문자]"
   ]
  },
  {
   "cell_type": "code",
   "execution_count": 2,
   "id": "ad73166c",
   "metadata": {},
   "outputs": [],
   "source": [
    "a=\"Hello Python!\""
   ]
  },
  {
   "cell_type": "code",
   "execution_count": 3,
   "id": "0f659546",
   "metadata": {},
   "outputs": [
    {
     "data": {
      "text/plain": [
       "'Hello Python!'"
      ]
     },
     "execution_count": 3,
     "metadata": {},
     "output_type": "execute_result"
    }
   ],
   "source": [
    "a"
   ]
  },
  {
   "cell_type": "code",
   "execution_count": 4,
   "id": "f7db63ae",
   "metadata": {},
   "outputs": [],
   "source": [
    "sen=\"It's mine.\""
   ]
  },
  {
   "cell_type": "code",
   "execution_count": 5,
   "id": "e7529eb6",
   "metadata": {},
   "outputs": [
    {
     "name": "stdout",
     "output_type": "stream",
     "text": [
      "It's mine.\n"
     ]
    }
   ],
   "source": [
    "print(sen)"
   ]
  },
  {
   "cell_type": "markdown",
   "id": "af539a56",
   "metadata": {},
   "source": [
    "문자열 안에 따옴표를 포함하고 싶을 때는 다른 종류의 따옴표를 사용한다. "
   ]
  },
  {
   "cell_type": "code",
   "execution_count": 6,
   "id": "5f2b1267",
   "metadata": {},
   "outputs": [],
   "source": [
    "sen2='\"It is impossible.\"He says.'"
   ]
  },
  {
   "cell_type": "code",
   "execution_count": 7,
   "id": "c8cdf281",
   "metadata": {},
   "outputs": [
    {
     "name": "stdout",
     "output_type": "stream",
     "text": [
      "\"It is impossible.\"He says.\n"
     ]
    }
   ],
   "source": [
    "print(sen2)"
   ]
  },
  {
   "cell_type": "code",
   "execution_count": 8,
   "id": "fe7dd920",
   "metadata": {},
   "outputs": [
    {
     "ename": "SyntaxError",
     "evalue": "invalid syntax (199141048.py, line 1)",
     "output_type": "error",
     "traceback": [
      "\u001b[1;36m  Cell \u001b[1;32mIn[8], line 1\u001b[1;36m\u001b[0m\n\u001b[1;33m    sen3='It/'s mine.\u001b[0m\n\u001b[1;37m              ^\u001b[0m\n\u001b[1;31mSyntaxError\u001b[0m\u001b[1;31m:\u001b[0m invalid syntax\n"
     ]
    }
   ],
   "source": [
    "sen3='It/'s mine."
   ]
  },
  {
   "cell_type": "markdown",
   "id": "b17cb873",
   "metadata": {},
   "source": [
    "따옴표를 사용하지 않고 문자열에 따옴표를 나타낼 수 있는 방법은 따옴표 앞에 백슬래시는 넣는다. 백슬래시는 원화표시로 나타낼 수 있다."
   ]
  },
  {
   "cell_type": "code",
   "execution_count": 11,
   "id": "cc801920",
   "metadata": {},
   "outputs": [],
   "source": [
    "sen3='It\\'s mine.'\n",
    "sen4=\"\\\"It is impossible.\\\" He says.\""
   ]
  },
  {
   "cell_type": "code",
   "execution_count": 10,
   "id": "d4962900",
   "metadata": {},
   "outputs": [
    {
     "name": "stdout",
     "output_type": "stream",
     "text": [
      "It's mine.\n"
     ]
    }
   ],
   "source": [
    "print(sen3)"
   ]
  },
  {
   "cell_type": "code",
   "execution_count": 12,
   "id": "d7c753de",
   "metadata": {},
   "outputs": [
    {
     "name": "stdout",
     "output_type": "stream",
     "text": [
      "\"It is impossible.\" He says.\n"
     ]
    }
   ],
   "source": [
    "print(sen4)"
   ]
  },
  {
   "cell_type": "markdown",
   "id": "ee2b5d42",
   "metadata": {},
   "source": [
    "문자를 여러줄로 나타내고 싶을 때는 따옴표를 연속으로 세개를 사용하여 줄바꿈을 하거나, 줄바꿈을 하고 싶은 문구 앞에 \\n를 사용한다. "
   ]
  },
  {
   "cell_type": "code",
   "execution_count": 13,
   "id": "776afc59",
   "metadata": {},
   "outputs": [],
   "source": [
    "a=\"\"\"Hello!\n",
    "Python!\"\"\""
   ]
  },
  {
   "cell_type": "code",
   "execution_count": 14,
   "id": "1067f0af",
   "metadata": {},
   "outputs": [
    {
     "name": "stdout",
     "output_type": "stream",
     "text": [
      "Hello!\n",
      "Python!\n"
     ]
    }
   ],
   "source": [
    "print(a)"
   ]
  },
  {
   "cell_type": "code",
   "execution_count": 15,
   "id": "857d6fa7",
   "metadata": {},
   "outputs": [],
   "source": [
    "a=\"Hello! \\n Python!\""
   ]
  },
  {
   "cell_type": "code",
   "execution_count": 16,
   "id": "10fd4334",
   "metadata": {},
   "outputs": [
    {
     "name": "stdout",
     "output_type": "stream",
     "text": [
      "Hello! \n",
      " Python!\n"
     ]
    }
   ],
   "source": [
    "print(a)"
   ]
  },
  {
   "cell_type": "code",
   "execution_count": 29,
   "id": "06bfa3bc",
   "metadata": {},
   "outputs": [
    {
     "ename": "SyntaxError",
     "evalue": "invalid syntax (2372861234.py, line 1)",
     "output_type": "error",
     "traceback": [
      "\u001b[1;36m  Cell \u001b[1;32mIn[29], line 1\u001b[1;36m\u001b[0m\n\u001b[1;33m    문자열도 연산이 가능하며, 문자열의 변수를 더할 수 있다.\u001b[0m\n\u001b[1;37m         ^\u001b[0m\n\u001b[1;31mSyntaxError\u001b[0m\u001b[1;31m:\u001b[0m invalid syntax\n"
     ]
    }
   ],
   "source": [
    "문자열도 연산이 가능하며, 문자열의 변수를 더할 수 있다. "
   ]
  },
  {
   "cell_type": "code",
   "execution_count": 20,
   "id": "816de4d4",
   "metadata": {},
   "outputs": [
    {
     "data": {
      "text/plain": [
       "'Hello!Python!'"
      ]
     },
     "execution_count": 20,
     "metadata": {},
     "output_type": "execute_result"
    }
   ],
   "source": [
    "a= \"Hello!\"  \n",
    "b= \"Python!\" \n",
    "a+b\n",
    "a+b"
   ]
  },
  {
   "cell_type": "code",
   "execution_count": 21,
   "id": "0f1d3dff",
   "metadata": {},
   "outputs": [
    {
     "data": {
      "text/plain": [
       "'Hello!Python!'"
      ]
     },
     "execution_count": 21,
     "metadata": {},
     "output_type": "execute_result"
    }
   ],
   "source": [
    "a + b"
   ]
  },
  {
   "cell_type": "code",
   "execution_count": 22,
   "id": "ac747153",
   "metadata": {},
   "outputs": [
    {
     "data": {
      "text/plain": [
       "'Hello!Python!'"
      ]
     },
     "execution_count": 22,
     "metadata": {},
     "output_type": "execute_result"
    }
   ],
   "source": [
    "a+b"
   ]
  },
  {
   "cell_type": "code",
   "execution_count": 23,
   "id": "7c5f7943",
   "metadata": {},
   "outputs": [
    {
     "name": "stdout",
     "output_type": "stream",
     "text": [
      "Hello!Python!\n"
     ]
    }
   ],
   "source": [
    "print(a+b)"
   ]
  },
  {
   "cell_type": "code",
   "execution_count": 25,
   "id": "6546462e",
   "metadata": {},
   "outputs": [
    {
     "data": {
      "text/plain": [
       "'Hello! Python!'"
      ]
     },
     "execution_count": 25,
     "metadata": {},
     "output_type": "execute_result"
    }
   ],
   "source": [
    "a = \"Hello! \"\n",
    "b = \"Python!\"\n",
    "a+b"
   ]
  },
  {
   "cell_type": "code",
   "execution_count": 26,
   "id": "a908645c",
   "metadata": {},
   "outputs": [
    {
     "data": {
      "text/plain": [
       "'Hello! Hello! Hello! '"
      ]
     },
     "execution_count": 26,
     "metadata": {},
     "output_type": "execute_result"
    }
   ],
   "source": [
    "a*3"
   ]
  },
  {
   "cell_type": "code",
   "execution_count": 27,
   "id": "b40b2192",
   "metadata": {},
   "outputs": [
    {
     "data": {
      "text/plain": [
       "'263'"
      ]
     },
     "execution_count": 27,
     "metadata": {},
     "output_type": "execute_result"
    }
   ],
   "source": [
    "a=\"26\"\n",
    "b=\"3\"\n",
    "a+b"
   ]
  },
  {
   "cell_type": "code",
   "execution_count": 28,
   "id": "b7790f5c",
   "metadata": {},
   "outputs": [
    {
     "data": {
      "text/plain": [
       "'262626'"
      ]
     },
     "execution_count": 28,
     "metadata": {},
     "output_type": "execute_result"
    }
   ],
   "source": [
    "a*3"
   ]
  },
  {
   "cell_type": "markdown",
   "id": "2c4f4bfd",
   "metadata": {},
   "source": [
    "문자열 자료형은 각 문자마다 순서대로 번호를 부여할 수 있고, 이를 문자열 인덱싱이라고 한다. \n",
    "이 번호를 통해 **문자의 위치를 확인**하고, **특정 위치에서 문자열을 잘라**낼 수 있다. "
   ]
  },
  {
   "cell_type": "code",
   "execution_count": 30,
   "id": "1d1f351a",
   "metadata": {},
   "outputs": [],
   "source": [
    "a=\"Hello! Python!\""
   ]
  },
  {
   "cell_type": "code",
   "execution_count": 31,
   "id": "39024dc5",
   "metadata": {},
   "outputs": [
    {
     "data": {
      "text/plain": [
       "'!'"
      ]
     },
     "execution_count": 31,
     "metadata": {},
     "output_type": "execute_result"
    }
   ],
   "source": [
    "a[-1]"
   ]
  },
  {
   "cell_type": "code",
   "execution_count": 32,
   "id": "feda53b2",
   "metadata": {},
   "outputs": [
    {
     "data": {
      "text/plain": [
       "'l'"
      ]
     },
     "execution_count": 32,
     "metadata": {},
     "output_type": "execute_result"
    }
   ],
   "source": [
    "a[3]"
   ]
  },
  {
   "cell_type": "markdown",
   "id": "92326dc8",
   "metadata": {},
   "source": [
    "슬라이싱은 인덱싱 번호를 사용해 문자열을 원하는 길이만큼 잘라낼 수 있다. \n",
    "문자열[시작번호:끝번호] 또는 변수명[시작번호:끝번호]\n",
    "\n",
    "__*끝번호까지 잘라내는 것이 아니라 끝번호 바로 앞 번호까지 잘라낸다.*__"
   ]
  },
  {
   "cell_type": "code",
   "execution_count": 33,
   "id": "7304b1d7",
   "metadata": {},
   "outputs": [
    {
     "data": {
      "text/plain": [
       "'lo! Py'"
      ]
     },
     "execution_count": 33,
     "metadata": {},
     "output_type": "execute_result"
    }
   ],
   "source": [
    "a[3:9]"
   ]
  },
  {
   "cell_type": "code",
   "execution_count": 34,
   "id": "e4e3e719",
   "metadata": {},
   "outputs": [
    {
     "ename": "SyntaxError",
     "evalue": "invalid syntax (3178594095.py, line 1)",
     "output_type": "error",
     "traceback": [
      "\u001b[1;36m  Cell \u001b[1;32mIn[34], line 1\u001b[1;36m\u001b[0m\n\u001b[1;33m    [3:-4]\u001b[0m\n\u001b[1;37m      ^\u001b[0m\n\u001b[1;31mSyntaxError\u001b[0m\u001b[1;31m:\u001b[0m invalid syntax\n"
     ]
    }
   ],
   "source": [
    "[3:-4]"
   ]
  },
  {
   "cell_type": "code",
   "execution_count": 35,
   "id": "3ee8b0ca",
   "metadata": {},
   "outputs": [
    {
     "data": {
      "text/plain": [
       "'lo! Pyt'"
      ]
     },
     "execution_count": 35,
     "metadata": {},
     "output_type": "execute_result"
    }
   ],
   "source": [
    "a[3:-4]"
   ]
  },
  {
   "cell_type": "code",
   "execution_count": 36,
   "id": "52183485",
   "metadata": {},
   "outputs": [
    {
     "data": {
      "text/plain": [
       "'Hello! P'"
      ]
     },
     "execution_count": 36,
     "metadata": {},
     "output_type": "execute_result"
    }
   ],
   "source": [
    "a[:8]"
   ]
  },
  {
   "cell_type": "code",
   "execution_count": 37,
   "id": "ab9dbe11",
   "metadata": {},
   "outputs": [
    {
     "data": {
      "text/plain": [
       "'lo! Python!'"
      ]
     },
     "execution_count": 37,
     "metadata": {},
     "output_type": "execute_result"
    }
   ],
   "source": [
    "a[3:]"
   ]
  },
  {
   "cell_type": "code",
   "execution_count": 38,
   "id": "bf5de44d",
   "metadata": {},
   "outputs": [
    {
     "name": "stdout",
     "output_type": "stream",
     "text": [
      "Live\n"
     ]
    }
   ],
   "source": [
    "a=\"Life\"\n",
    "b=a[0:2]+\"v\"+a[-1]\n",
    "print(b)"
   ]
  },
  {
   "cell_type": "markdown",
   "id": "04cd218c",
   "metadata": {},
   "source": [
    "문자열 포맷팅은 문자열 안에 있는 어떤 값을 바꿀 때 사용한다. \n",
    "\n",
    "\"문구 %s 문구\" %문자(또는 숫자)\n",
    "\"문구 %s 문구\" %변수명\n"
   ]
  },
  {
   "cell_type": "code",
   "execution_count": 39,
   "id": "f6245569",
   "metadata": {
    "scrolled": true
   },
   "outputs": [
    {
     "data": {
      "text/plain": [
       "'I eat 3 bananas.'"
      ]
     },
     "execution_count": 39,
     "metadata": {},
     "output_type": "execute_result"
    }
   ],
   "source": [
    "\"I eat %s bananas.\" %3"
   ]
  },
  {
   "cell_type": "code",
   "execution_count": 40,
   "id": "a45792c0",
   "metadata": {},
   "outputs": [
    {
     "data": {
      "text/plain": [
       "'I eat three bananas.'"
      ]
     },
     "execution_count": 40,
     "metadata": {},
     "output_type": "execute_result"
    }
   ],
   "source": [
    "\"I eat %s bananas.\" %\"three\""
   ]
  },
  {
   "cell_type": "code",
   "execution_count": 41,
   "id": "c2883413",
   "metadata": {},
   "outputs": [
    {
     "data": {
      "text/plain": [
       "'I like blue color.'"
      ]
     },
     "execution_count": 41,
     "metadata": {},
     "output_type": "execute_result"
    }
   ],
   "source": [
    "\"I like %s color.\" %\"blue\""
   ]
  },
  {
   "cell_type": "code",
   "execution_count": 42,
   "id": "0f94cbff",
   "metadata": {},
   "outputs": [
    {
     "data": {
      "text/plain": [
       "'I like blue color.'"
      ]
     },
     "execution_count": 42,
     "metadata": {},
     "output_type": "execute_result"
    }
   ],
   "source": [
    "color=\"blue\"\n",
    "\"I like %s color.\" %color"
   ]
  },
  {
   "cell_type": "markdown",
   "id": "378b69ca",
   "metadata": {},
   "source": [
    "자주 사용하는 포맷팅 코드는 숫자 포맷 코드(%d 또는 %f), 문자열(%s)이다"
   ]
  },
  {
   "cell_type": "code",
   "execution_count": 44,
   "id": "886c80f9",
   "metadata": {},
   "outputs": [
    {
     "data": {
      "text/plain": [
       "'          hello'"
      ]
     },
     "execution_count": 44,
     "metadata": {},
     "output_type": "execute_result"
    }
   ],
   "source": [
    "ar=\"%15s\" %\"hello\"\n",
    "ar"
   ]
  },
  {
   "cell_type": "code",
   "execution_count": 45,
   "id": "e9beea84",
   "metadata": {},
   "outputs": [
    {
     "data": {
      "text/plain": [
       "'hello          '"
      ]
     },
     "execution_count": 45,
     "metadata": {},
     "output_type": "execute_result"
    }
   ],
   "source": [
    "ar=\"%-15s\" %\"hello\"\n",
    "ar"
   ]
  },
  {
   "cell_type": "code",
   "execution_count": 46,
   "id": "406fde2e",
   "metadata": {},
   "outputs": [
    {
     "name": "stdout",
     "output_type": "stream",
     "text": [
      "John     hello\n"
     ]
    }
   ],
   "source": [
    "ar=\"John%10s\" %\"hello\"\n",
    "print(ar)"
   ]
  },
  {
   "cell_type": "code",
   "execution_count": 48,
   "id": "49754374",
   "metadata": {},
   "outputs": [
    {
     "data": {
      "text/plain": [
       "'  34'"
      ]
     },
     "execution_count": 48,
     "metadata": {},
     "output_type": "execute_result"
    }
   ],
   "source": [
    "a=\"%4d\" %34\n",
    "a"
   ]
  },
  {
   "cell_type": "markdown",
   "id": "95b25204",
   "metadata": {},
   "source": [
    "#공백을 10개 만들고 실수를 소수점 둘쨰 자리까지 오른쪽 정렬"
   ]
  },
  {
   "cell_type": "code",
   "execution_count": 50,
   "id": "51f64dce",
   "metadata": {},
   "outputs": [
    {
     "data": {
      "text/plain": [
       "'      5.62'"
      ]
     },
     "execution_count": 50,
     "metadata": {},
     "output_type": "execute_result"
    }
   ],
   "source": [
    "b=\"%10.2f\" %5.6182359\n",
    "b"
   ]
  },
  {
   "cell_type": "markdown",
   "id": "792b9c17",
   "metadata": {},
   "source": [
    "문자열 포맷팅은 %연산자 대신 format()함수를 사용할수도 있다. \n",
    "  \n",
    "  인덱스는 {} 중괄호로 표현한다. 인덱스로 변경할 위치를 지정하고, .format()으로 값을 정한다. "
   ]
  },
  {
   "cell_type": "code",
   "execution_count": 52,
   "id": "f1a70726",
   "metadata": {},
   "outputs": [
    {
     "name": "stdout",
     "output_type": "stream",
     "text": [
      "I need 5 eggs.\n"
     ]
    }
   ],
   "source": [
    "test=\"I need {} eggs.\" .format(5)\n",
    "print(test)"
   ]
  },
  {
   "cell_type": "markdown",
   "id": "1d6b9ac7",
   "metadata": {},
   "source": [
    "포맷할 값이 여러개라면 값을 변수로 지정한 다음에 인덱스에 출력할 수 있다."
   ]
  },
  {
   "cell_type": "code",
   "execution_count": 54,
   "id": "68882655",
   "metadata": {},
   "outputs": [
    {
     "name": "stdout",
     "output_type": "stream",
     "text": [
      "I like white egg. I need 5 eggs.\n"
     ]
    }
   ],
   "source": [
    "color=\"white\"\n",
    "num=5\n",
    "test=\"I like {} egg. I need {} eggs.\".format(color,num)\n",
    "print(test)"
   ]
  },
  {
   "cell_type": "code",
   "execution_count": 55,
   "id": "849b0f53",
   "metadata": {},
   "outputs": [
    {
     "name": "stdout",
     "output_type": "stream",
     "text": [
      "5.62\n"
     ]
    }
   ],
   "source": [
    "a=\"{:.2f}\".format(5.6182359)\n",
    "print(a)"
   ]
  },
  {
   "cell_type": "code",
   "execution_count": 58,
   "id": "34161eb7",
   "metadata": {},
   "outputs": [
    {
     "name": "stdout",
     "output_type": "stream",
     "text": [
      "           5.36\n"
     ]
    }
   ],
   "source": [
    "x=5.36182359\n",
    "a=\"{:15.2f}\".format(x)\n",
    "print(a)"
   ]
  },
  {
   "cell_type": "markdown",
   "id": "a80dcd80",
   "metadata": {},
   "source": [
    "문자 개수를 세는 함수는 count() 함수이다. 변수a의 문자열에 포함된 문자의 개수를 셀 떄 유용하다. "
   ]
  },
  {
   "cell_type": "code",
   "execution_count": 59,
   "id": "d4fe3798",
   "metadata": {},
   "outputs": [
    {
     "data": {
      "text/plain": [
       "2"
      ]
     },
     "execution_count": 59,
     "metadata": {},
     "output_type": "execute_result"
    }
   ],
   "source": [
    "a=\"I eat banana.\"\n",
    "a.count(\"n\")"
   ]
  },
  {
   "cell_type": "markdown",
   "id": "ee403eef",
   "metadata": {},
   "source": [
    "find()와 index() 함수는 찾고 싶은 문자의 위치를 찾아 인덱스 값을 반환해준다.  \n",
    "문자열 안에서 찾는 문자의 첫번째 위치의 문자 인덱스 값을 나타낸다."
   ]
  },
  {
   "cell_type": "code",
   "execution_count": 60,
   "id": "7c9fed52",
   "metadata": {},
   "outputs": [
    {
     "name": "stdout",
     "output_type": "stream",
     "text": [
      "8\n",
      "8\n"
     ]
    }
   ],
   "source": [
    "a=\"I eat banana.\"\n",
    "print(a.find(\"n\"))\n",
    "print(a.index(\"n\"))"
   ]
  },
  {
   "cell_type": "markdown",
   "id": "e8ba8092",
   "metadata": {},
   "source": [
    "찾는 문자가 없는 경우 find() 함수는 -1 값을 돌려주고, index()함수는 에러를 발생시킨다. "
   ]
  },
  {
   "cell_type": "code",
   "execution_count": 61,
   "id": "019abc6c",
   "metadata": {},
   "outputs": [
    {
     "name": "stdout",
     "output_type": "stream",
     "text": [
      "-1\n"
     ]
    },
    {
     "ename": "ValueError",
     "evalue": "substring not found",
     "output_type": "error",
     "traceback": [
      "\u001b[1;31m---------------------------------------------------------------------------\u001b[0m",
      "\u001b[1;31mValueError\u001b[0m                                Traceback (most recent call last)",
      "Cell \u001b[1;32mIn[61], line 2\u001b[0m\n\u001b[0;32m      1\u001b[0m \u001b[38;5;28mprint\u001b[39m(a\u001b[38;5;241m.\u001b[39mfind(\u001b[38;5;124m\"\u001b[39m\u001b[38;5;124md\u001b[39m\u001b[38;5;124m\"\u001b[39m))\n\u001b[1;32m----> 2\u001b[0m \u001b[38;5;28mprint\u001b[39m(\u001b[43ma\u001b[49m\u001b[38;5;241;43m.\u001b[39;49m\u001b[43mindex\u001b[49m\u001b[43m(\u001b[49m\u001b[38;5;124;43m\"\u001b[39;49m\u001b[38;5;124;43md\u001b[39;49m\u001b[38;5;124;43m\"\u001b[39;49m\u001b[43m)\u001b[49m)\n",
      "\u001b[1;31mValueError\u001b[0m: substring not found"
     ]
    }
   ],
   "source": [
    "print(a.find(\"d\"))\n",
    "print(a.index(\"d\"))"
   ]
  },
  {
   "cell_type": "markdown",
   "id": "280e9b4c",
   "metadata": {},
   "source": [
    "join()함수는 문자열 안에 값을 삽입할 수 있다."
   ]
  },
  {
   "cell_type": "code",
   "execution_count": 62,
   "id": "42e0ba0a",
   "metadata": {},
   "outputs": [
    {
     "name": "stdout",
     "output_type": "stream",
     "text": [
      "f,r,u,i,t\n"
     ]
    }
   ],
   "source": [
    "b=\",\".join(\"fruit\")\n",
    "print(b)"
   ]
  },
  {
   "cell_type": "markdown",
   "id": "8219e398",
   "metadata": {},
   "source": [
    "upper()함수는 소문자를 대문자로 바꾸고, lower()함수는 대문자를 소문자로 바꾼다. "
   ]
  },
  {
   "cell_type": "code",
   "execution_count": 63,
   "id": "09dd74f6",
   "metadata": {},
   "outputs": [
    {
     "name": "stdout",
     "output_type": "stream",
     "text": [
      "HELLO!\n",
      "hello!\n"
     ]
    }
   ],
   "source": [
    "a=\"Hello!\"\n",
    "print(a.upper())\n",
    "print(a.lower())"
   ]
  },
  {
   "cell_type": "markdown",
   "id": "466c8f92",
   "metadata": {},
   "source": [
    "strip() 함수는 문자열 사이 공백을 지울 수 있으며, strip()함수는 문자열 양쪽 공백, lstrip()함수는 왼쪽 공백, rstrip()함수는 오른쪽 공백을 제거한다.   \n",
    "한줄에 여러 문장을 작성할 때는 세미콜론으로 구분한다. "
   ]
  },
  {
   "cell_type": "code",
   "execution_count": 65,
   "id": "098d1d33",
   "metadata": {},
   "outputs": [
    {
     "name": "stdout",
     "output_type": "stream",
     "text": [
      "Hello\n",
      "Hello   \n",
      "    Hello\n"
     ]
    }
   ],
   "source": [
    "a=\"    Hello   \"\n",
    "print(a.strip());print(a.lstrip());print(a.rstrip())"
   ]
  },
  {
   "cell_type": "markdown",
   "id": "c70534c2",
   "metadata": {},
   "source": [
    "split()함수는 구분자를 생략하여 공백을 문자열로 나눈다.   \n",
    "만약 구분자를 지정하면 구분자를 기준으로 공백을 나눈다. "
   ]
  },
  {
   "cell_type": "code",
   "execution_count": 67,
   "id": "4b2c57cb",
   "metadata": {},
   "outputs": [
    {
     "data": {
      "text/plain": [
       "['I', 'eat', 'banana.']"
      ]
     },
     "execution_count": 67,
     "metadata": {},
     "output_type": "execute_result"
    }
   ],
   "source": [
    "a=\"I eat banana.\"\n",
    "a.split()"
   ]
  },
  {
   "cell_type": "code",
   "execution_count": 68,
   "id": "77d87148",
   "metadata": {},
   "outputs": [
    {
     "data": {
      "text/plain": [
       "['a', 'b', 'C', 'd', 'v']"
      ]
     },
     "execution_count": 68,
     "metadata": {},
     "output_type": "execute_result"
    }
   ],
   "source": [
    "a=\"a:b:C:d:v\"\n",
    "a.split(':')"
   ]
  },
  {
   "cell_type": "markdown",
   "id": "d69e122f",
   "metadata": {},
   "source": [
    "replace()함수는 문자열의 값을 원하는 값으로 대체할 수 있다. replace(찾을 값, 바꿀 값, 횟수)를 입력하면 변경하능하다. "
   ]
  },
  {
   "cell_type": "code",
   "execution_count": 70,
   "id": "e28f2573",
   "metadata": {},
   "outputs": [
    {
     "name": "stdout",
     "output_type": "stream",
     "text": [
      "I ebt banana.\n",
      "I ebt bbnbnb.\n"
     ]
    }
   ],
   "source": [
    "a=\"I eat banana.\"\n",
    "print(a.replace(\"a\",\"b\",1))\n",
    "print(a.replace(\"a\",\"b\"))"
   ]
  },
  {
   "cell_type": "markdown",
   "id": "916fc4fe",
   "metadata": {},
   "source": [
    "bool은 논리적으로 참과 거짓을 나타낸다. "
   ]
  },
  {
   "cell_type": "code",
   "execution_count": 71,
   "id": "ad74d9e8",
   "metadata": {
    "scrolled": true
   },
   "outputs": [
    {
     "name": "stdout",
     "output_type": "stream",
     "text": [
      "True\n",
      "False\n"
     ]
    }
   ],
   "source": [
    "print(1==1)\n",
    "print(10<8)"
   ]
  },
  {
   "cell_type": "markdown",
   "id": "9ca2bc48",
   "metadata": {},
   "source": [
    "bool()함수 조건에 맞는 값의 경우 bool()함수가 판단한 값을 출력한다.  \n",
    "해당 문자가 있는 경우 true, 비어있는 경우 false를 출력한다. "
   ]
  },
  {
   "cell_type": "code",
   "execution_count": 72,
   "id": "4c4d0db1",
   "metadata": {},
   "outputs": [
    {
     "name": "stdout",
     "output_type": "stream",
     "text": [
      "True\n",
      "False\n"
     ]
    }
   ],
   "source": [
    "print(bool(\"Python\"))\n",
    "print(bool(None))"
   ]
  },
  {
   "cell_type": "code",
   "execution_count": 73,
   "id": "530f32db",
   "metadata": {},
   "outputs": [
    {
     "data": {
      "text/plain": [
       "False"
      ]
     },
     "execution_count": 73,
     "metadata": {},
     "output_type": "execute_result"
    }
   ],
   "source": [
    "bool(\"\")"
   ]
  },
  {
   "cell_type": "code",
   "execution_count": 76,
   "id": "5de4e21e",
   "metadata": {},
   "outputs": [
    {
     "data": {
      "text/plain": [
       "False"
      ]
     },
     "execution_count": 76,
     "metadata": {},
     "output_type": "execute_result"
    }
   ],
   "source": [
    "bool(\" \")\n",
    "bool([1,2,3])\n",
    "bool([])\n",
    "bool(())\n",
    "bool(0)"
   ]
  },
  {
   "cell_type": "markdown",
   "id": "6390a3cd",
   "metadata": {},
   "source": [
    "# 복습"
   ]
  },
  {
   "cell_type": "code",
   "execution_count": 6,
   "id": "a56e8a7d",
   "metadata": {},
   "outputs": [
    {
     "data": {
      "text/plain": [
       "359"
      ]
     },
     "execution_count": 6,
     "metadata": {},
     "output_type": "execute_result"
    }
   ],
   "source": [
    "a=359\n",
    "a"
   ]
  },
  {
   "cell_type": "code",
   "execution_count": 5,
   "id": "2abc4c13",
   "metadata": {},
   "outputs": [
    {
     "name": "stdout",
     "output_type": "stream",
     "text": [
      "<class 'int'>\n"
     ]
    }
   ],
   "source": [
    "a=359\n",
    "print(type(a))"
   ]
  },
  {
   "cell_type": "code",
   "execution_count": 7,
   "id": "559d0117",
   "metadata": {},
   "outputs": [
    {
     "name": "stdout",
     "output_type": "stream",
     "text": [
      "<class 'float'>\n"
     ]
    }
   ],
   "source": [
    "a=-3.6159\n",
    "print(type(a))"
   ]
  },
  {
   "cell_type": "code",
   "execution_count": 8,
   "id": "02457f61",
   "metadata": {},
   "outputs": [
    {
     "data": {
      "text/plain": [
       "36"
      ]
     },
     "execution_count": 8,
     "metadata": {},
     "output_type": "execute_result"
    }
   ],
   "source": [
    "a=27\n",
    "b=9\n",
    "a+b"
   ]
  },
  {
   "cell_type": "code",
   "execution_count": 9,
   "id": "fdc4078d",
   "metadata": {},
   "outputs": [
    {
     "data": {
      "text/plain": [
       "18"
      ]
     },
     "execution_count": 9,
     "metadata": {},
     "output_type": "execute_result"
    }
   ],
   "source": [
    "a-b"
   ]
  },
  {
   "cell_type": "code",
   "execution_count": 10,
   "id": "1b725ddb",
   "metadata": {},
   "outputs": [
    {
     "data": {
      "text/plain": [
       "243"
      ]
     },
     "execution_count": 10,
     "metadata": {},
     "output_type": "execute_result"
    }
   ],
   "source": [
    "a*b"
   ]
  },
  {
   "cell_type": "code",
   "execution_count": 11,
   "id": "c2fecbb8",
   "metadata": {},
   "outputs": [
    {
     "name": "stdout",
     "output_type": "stream",
     "text": [
      "3.0\n"
     ]
    }
   ],
   "source": [
    "print(a/b)"
   ]
  },
  {
   "cell_type": "code",
   "execution_count": 12,
   "id": "10c2f6bd",
   "metadata": {},
   "outputs": [
    {
     "name": "stdout",
     "output_type": "stream",
     "text": [
      "3\n"
     ]
    }
   ],
   "source": [
    "print(a//b)"
   ]
  },
  {
   "cell_type": "code",
   "execution_count": 13,
   "id": "d1e18390",
   "metadata": {},
   "outputs": [
    {
     "name": "stdout",
     "output_type": "stream",
     "text": [
      "0\n"
     ]
    }
   ],
   "source": [
    "print(a%b)"
   ]
  },
  {
   "cell_type": "code",
   "execution_count": 14,
   "id": "8d550dae",
   "metadata": {},
   "outputs": [
    {
     "data": {
      "text/plain": [
       "64"
      ]
     },
     "execution_count": 14,
     "metadata": {},
     "output_type": "execute_result"
    }
   ],
   "source": [
    "4**3"
   ]
  },
  {
   "cell_type": "code",
   "execution_count": 15,
   "id": "c7f1dc33",
   "metadata": {},
   "outputs": [
    {
     "data": {
      "text/plain": [
       "7.0"
      ]
     },
     "execution_count": 15,
     "metadata": {},
     "output_type": "execute_result"
    }
   ],
   "source": [
    "3+2**3/(5-3)"
   ]
  },
  {
   "cell_type": "code",
   "execution_count": 16,
   "id": "8c7babab",
   "metadata": {},
   "outputs": [
    {
     "data": {
      "text/plain": [
       "3"
      ]
     },
     "execution_count": 16,
     "metadata": {},
     "output_type": "execute_result"
    }
   ],
   "source": [
    "abs(-3)"
   ]
  },
  {
   "cell_type": "code",
   "execution_count": 17,
   "id": "dd81f09f",
   "metadata": {},
   "outputs": [
    {
     "data": {
      "text/plain": [
       "3.142"
      ]
     },
     "execution_count": 17,
     "metadata": {},
     "output_type": "execute_result"
    }
   ],
   "source": [
    "round(3.14159,3)"
   ]
  },
  {
   "cell_type": "code",
   "execution_count": 18,
   "id": "eea8067b",
   "metadata": {},
   "outputs": [
    {
     "name": "stdout",
     "output_type": "stream",
     "text": [
      "311\n",
      "2044\n"
     ]
    }
   ],
   "source": [
    "a=0o467\n",
    "b=0x7fc\n",
    "print(a)\n",
    "print(b)"
   ]
  },
  {
   "cell_type": "code",
   "execution_count": 19,
   "id": "2dc72be1",
   "metadata": {},
   "outputs": [
    {
     "data": {
      "text/plain": [
       "'Hello Python!'"
      ]
     },
     "execution_count": 19,
     "metadata": {},
     "output_type": "execute_result"
    }
   ],
   "source": [
    "a=\"Hello Python!\"\n",
    "a"
   ]
  },
  {
   "cell_type": "code",
   "execution_count": 21,
   "id": "74ad632b",
   "metadata": {},
   "outputs": [
    {
     "data": {
      "text/plain": [
       "str"
      ]
     },
     "execution_count": 21,
     "metadata": {},
     "output_type": "execute_result"
    }
   ],
   "source": [
    "type(a)"
   ]
  },
  {
   "cell_type": "code",
   "execution_count": 22,
   "id": "9ff6ae94",
   "metadata": {},
   "outputs": [
    {
     "name": "stdout",
     "output_type": "stream",
     "text": [
      "It's mine.\n"
     ]
    }
   ],
   "source": [
    "sen=\"It's mine.\"\n",
    "print(sen)"
   ]
  },
  {
   "cell_type": "code",
   "execution_count": 23,
   "id": "205dca32",
   "metadata": {},
   "outputs": [
    {
     "name": "stdout",
     "output_type": "stream",
     "text": [
      "\"It is impossible.\"He says.\n"
     ]
    }
   ],
   "source": [
    "sen2='\"It is impossible.\"He says.'\n",
    "print(sen2)"
   ]
  },
  {
   "cell_type": "code",
   "execution_count": 24,
   "id": "0f692e55",
   "metadata": {},
   "outputs": [
    {
     "name": "stdout",
     "output_type": "stream",
     "text": [
      "It's mine.\n",
      "\"It is impossible.\" He says.\n"
     ]
    }
   ],
   "source": [
    "sen3='It\\'s mine.'\n",
    "sen4=\"\\\"It is impossible.\\\" He says.\"\n",
    "print(sen3)\n",
    "print(sen4)"
   ]
  },
  {
   "cell_type": "code",
   "execution_count": 25,
   "id": "2c5a22f9",
   "metadata": {},
   "outputs": [
    {
     "name": "stdout",
     "output_type": "stream",
     "text": [
      "Hello!\n",
      "Python!\n"
     ]
    }
   ],
   "source": [
    "a=\"\"\"Hello!\n",
    "Python!\"\"\"\n",
    "print(a)"
   ]
  },
  {
   "cell_type": "code",
   "execution_count": 26,
   "id": "877e224e",
   "metadata": {},
   "outputs": [
    {
     "name": "stdout",
     "output_type": "stream",
     "text": [
      "Hello! \n",
      "Python!\n"
     ]
    }
   ],
   "source": [
    "a=\"Hello! \\nPython!\"\n",
    "print(a)"
   ]
  },
  {
   "cell_type": "code",
   "execution_count": 29,
   "id": "efd6446a",
   "metadata": {},
   "outputs": [
    {
     "name": "stdout",
     "output_type": "stream",
     "text": [
      "Hello \n",
      "\n",
      "\n",
      "Python!\n"
     ]
    }
   ],
   "source": [
    "a=\"Hello \\n\\n\\nPython!\"\n",
    "print(a)"
   ]
  },
  {
   "cell_type": "code",
   "execution_count": 32,
   "id": "ac3d049b",
   "metadata": {},
   "outputs": [
    {
     "data": {
      "text/plain": [
       "\"Hello 'Python!'\""
      ]
     },
     "execution_count": 32,
     "metadata": {},
     "output_type": "execute_result"
    }
   ],
   "source": [
    "a=\"Hello \\'Python!'\"\n",
    "a"
   ]
  },
  {
   "cell_type": "code",
   "execution_count": 44,
   "id": "29c52e79",
   "metadata": {},
   "outputs": [
    {
     "name": "stdout",
     "output_type": "stream",
     "text": [
      "Hello \tPython!\n"
     ]
    }
   ],
   "source": [
    "a=\"Hello \\tPython!\"\n",
    "print(a)"
   ]
  },
  {
   "cell_type": "code",
   "execution_count": 45,
   "id": "714cea0c",
   "metadata": {},
   "outputs": [
    {
     "name": "stdout",
     "output_type": "stream",
     "text": [
      "Hello!Python!\n"
     ]
    }
   ],
   "source": [
    "a=\"Hello!\"\n",
    "b=\"Python!\"\n",
    "print(a+b)"
   ]
  },
  {
   "cell_type": "code",
   "execution_count": 46,
   "id": "6fbd4745",
   "metadata": {},
   "outputs": [
    {
     "data": {
      "text/plain": [
       "'Hello!Hello!Hello!'"
      ]
     },
     "execution_count": 46,
     "metadata": {},
     "output_type": "execute_result"
    }
   ],
   "source": [
    "a*3"
   ]
  },
  {
   "cell_type": "code",
   "execution_count": 47,
   "id": "a9c9e2e2",
   "metadata": {},
   "outputs": [
    {
     "data": {
      "text/plain": [
       "'Hello!Hello!Hello!Hello!Hello!Hello!Hello!'"
      ]
     },
     "execution_count": 47,
     "metadata": {},
     "output_type": "execute_result"
    }
   ],
   "source": [
    "a*7"
   ]
  },
  {
   "cell_type": "code",
   "execution_count": 48,
   "id": "27ba3aab",
   "metadata": {},
   "outputs": [
    {
     "data": {
      "text/plain": [
       "'263'"
      ]
     },
     "execution_count": 48,
     "metadata": {},
     "output_type": "execute_result"
    }
   ],
   "source": [
    "a=\"26\"\n",
    "b=\"3\"\n",
    "a+b"
   ]
  },
  {
   "cell_type": "code",
   "execution_count": 49,
   "id": "d3b16d67",
   "metadata": {},
   "outputs": [
    {
     "data": {
      "text/plain": [
       "'26262626262626'"
      ]
     },
     "execution_count": 49,
     "metadata": {},
     "output_type": "execute_result"
    }
   ],
   "source": [
    "a*7"
   ]
  },
  {
   "cell_type": "code",
   "execution_count": 50,
   "id": "3a7619c4",
   "metadata": {},
   "outputs": [
    {
     "data": {
      "text/plain": [
       "'263263263'"
      ]
     },
     "execution_count": 50,
     "metadata": {},
     "output_type": "execute_result"
    }
   ],
   "source": [
    "(a+b)*3"
   ]
  },
  {
   "cell_type": "code",
   "execution_count": null,
   "id": "93085359",
   "metadata": {},
   "outputs": [],
   "source": []
  }
 ],
 "metadata": {
  "kernelspec": {
   "display_name": "Python 3 (ipykernel)",
   "language": "python",
   "name": "python3"
  },
  "language_info": {
   "codemirror_mode": {
    "name": "ipython",
    "version": 3
   },
   "file_extension": ".py",
   "mimetype": "text/x-python",
   "name": "python",
   "nbconvert_exporter": "python",
   "pygments_lexer": "ipython3",
   "version": "3.10.9"
  }
 },
 "nbformat": 4,
 "nbformat_minor": 5
}
