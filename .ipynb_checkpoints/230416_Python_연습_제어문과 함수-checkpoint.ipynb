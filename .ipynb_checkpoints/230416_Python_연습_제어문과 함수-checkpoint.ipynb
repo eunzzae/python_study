{
 "cells": [
  {
   "cell_type": "markdown",
   "id": "8cccc948",
   "metadata": {},
   "source": [
    "# 03. 제어문과 함수\n",
    "\n",
    "> ## 3.1 제어문"
   ]
  },
  {
   "cell_type": "code",
   "execution_count": 1,
   "id": "804be559",
   "metadata": {},
   "outputs": [
    {
     "data": {
      "text/plain": [
       "True"
      ]
     },
     "execution_count": 1,
     "metadata": {},
     "output_type": "execute_result"
    }
   ],
   "source": [
    "x=10\n",
    "y=5\n",
    "x>y"
   ]
  },
  {
   "cell_type": "code",
   "execution_count": 2,
   "id": "3e8f6a8e",
   "metadata": {},
   "outputs": [
    {
     "data": {
      "text/plain": [
       "False"
      ]
     },
     "execution_count": 2,
     "metadata": {},
     "output_type": "execute_result"
    }
   ],
   "source": [
    "x==y"
   ]
  },
  {
   "cell_type": "code",
   "execution_count": 3,
   "id": "0b3a8ee1",
   "metadata": {},
   "outputs": [
    {
     "data": {
      "text/plain": [
       "True"
      ]
     },
     "execution_count": 3,
     "metadata": {},
     "output_type": "execute_result"
    }
   ],
   "source": [
    "x!=y"
   ]
  },
  {
   "cell_type": "code",
   "execution_count": 6,
   "id": "2f884227",
   "metadata": {},
   "outputs": [
    {
     "data": {
      "text/plain": [
       "True"
      ]
     },
     "execution_count": 6,
     "metadata": {},
     "output_type": "execute_result"
    }
   ],
   "source": [
    "x=True\n",
    "y=False\n",
    "x or y"
   ]
  },
  {
   "cell_type": "code",
   "execution_count": 7,
   "id": "42662f79",
   "metadata": {},
   "outputs": [
    {
     "data": {
      "text/plain": [
       "False"
      ]
     },
     "execution_count": 7,
     "metadata": {},
     "output_type": "execute_result"
    }
   ],
   "source": [
    "x and y"
   ]
  },
  {
   "cell_type": "code",
   "execution_count": 8,
   "id": "6774e570",
   "metadata": {},
   "outputs": [
    {
     "data": {
      "text/plain": [
       "True"
      ]
     },
     "execution_count": 8,
     "metadata": {},
     "output_type": "execute_result"
    }
   ],
   "source": [
    "10 in [10,20,40]"
   ]
  },
  {
   "cell_type": "code",
   "execution_count": 9,
   "id": "31e0e72f",
   "metadata": {},
   "outputs": [
    {
     "data": {
      "text/plain": [
       "False"
      ]
     },
     "execution_count": 9,
     "metadata": {},
     "output_type": "execute_result"
    }
   ],
   "source": [
    "\"x\" not in (\"x\",\"y\",\"z\")"
   ]
  },
  {
   "cell_type": "markdown",
   "id": "341347f6",
   "metadata": {},
   "source": [
    "**if문으로 짝수/홀수 판단**  \n",
    "\n",
    "x가 3일 때, x%2의 결과값이 1이므로 1==0 비교 연산은 거짓이 된다. "
   ]
  },
  {
   "cell_type": "code",
   "execution_count": 11,
   "id": "9eab7167",
   "metadata": {},
   "outputs": [
    {
     "name": "stdout",
     "output_type": "stream",
     "text": [
      "홀수\n"
     ]
    }
   ],
   "source": [
    "x=3\n",
    "if x%2==0:\n",
    "    print(\"짝수\")\n",
    "else:\n",
    "    print(\"홀수\")"
   ]
  },
  {
   "cell_type": "markdown",
   "id": "f6df214f",
   "metadata": {},
   "source": [
    "**if문에서 리스트 활용하기**  \n",
    "\n",
    "조건문에서는 리스트 변수를 활용할 수 있다. "
   ]
  },
  {
   "cell_type": "code",
   "execution_count": 12,
   "id": "0adf7f93",
   "metadata": {},
   "outputs": [
    {
     "name": "stdout",
     "output_type": "stream",
     "text": [
      "강감찬님은 합격입니다.\n"
     ]
    }
   ],
   "source": [
    "pass_list=[\"이순신\",\"을지문덕\",\"연개소문\",\"강감찬\"]\n",
    "name=\"강감찬\"\n",
    "if name in pass_list:\n",
    "    print(name+\"님은 합격입니다.\")\n",
    "else:\n",
    "    print(name+\"님은 불합격입니다.\")"
   ]
  },
  {
   "cell_type": "markdown",
   "id": "11de2eb7",
   "metadata": {},
   "source": [
    "**elif문**  \n",
    "\n",
    "수행할 조건이 하나가 아니라 여러 개가 있는 경우 if~else문에 elif문을 추가하여 사용한다.   \n",
    "elif는 이전 조건문의 값이 거짓일 때 수행한다. "
   ]
  },
  {
   "cell_type": "code",
   "execution_count": 13,
   "id": "300e92b4",
   "metadata": {},
   "outputs": [
    {
     "name": "stdout",
     "output_type": "stream",
     "text": [
      "보통\n"
     ]
    }
   ],
   "source": [
    "x=55\n",
    "if x>=70:\n",
    "    print(\"양호\")\n",
    "elif x>=40:\n",
    "    print(\"보통\")\n",
    "else:\n",
    "    print(\"불량\")"
   ]
  },
  {
   "cell_type": "code",
   "execution_count": 14,
   "id": "ec5ccf6c",
   "metadata": {},
   "outputs": [],
   "source": [
    "if x>=80:\n",
    "    msg=\"합격\"\n",
    "else:\n",
    "    msg=\"불합격\""
   ]
  },
  {
   "cell_type": "code",
   "execution_count": 16,
   "id": "acecdb1b",
   "metadata": {},
   "outputs": [
    {
     "ename": "SyntaxError",
     "evalue": "invalid syntax (2251069664.py, line 1)",
     "output_type": "error",
     "traceback": [
      "\u001b[1;36m  Cell \u001b[1;32mIn[16], line 1\u001b[1;36m\u001b[0m\n\u001b[1;33m    msg=\"합격\" if x>=80 else=\"불합격\"\u001b[0m\n\u001b[1;37m                          ^\u001b[0m\n\u001b[1;31mSyntaxError\u001b[0m\u001b[1;31m:\u001b[0m invalid syntax\n"
     ]
    }
   ],
   "source": [
    "msg=\"합격\" if x>=80 else=\"불합격\""
   ]
  },
  {
   "cell_type": "markdown",
   "id": "d06e8c16",
   "metadata": {},
   "source": [
    "**While문**  \n",
    "\n",
    "반복해서 코드를 수행해야 할 경우 while문을 사용한다.    \n",
    "While문은 조건문이 참인 동안 while 아래 코드가 반복해서 수행된다. "
   ]
  },
  {
   "cell_type": "markdown",
   "id": "c5f277a1",
   "metadata": {},
   "source": [
    "while문으로 1부터 100까지 더하는 코드 작성식은 아래와 같다. while문의 조건식이 참일 떄, i가 101보다 작을 떄까지 while문 아래 코드 블록이 반복되어 수행된다.   \n",
    "\n",
    "변수 sum에 i를 더하고 계속해서 i를 1씩 증가시키다가 i가 101이 되면 조건문이 거짓이 되어 while문이 종료된다. "
   ]
  },
  {
   "cell_type": "code",
   "execution_count": null,
   "id": "03082af0",
   "metadata": {},
   "outputs": [],
   "source": [
    "i=1\n",
    "sum=0\n",
    "while i<101:\n",
    "    sum=sum+i\n",
    "    i=i+1\n",
    "print(\"1+2+...+99+100=\",sum)"
   ]
  },
  {
   "cell_type": "markdown",
   "id": "0dbaf1aa",
   "metadata": {},
   "source": [
    "**break문**  \n",
    "\n",
    "while문은 특정 조건을 만족하는 동안 코드 블록을 무한 반복한다.  \n",
    "이를 멈추기 위해서는 break문을 활용한다. "
   ]
  },
  {
   "cell_type": "code",
   "execution_count": 18,
   "id": "b0f02915",
   "metadata": {},
   "outputs": [
    {
     "name": "stdout",
     "output_type": "stream",
     "text": [
      "남은 계란은 1개 입니다.\n",
      "남은 계란은 0개 입니다.\n",
      "계란이 없습니다.\n"
     ]
    }
   ],
   "source": [
    "egg=2\n",
    "while True:\n",
    "    egg=egg-1\n",
    "    print(\"남은 계란은 %d개 입니다.\"%egg)\n",
    "    if egg==0:\n",
    "        print(\"계란이 없습니다.\")\n",
    "        break"
   ]
  },
  {
   "cell_type": "markdown",
   "id": "df47b28c",
   "metadata": {},
   "source": [
    "**continue문**  \n",
    "\n",
    "while문의 코드 블록을 실행하다가 어떤 특정 조건을 만족하면 나머지는 실행하지 않고 다시 처음부터 while문을 실행할 때 continue문을 사용한다. "
   ]
  },
  {
   "cell_type": "code",
   "execution_count": 21,
   "id": "a568d0aa",
   "metadata": {},
   "outputs": [
    {
     "name": "stdout",
     "output_type": "stream",
     "text": [
      "1\n",
      "3\n",
      "5\n",
      "7\n",
      "9\n"
     ]
    }
   ],
   "source": [
    "i=0\n",
    "while i<10:\n",
    "    i=i+1\n",
    "    if i%2 == 0:continue\n",
    "    print(i)\n",
    "        "
   ]
  },
  {
   "cell_type": "markdown",
   "id": "309f245c",
   "metadata": {},
   "source": [
    "**for문**  \n",
    "\n",
    "for문은 while문과 달리 지정한 횟수만큼 코드를 반복할 떄 주로 사용한다.   \n",
    "리스트, 튜플, 문자열로 반복 범위를 지정할 수 있다. "
   ]
  },
  {
   "cell_type": "code",
   "execution_count": 22,
   "id": "3df0b711",
   "metadata": {},
   "outputs": [
    {
     "name": "stdout",
     "output_type": "stream",
     "text": [
      "네이버\n",
      "구글\n",
      "다음\n"
     ]
    }
   ],
   "source": [
    "web_list=[\"네이버\",\"구글\",\"다음\"]\n",
    "for a in web_list:\n",
    "    print(a)"
   ]
  },
  {
   "cell_type": "code",
   "execution_count": 23,
   "id": "3111397a",
   "metadata": {},
   "outputs": [
    {
     "name": "stdout",
     "output_type": "stream",
     "text": [
      "18\n",
      "24\n",
      "27\n"
     ]
    }
   ],
   "source": [
    "a=[(3,6),(4,6),(3,9)]\n",
    "for(x,y) in a:\n",
    "    print(x*y)"
   ]
  },
  {
   "cell_type": "markdown",
   "id": "e6c917a5",
   "metadata": {},
   "source": [
    "**range()함수**  \n",
    "\n",
    "for문은 숫자 리스트를 자동으로 만들어주는 range()함수와 함께 사용한다.   \n",
    "범위의 시작 숫자, 끝 숫자, 간격을 차례로 지정한다.   \n",
    "\n",
    "range(시작숫자, 끝숫자(인덱스 규칙과 동일), 간격)"
   ]
  },
  {
   "cell_type": "code",
   "execution_count": 24,
   "id": "a2c0bccf",
   "metadata": {},
   "outputs": [
    {
     "name": "stdout",
     "output_type": "stream",
     "text": [
      "[1, 2, 3, 4, 5, 6, 7, 8, 9] [1, 3, 5, 7, 9] [10, 9, 8, 7, 6, 5, 4, 3, 2]\n"
     ]
    }
   ],
   "source": [
    "a=list(range(1,10))\n",
    "b=list(range(1,10,2))\n",
    "c=list(range(10,1,-1))\n",
    "print(a,b,c)"
   ]
  },
  {
   "cell_type": "code",
   "execution_count": 25,
   "id": "ce30c0f1",
   "metadata": {},
   "outputs": [
    {
     "name": "stdout",
     "output_type": "stream",
     "text": [
      "2500\n"
     ]
    }
   ],
   "source": [
    "sum=0\n",
    "for a in range(1,100,2):\n",
    "    sum=a+sum\n",
    "print(sum)"
   ]
  },
  {
   "cell_type": "code",
   "execution_count": 26,
   "id": "19ac5c11",
   "metadata": {},
   "outputs": [
    {
     "name": "stdout",
     "output_type": "stream",
     "text": [
      "2X2=4 \t2X3=6 \t2X4=8 \t2X5=10 \t2X6=12 \t\n",
      "3X2=6 \t3X3=9 \t3X4=12 \t3X5=15 \t3X6=18 \t\n",
      "4X2=8 \t4X3=12 \t4X4=16 \t4X5=20 \t4X6=24 \t\n",
      "5X2=10 \t5X3=15 \t5X4=20 \t5X5=25 \t5X6=30 \t\n",
      "6X2=12 \t6X3=18 \t6X4=24 \t6X5=30 \t6X6=36 \t\n",
      "7X2=14 \t7X3=21 \t7X4=28 \t7X5=35 \t7X6=42 \t\n"
     ]
    }
   ],
   "source": [
    "for x in range(2,8):\n",
    "    for y in range(2,7):\n",
    "        print(\"%dX%d=%d\"%(x,y,x*y),\"\\t\",end=\"\")\n",
    "    print(\"\")"
   ]
  },
  {
   "cell_type": "markdown",
   "id": "a854bd0e",
   "metadata": {},
   "source": [
    "**continue문**  \n",
    "\n",
    "scores튜플에서 num과 score에 데이터를 불러온다.   \n",
    "이후 if 문에서 score가 83으로 60보다 크므로 continue문은 실행되지 않고 print()함수가 실행된다. "
   ]
  },
  {
   "cell_type": "code",
   "execution_count": 27,
   "id": "7559e9c2",
   "metadata": {},
   "outputs": [
    {
     "name": "stdout",
     "output_type": "stream",
     "text": [
      "1번 학생 축하합니다.\n",
      "2번 학생 축하합니다.\n",
      "4번 학생 축하합니다.\n"
     ]
    }
   ],
   "source": [
    "scores=[(1,83),(2,66),(3,55),(4,70),(5,50)]\n",
    "for num, score in scores:\n",
    "    if score<60:\n",
    "        continue\n",
    "    print(\"%d번 학생 축하합니다.\"%num)"
   ]
  },
  {
   "cell_type": "markdown",
   "id": "4cc182f4",
   "metadata": {},
   "source": [
    "# 복습"
   ]
  },
  {
   "cell_type": "code",
   "execution_count": 1,
   "id": "46900c6b",
   "metadata": {},
   "outputs": [
    {
     "data": {
      "text/plain": [
       "True"
      ]
     },
     "execution_count": 1,
     "metadata": {},
     "output_type": "execute_result"
    }
   ],
   "source": [
    "x=10\n",
    "y=5\n",
    "x>y"
   ]
  },
  {
   "cell_type": "code",
   "execution_count": 2,
   "id": "c14c3bb2",
   "metadata": {},
   "outputs": [
    {
     "data": {
      "text/plain": [
       "False"
      ]
     },
     "execution_count": 2,
     "metadata": {},
     "output_type": "execute_result"
    }
   ],
   "source": [
    "x=5\n",
    "y=5\n",
    "x!=y"
   ]
  },
  {
   "cell_type": "code",
   "execution_count": 3,
   "id": "f87b6497",
   "metadata": {},
   "outputs": [
    {
     "data": {
      "text/plain": [
       "True"
      ]
     },
     "execution_count": 3,
     "metadata": {},
     "output_type": "execute_result"
    }
   ],
   "source": [
    "x==y"
   ]
  },
  {
   "cell_type": "code",
   "execution_count": 4,
   "id": "84b0fb6d",
   "metadata": {},
   "outputs": [
    {
     "data": {
      "text/plain": [
       "True"
      ]
     },
     "execution_count": 4,
     "metadata": {},
     "output_type": "execute_result"
    }
   ],
   "source": [
    "x=True\n",
    "y=False\n",
    "x or y"
   ]
  },
  {
   "cell_type": "code",
   "execution_count": 5,
   "id": "24722f6e",
   "metadata": {},
   "outputs": [
    {
     "data": {
      "text/plain": [
       "False"
      ]
     },
     "execution_count": 5,
     "metadata": {},
     "output_type": "execute_result"
    }
   ],
   "source": [
    "not x"
   ]
  },
  {
   "cell_type": "code",
   "execution_count": 6,
   "id": "7b91c1c0",
   "metadata": {},
   "outputs": [
    {
     "data": {
      "text/plain": [
       "True"
      ]
     },
     "execution_count": 6,
     "metadata": {},
     "output_type": "execute_result"
    }
   ],
   "source": [
    "not y"
   ]
  },
  {
   "cell_type": "code",
   "execution_count": 7,
   "id": "73538419",
   "metadata": {},
   "outputs": [
    {
     "data": {
      "text/plain": [
       "False"
      ]
     },
     "execution_count": 7,
     "metadata": {},
     "output_type": "execute_result"
    }
   ],
   "source": [
    "x and y"
   ]
  },
  {
   "cell_type": "code",
   "execution_count": 8,
   "id": "1d5b117c",
   "metadata": {},
   "outputs": [
    {
     "data": {
      "text/plain": [
       "True"
      ]
     },
     "execution_count": 8,
     "metadata": {},
     "output_type": "execute_result"
    }
   ],
   "source": [
    "10 in [10,20,30]"
   ]
  },
  {
   "cell_type": "code",
   "execution_count": 9,
   "id": "31f95048",
   "metadata": {},
   "outputs": [
    {
     "data": {
      "text/plain": [
       "False"
      ]
     },
     "execution_count": 9,
     "metadata": {},
     "output_type": "execute_result"
    }
   ],
   "source": [
    "\"x\" not in (\"x\",\"y\",\"z\")"
   ]
  },
  {
   "cell_type": "code",
   "execution_count": 10,
   "id": "ac49c045",
   "metadata": {},
   "outputs": [
    {
     "name": "stdout",
     "output_type": "stream",
     "text": [
      "홀수\n"
     ]
    }
   ],
   "source": [
    "x=3\n",
    "if x%2==0:\n",
    "    print(\"짝수\")\n",
    "else:\n",
    "    print(\"홀수\")"
   ]
  },
  {
   "cell_type": "code",
   "execution_count": 11,
   "id": "402b7ccd",
   "metadata": {},
   "outputs": [
    {
     "name": "stdout",
     "output_type": "stream",
     "text": [
      "강감찬님은 합격입니다.\n"
     ]
    }
   ],
   "source": [
    "pass_list=[\"이순신\",\"을지문덕\",\"연개소문\",\"강감찬\"]\n",
    "name=\"강감찬\"\n",
    "if name in pass_list:\n",
    "    print(name+\"님은 합격입니다.\")\n",
    "else:\n",
    "    print(name+\"님은 불합격입니다.\")\n",
    "    "
   ]
  },
  {
   "cell_type": "code",
   "execution_count": 12,
   "id": "c7678e7b",
   "metadata": {},
   "outputs": [
    {
     "name": "stdout",
     "output_type": "stream",
     "text": [
      "보통\n"
     ]
    }
   ],
   "source": [
    "x=55\n",
    "if x>=70:\n",
    "    print(\"양호\")\n",
    "elif x>=40:\n",
    "    print(\"보통\")\n",
    "else:\n",
    "    print(\"불량\")"
   ]
  },
  {
   "cell_type": "code",
   "execution_count": 13,
   "id": "43ee97fb",
   "metadata": {},
   "outputs": [],
   "source": [
    "if x>=80:\n",
    "    msg=\"합격\"\n",
    "else:\n",
    "    msg=\"불합격\""
   ]
  },
  {
   "cell_type": "code",
   "execution_count": 14,
   "id": "42e6e7e4",
   "metadata": {},
   "outputs": [],
   "source": [
    "msg=\"합격\" if x>=80 else \"불합격\""
   ]
  },
  {
   "cell_type": "code",
   "execution_count": 15,
   "id": "39178db5",
   "metadata": {},
   "outputs": [
    {
     "name": "stdout",
     "output_type": "stream",
     "text": [
      "1+2+...+99+100= 5050\n"
     ]
    }
   ],
   "source": [
    "i=1\n",
    "sum=0\n",
    "while i<101:\n",
    "    sum=sum+i\n",
    "    i=i+1\n",
    "print(\"1+2+...+99+100=\",sum)"
   ]
  },
  {
   "cell_type": "code",
   "execution_count": 20,
   "id": "67681367",
   "metadata": {},
   "outputs": [
    {
     "name": "stdout",
     "output_type": "stream",
     "text": [
      "남은 계란은 1개입니다.\n",
      "남은 계란은 0개입니다.\n",
      "계란이 없습니다.\n"
     ]
    }
   ],
   "source": [
    "egg=2\n",
    "while True:\n",
    "    egg=egg-1\n",
    "    print(\"남은 계란은 %d개입니다.\" %egg)\n",
    "    if egg==0:\n",
    "        print(\"계란이 없습니다.\")\n",
    "        break"
   ]
  },
  {
   "cell_type": "code",
   "execution_count": 22,
   "id": "b76e8161",
   "metadata": {},
   "outputs": [
    {
     "name": "stdout",
     "output_type": "stream",
     "text": [
      "1\n",
      "3\n",
      "5\n",
      "7\n",
      "9\n"
     ]
    }
   ],
   "source": [
    "i=0\n",
    "while i<10:\n",
    "    i=i+1\n",
    "    if i%2==0: continue\n",
    "    print(i)"
   ]
  },
  {
   "cell_type": "code",
   "execution_count": null,
   "id": "43e44e00",
   "metadata": {},
   "outputs": [],
   "source": [
    "web_list[\"네이버\",\"구글\",\"다음\"]\n",
    "    for a in web_list:\n",
    "        print(a)"
   ]
  },
  {
   "cell_type": "code",
   "execution_count": null,
   "id": "358177e3",
   "metadata": {},
   "outputs": [],
   "source": [
    "a=[(3,6),(4,5),(3,8)]\n",
    "    for (x,y) in a:\n",
    "        print(x*y)"
   ]
  },
  {
   "cell_type": "code",
   "execution_count": null,
   "id": "d1d2cffb",
   "metadata": {},
   "outputs": [],
   "source": [
    "a=list(range(1,10))\n",
    "b=list(range(1,10,2))\n",
    "c=list(range(10,1,-1))\n",
    "print(a,b,c)"
   ]
  },
  {
   "cell_type": "code",
   "execution_count": null,
   "id": "dc174ecf",
   "metadata": {},
   "outputs": [],
   "source": [
    "sum=0\n",
    "for a in range(1,100,2):\n",
    "    sum=a+sum\n",
    "print(sum)"
   ]
  },
  {
   "cell_type": "code",
   "execution_count": null,
   "id": "91da312a",
   "metadata": {},
   "outputs": [],
   "source": []
  }
 ],
 "metadata": {
  "kernelspec": {
   "display_name": "Python 3 (ipykernel)",
   "language": "python",
   "name": "python3"
  },
  "language_info": {
   "codemirror_mode": {
    "name": "ipython",
    "version": 3
   },
   "file_extension": ".py",
   "mimetype": "text/x-python",
   "name": "python",
   "nbconvert_exporter": "python",
   "pygments_lexer": "ipython3",
   "version": "3.10.9"
  }
 },
 "nbformat": 4,
 "nbformat_minor": 5
}
